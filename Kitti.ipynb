{
  "nbformat": 4,
  "nbformat_minor": 0,
  "metadata": {
    "colab": {
      "name": "Kitti.ipynb",
      "provenance": [],
      "include_colab_link": true
    },
    "kernelspec": {
      "name": "python3",
      "display_name": "Python 3"
    }
  },
  "cells": [
    {
      "cell_type": "markdown",
      "metadata": {
        "id": "view-in-github",
        "colab_type": "text"
      },
      "source": [
        "<a href=\"https://colab.research.google.com/github/juliuserbach/Semantic-Features/blob/master/Kitti.ipynb\" target=\"_parent\"><img src=\"https://colab.research.google.com/assets/colab-badge.svg\" alt=\"Open In Colab\"/></a>"
      ]
    },
    {
      "cell_type": "code",
      "metadata": {
        "id": "VCGu3QnEg0Zx",
        "colab_type": "code",
        "outputId": "5dba2ca0-1126-4322-d4f8-9e1f9a183a12",
        "colab": {
          "base_uri": "https://localhost:8080/",
          "height": 272
        }
      },
      "source": [
        "!pip install pykitti"
      ],
      "execution_count": 0,
      "outputs": [
        {
          "output_type": "stream",
          "text": [
            "Collecting pykitti\n",
            "  Downloading https://files.pythonhosted.org/packages/c3/7e/e2b71b9221ccb8503dce9673e3cb36edcdc314ec374f9e69e6d38ed1abde/pykitti-0.3.1-py2.py3-none-any.whl\n",
            "Requirement already satisfied: pandas in /usr/local/lib/python3.6/dist-packages (from pykitti) (1.0.3)\n",
            "Requirement already satisfied: numpy in /usr/local/lib/python3.6/dist-packages (from pykitti) (1.18.2)\n",
            "Requirement already satisfied: Pillow in /usr/local/lib/python3.6/dist-packages (from pykitti) (7.0.0)\n",
            "Requirement already satisfied: matplotlib in /usr/local/lib/python3.6/dist-packages (from pykitti) (3.2.1)\n",
            "Requirement already satisfied: python-dateutil>=2.6.1 in /usr/local/lib/python3.6/dist-packages (from pandas->pykitti) (2.8.1)\n",
            "Requirement already satisfied: pytz>=2017.2 in /usr/local/lib/python3.6/dist-packages (from pandas->pykitti) (2018.9)\n",
            "Requirement already satisfied: cycler>=0.10 in /usr/local/lib/python3.6/dist-packages (from matplotlib->pykitti) (0.10.0)\n",
            "Requirement already satisfied: kiwisolver>=1.0.1 in /usr/local/lib/python3.6/dist-packages (from matplotlib->pykitti) (1.1.0)\n",
            "Requirement already satisfied: pyparsing!=2.0.4,!=2.1.2,!=2.1.6,>=2.0.1 in /usr/local/lib/python3.6/dist-packages (from matplotlib->pykitti) (2.4.6)\n",
            "Requirement already satisfied: six>=1.5 in /usr/local/lib/python3.6/dist-packages (from python-dateutil>=2.6.1->pandas->pykitti) (1.12.0)\n",
            "Requirement already satisfied: setuptools in /usr/local/lib/python3.6/dist-packages (from kiwisolver>=1.0.1->matplotlib->pykitti) (46.0.0)\n",
            "Installing collected packages: pykitti\n",
            "Successfully installed pykitti-0.3.1\n"
          ],
          "name": "stdout"
        }
      ]
    },
    {
      "cell_type": "code",
      "metadata": {
        "id": "V04UIw_DjAQC",
        "colab_type": "code",
        "colab": {
          "base_uri": "https://localhost:8080/",
          "height": 315
        },
        "outputId": "8359fee2-2bb9-45e2-f8f9-f936629c8374"
      },
      "source": [
        "!wget --no-check-certificate \"https://onedrive.live.com/download?cid=EA356294C6263A37&resid=EA356294C6263A37%21100433&authkey=APrMUGQyaB4np4Q\" -O kitti_dataset.zip"
      ],
      "execution_count": 5,
      "outputs": [
        {
          "output_type": "stream",
          "text": [
            "--2020-04-03 10:27:02--  https://onedrive.live.com/download?cid=EA356294C6263A37&resid=EA356294C6263A37%21100433&authkey=APrMUGQyaB4np4Q\n",
            "Resolving onedrive.live.com (onedrive.live.com)... 13.107.42.13\n",
            "Connecting to onedrive.live.com (onedrive.live.com)|13.107.42.13|:443... connected.\n",
            "HTTP request sent, awaiting response... 302 Found\n",
            "Location: https://xwp44a.am.files.1drv.com/y4mshhsWGPVdXeGfSFDZgbbWcRU_RtljuHfSlZgbpVrn5gPgaNEiY60HDvE0SIIuZppQo515yWhInlGeI106QaWaMoE6g0B9YswbPChIKoZu6MtnZvXVO3m-F5AEmi_C58NhkUP-9fPhVSXVvT3ebHWJ0UpuVac9mC1AuWN7MvLfPRfwT3YLwSL1iltIEwyto_5REma727W5yVYd_CuyuRSVQ/kitti_dataset.zip?download&psid=1 [following]\n",
            "--2020-04-03 10:27:03--  https://xwp44a.am.files.1drv.com/y4mshhsWGPVdXeGfSFDZgbbWcRU_RtljuHfSlZgbpVrn5gPgaNEiY60HDvE0SIIuZppQo515yWhInlGeI106QaWaMoE6g0B9YswbPChIKoZu6MtnZvXVO3m-F5AEmi_C58NhkUP-9fPhVSXVvT3ebHWJ0UpuVac9mC1AuWN7MvLfPRfwT3YLwSL1iltIEwyto_5REma727W5yVYd_CuyuRSVQ/kitti_dataset.zip?download&psid=1\n",
            "Resolving xwp44a.am.files.1drv.com (xwp44a.am.files.1drv.com)... 13.107.42.12\n",
            "Connecting to xwp44a.am.files.1drv.com (xwp44a.am.files.1drv.com)|13.107.42.12|:443... connected.\n",
            "HTTP request sent, awaiting response... 200 OK\n",
            "Length: 821935294 (784M) [application/zip]\n",
            "Saving to: ‘kitti_dataset.zip’\n",
            "\n",
            "kitti_dataset.zip   100%[===================>] 783.86M  27.7MB/s    in 32s     \n",
            "\n",
            "2020-04-03 10:27:35 (24.8 MB/s) - ‘kitti_dataset.zip’ saved [821935294/821935294]\n",
            "\n"
          ],
          "name": "stdout"
        }
      ]
    },
    {
      "cell_type": "code",
      "metadata": {
        "id": "sN1FanX9kiXl",
        "colab_type": "code",
        "colab": {}
      },
      "source": [
        "!unzip -qq kitti_dataset.zip -d data"
      ],
      "execution_count": 0,
      "outputs": []
    }
  ]
}