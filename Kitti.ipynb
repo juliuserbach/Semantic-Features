{
  "nbformat": 4,
  "nbformat_minor": 0,
  "metadata": {
    "colab": {
      "name": "Kitti.ipynb",
      "provenance": [],
      "include_colab_link": true
    },
    "kernelspec": {
      "name": "python3",
      "display_name": "Python 3"
    }
  },
  "cells": [
    {
      "cell_type": "markdown",
      "metadata": {
        "id": "view-in-github",
        "colab_type": "text"
      },
      "source": [
        "<a href=\"https://colab.research.google.com/github/juliuserbach/Semantic-Features/blob/master/Kitti.ipynb\" target=\"_parent\"><img src=\"https://colab.research.google.com/assets/colab-badge.svg\" alt=\"Open In Colab\"/></a>"
      ]
    },
    {
      "cell_type": "code",
      "metadata": {
        "id": "VCGu3QnEg0Zx",
        "colab_type": "code",
        "outputId": "a03e1849-232c-4ff5-cd9d-68551e139c63",
        "colab": {
          "base_uri": "https://localhost:8080/",
          "height": 278
        }
      },
      "source": [
        "!pip install pykitti"
      ],
      "execution_count": 8,
      "outputs": [
        {
          "output_type": "stream",
          "text": [
            "Collecting pykitti\n",
            "  Downloading https://files.pythonhosted.org/packages/c3/7e/e2b71b9221ccb8503dce9673e3cb36edcdc314ec374f9e69e6d38ed1abde/pykitti-0.3.1-py2.py3-none-any.whl\n",
            "Requirement already satisfied: Pillow in /usr/local/lib/python3.6/dist-packages (from pykitti) (7.0.0)\n",
            "Requirement already satisfied: pandas in /usr/local/lib/python3.6/dist-packages (from pykitti) (1.0.3)\n",
            "Requirement already satisfied: numpy in /usr/local/lib/python3.6/dist-packages (from pykitti) (1.18.2)\n",
            "Requirement already satisfied: matplotlib in /usr/local/lib/python3.6/dist-packages (from pykitti) (3.2.1)\n",
            "Requirement already satisfied: python-dateutil>=2.6.1 in /usr/local/lib/python3.6/dist-packages (from pandas->pykitti) (2.8.1)\n",
            "Requirement already satisfied: pytz>=2017.2 in /usr/local/lib/python3.6/dist-packages (from pandas->pykitti) (2018.9)\n",
            "Requirement already satisfied: cycler>=0.10 in /usr/local/lib/python3.6/dist-packages (from matplotlib->pykitti) (0.10.0)\n",
            "Requirement already satisfied: pyparsing!=2.0.4,!=2.1.2,!=2.1.6,>=2.0.1 in /usr/local/lib/python3.6/dist-packages (from matplotlib->pykitti) (2.4.6)\n",
            "Requirement already satisfied: kiwisolver>=1.0.1 in /usr/local/lib/python3.6/dist-packages (from matplotlib->pykitti) (1.1.0)\n",
            "Requirement already satisfied: six>=1.5 in /usr/local/lib/python3.6/dist-packages (from python-dateutil>=2.6.1->pandas->pykitti) (1.12.0)\n",
            "Requirement already satisfied: setuptools in /usr/local/lib/python3.6/dist-packages (from kiwisolver>=1.0.1->matplotlib->pykitti) (46.0.0)\n",
            "Installing collected packages: pykitti\n",
            "Successfully installed pykitti-0.3.1\n"
          ],
          "name": "stdout"
        }
      ]
    },
    {
      "cell_type": "code",
      "metadata": {
        "id": "V04UIw_DjAQC",
        "colab_type": "code",
        "outputId": "aaa560e1-eb63-4f6d-e00c-00352b7905ef",
        "colab": {
          "base_uri": "https://localhost:8080/",
          "height": 315
        }
      },
      "source": [
        "!wget --no-check-certificate \"https://onedrive.live.com/download?cid=EA356294C6263A37&resid=EA356294C6263A37%21100433&authkey=APrMUGQyaB4np4Q\" -O kitti_dataset.zip"
      ],
      "execution_count": 12,
      "outputs": [
        {
          "output_type": "stream",
          "text": [
            "--2020-04-03 13:14:40--  https://onedrive.live.com/download?cid=EA356294C6263A37&resid=EA356294C6263A37%21100433&authkey=APrMUGQyaB4np4Q\n",
            "Resolving onedrive.live.com (onedrive.live.com)... 13.107.42.13\n",
            "Connecting to onedrive.live.com (onedrive.live.com)|13.107.42.13|:443... connected.\n",
            "HTTP request sent, awaiting response... 302 Found\n",
            "Location: https://xwp44a.am.files.1drv.com/y4m6FRz82ytPJ25uxMA6Z8CBfOGSFzjMNj7MiJz_IpB00jLIjXzHHph3lGJAOk9u8m7kLLPD1Ct-i5CC8sAB1p75XQ4zxDpbaWmtWWFHx26ZFzuQzG7GCRGkbRV8kzaBE0llAm0HbqzgPUJPSliPfEl9bG4pZIisiHUnakfP3Mqt54d2I7jpxtiYo8Ei8XDLn-el-D1763hLSbiOlghqrnzEQ/kitti_dataset.zip?download&psid=1 [following]\n",
            "--2020-04-03 13:14:41--  https://xwp44a.am.files.1drv.com/y4m6FRz82ytPJ25uxMA6Z8CBfOGSFzjMNj7MiJz_IpB00jLIjXzHHph3lGJAOk9u8m7kLLPD1Ct-i5CC8sAB1p75XQ4zxDpbaWmtWWFHx26ZFzuQzG7GCRGkbRV8kzaBE0llAm0HbqzgPUJPSliPfEl9bG4pZIisiHUnakfP3Mqt54d2I7jpxtiYo8Ei8XDLn-el-D1763hLSbiOlghqrnzEQ/kitti_dataset.zip?download&psid=1\n",
            "Resolving xwp44a.am.files.1drv.com (xwp44a.am.files.1drv.com)... 13.107.42.12\n",
            "Connecting to xwp44a.am.files.1drv.com (xwp44a.am.files.1drv.com)|13.107.42.12|:443... connected.\n",
            "HTTP request sent, awaiting response... 200 OK\n",
            "Length: 821937907 (784M) [application/zip]\n",
            "Saving to: ‘kitti_dataset.zip’\n",
            "\n",
            "kitti_dataset.zip   100%[===================>] 783.86M  26.5MB/s    in 28s     \n",
            "\n",
            "2020-04-03 13:15:10 (27.9 MB/s) - ‘kitti_dataset.zip’ saved [821937907/821937907]\n",
            "\n"
          ],
          "name": "stdout"
        }
      ]
    },
    {
      "cell_type": "code",
      "metadata": {
        "id": "sN1FanX9kiXl",
        "colab_type": "code",
        "colab": {
          "base_uri": "https://localhost:8080/",
          "height": 34
        },
        "outputId": "3b1085f8-20f6-4acd-ef54-4a6d568d32b9"
      },
      "source": [
        "!unzip -qq kitti_dataset.zip -d data"
      ],
      "execution_count": 11,
      "outputs": [
        {
          "output_type": "stream",
          "text": [
            "replace data/dataset/sequences/04.txt? [y]es, [n]o, [A]ll, [N]one, [r]ename: A\n"
          ],
          "name": "stdout"
        }
      ]
    },
    {
      "cell_type": "code",
      "metadata": {
        "id": "BG0zAkPn74Mq",
        "colab_type": "code",
        "colab": {}
      },
      "source": [
        "import itertools\n",
        "import matplotlib.pyplot as plt\n",
        "import numpy as np\n",
        "from mpl_toolkits.mplot3d import Axes3D\n",
        "\n",
        "import pykitti\n",
        "\n",
        "basedir = '/content/data/dataset'\n",
        "\n",
        "# Specify the dataset to load\n",
        "sequence = '04'\n",
        "\n",
        "# Load the data. Optionally, specify the frame range to load.\n",
        "# dataset = pykitti.odometry(basedir, sequence)\n",
        "dataset = pykitti.odometry(basedir, sequence)"
      ],
      "execution_count": 0,
      "outputs": []
    },
    {
      "cell_type": "code",
      "metadata": {
        "id": "5BRy77Zke9hV",
        "colab_type": "code",
        "colab": {}
      },
      "source": [
        "def pcl_to_image(pointcloud, intrinsic_matrix, img_shape):\n",
        "  \"\"\" Projects a pointcloud to camera image.\n",
        "\n",
        "  Args:\n",
        "      pointcloud (numpy array of shape (num_points, 6)):\n",
        "          Point cloud in the format [x, y, z, r, g, b] for each point.\n",
        "      camera_model (Instance of a camera model class): Camera model to use to\n",
        "          reproject the point cloud on the virtual-camera image plane.\n",
        "      image_width (int): Image width.\n",
        "      image_height (int): Image height.\n",
        "\n",
        "  Returns:\n",
        "      depth_image (numpy array of shape (image_height, image_width),\n",
        "          dtype=np.float32): Depth image (Z), with depth in m.\n",
        "  \"\"\"\n",
        "  image_width = img_shape[1]\n",
        "  image_height = img_shape[0]\n",
        "\n",
        "  depth_image = np.zeros((image_height, image_width), dtype=np.float32)\n",
        "\n",
        "  pcl_inside_view = pointcloud[pointcloud[:, 2] > 0, :]\n",
        "  pcl_inside_view_xyz = np.hstack((pcl_inside_view[:, :3],\n",
        "                                    np.ones((pcl_inside_view.shape[0], 1))))\n",
        "\n",
        "  pcl_projected = np.array(intrinsic_matrix).dot(pcl_inside_view_xyz.T)\n",
        "  pixel = np.rint(pcl_projected / pcl_projected[2, :]).astype(int)[:2, :]\n",
        "\n",
        "  index_bool = np.logical_and(\n",
        "      np.logical_and(0 <= pixel[0], pixel[0] < image_width),\n",
        "      np.logical_and(0 <= pixel[1], pixel[1] < image_height))\n",
        "  pixel = pixel[:, index_bool]\n",
        "\n",
        "  pcl_inside_view = pcl_inside_view[index_bool, :]\n",
        "\n",
        "  # Considering occlusion, we need to be careful with the order of assignment\n",
        "  # descending order according to the z coordinate.\n",
        "  index_sort = pcl_inside_view[:, 2].argsort()[::-1]\n",
        "  pixel = pixel[:, index_sort]\n",
        "  pcl_inside_view = pcl_inside_view[index_sort, :]\n",
        "\n",
        "  depth_image[pixel[1], pixel[0]] = pcl_inside_view[:, 2]  # m to mm\n",
        "\n",
        "  return depth_image"
      ],
      "execution_count": 0,
      "outputs": []
    },
    {
      "cell_type": "code",
      "metadata": {
        "id": "1hb6I10jC8jW",
        "colab_type": "code",
        "colab": {}
      },
      "source": [
        "import numpy as np\n",
        "\n",
        "# Grab some data\n",
        "second_pose = dataset.poses[220]\n",
        "first_rgb = dataset.get_rgb(219)\n",
        "first_cam2 = dataset.get_cam2(221)\n",
        "third_velo = dataset.get_velo(221)\n",
        "\n",
        "P_cam2 = dataset.calib.P_rect_20\n",
        "T_cam2_velo = dataset.calib.T_cam2_velo\n",
        "import cv2\n",
        "\n",
        "print(P_cam2.shape)\n",
        "print(T_cam2_velo.shape)\n",
        "\n",
        "cam2 = dataset.get_cam2(221)\n",
        "cam3 = dataset.get_cam3(221)\n",
        "cam2_g = cv2.cvtColor(np.asarray(cam2), cv2.COLOR_RGB2GRAY)\n",
        "cam3_g = cv2.cvtColor(np.asarray(cam3), cv2.COLOR_RGB2GRAY)\n",
        "\n",
        "stereo = cv2.StereoBM(numDisparities=16, blockSize=15)\n",
        "print(stereo)\n",
        "disparity = stereo.compute(cam2_g, cam3_g)\n",
        "\n",
        "rgb_img = np.asarray(first_cam2)\n",
        "print(rgb_img.shape)\n",
        "depth_img = pcl_to_image(third_velo[:, :3], P_cam2.dot(T_cam2_velo), rgb_img.shape)\n",
        "\n",
        "print(depth_img.shape)\n",
        "cv2.imwrite('depth.png', depth_img * 1000)\n",
        "\n",
        "# Display some of the data\n",
        "np.set_printoptions(precision=4, suppress=True)\n",
        "print('\\nSequence: ' + str(dataset.sequence))\n",
        "print('\\nFrame range: ' + str(dataset.frames))\n",
        "\n",
        "print('\\nRGB stereo pair baseline [m]: ' + str(dataset.calib.b_rgb))\n",
        "\n",
        "print('\\nFirst timestamp: ' + str(dataset.timestamps[0]))\n",
        "print('\\nSecond ground truth pose:\\n' + str(second_pose))\n",
        "\n",
        "f, ax = plt.subplots(1, 2, figsize=(15, 5))\n",
        "\n",
        "ax[0].imshow(first_cam2)\n",
        "ax[0].set_title('Left RGB Image (cam2)')\n",
        "\n",
        "ax[1].imshow(depth_img * 1000)\n",
        "ax[1].set_title('Right RGB Image (cam3)')\n",
        "\n",
        "f2 = plt.figure()\n",
        "ax2 = f2.add_subplot(111, projection='3d')\n",
        "# Plot every 100th point so things don't get too bogged down\n",
        "velo_range = range(0, third_velo.shape[0], 100)\n",
        "ax2.scatter(third_velo[velo_range, 0],\n",
        "            third_velo[velo_range, 1],\n",
        "            third_velo[velo_range, 2],\n",
        "            c=third_velo[velo_range, 3],\n",
        "            cmap='gray')\n",
        "ax2.set_title('Third Velodyne scan (subsampled)')\n",
        "\n",
        "plt.show()"
      ],
      "execution_count": 0,
      "outputs": []
    },
    {
      "cell_type": "code",
      "metadata": {
        "id": "zOBhwJMymf2y",
        "colab_type": "code",
        "colab": {}
      },
      "source": [
        " "
      ],
      "execution_count": 0,
      "outputs": []
    }
  ]
}