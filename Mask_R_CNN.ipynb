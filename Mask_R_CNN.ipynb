{
  "nbformat": 4,
  "nbformat_minor": 0,
  "metadata": {
    "colab": {
      "name": "Mask-R-CNN.ipynb",
      "provenance": [],
      "collapsed_sections": [],
      "authorship_tag": "ABX9TyMRoeS1rp+G9n+oQXs98Qno",
      "include_colab_link": true
    },
    "kernelspec": {
      "name": "python3",
      "display_name": "Python 3"
    },
    "accelerator": "GPU"
  },
  "cells": [
    {
      "cell_type": "markdown",
      "metadata": {
        "id": "view-in-github",
        "colab_type": "text"
      },
      "source": [
        "<a href=\"https://colab.research.google.com/github/juliuserbach/Semantic-Features/blob/master/Mask_R_CNN.ipynb\" target=\"_parent\"><img src=\"https://colab.research.google.com/assets/colab-badge.svg\" alt=\"Open In Colab\"/></a>"
      ]
    },
    {
      "cell_type": "code",
      "metadata": {
        "id": "jqs13ramKg_K",
        "colab_type": "code",
        "outputId": "884aad66-4096-4bbf-ea24-572c261c284b",
        "colab": {
          "base_uri": "https://localhost:8080/",
          "height": 144
        }
      },
      "source": [
        "!git clone https://github.com/ftaubner/semantic_features_detection.git"
      ],
      "execution_count": 1,
      "outputs": [
        {
          "output_type": "stream",
          "text": [
            "Cloning into 'semantic_features_detection'...\n",
            "remote: Enumerating objects: 5, done.\u001b[K\n",
            "remote: Counting objects: 100% (5/5), done.\u001b[K\n",
            "remote: Compressing objects: 100% (4/4), done.\u001b[K\n",
            "remote: Total 1022 (delta 0), reused 0 (delta 0), pack-reused 1017\u001b[K\n",
            "Receiving objects: 100% (1022/1022), 113.85 MiB | 49.61 MiB/s, done.\n",
            "Resolving deltas: 100% (606/606), done.\n"
          ],
          "name": "stdout"
        }
      ]
    },
    {
      "cell_type": "code",
      "metadata": {
        "id": "RMkSQoH1ZGYA",
        "colab_type": "code",
        "colab": {
          "base_uri": "https://localhost:8080/",
          "height": 328
        },
        "outputId": "627c4026-4f7b-460f-eaa2-bff7c4fff79e"
      },
      "source": [
        "!wget --no-check-certificate \"https://onedrive.live.com/download?cid=EA356294C6263A37&resid=EA356294C6263A37%2199865&authkey=ALxjJOloi9Wjk80\" -O mapillary_vistas_sample.zip"
      ],
      "execution_count": 3,
      "outputs": [
        {
          "output_type": "stream",
          "text": [
            "--2020-03-28 18:26:56--  https://onedrive.live.com/download?cid=EA356294C6263A37&resid=EA356294C6263A37%2199865&authkey=ALxjJOloi9Wjk80\n",
            "Resolving onedrive.live.com (onedrive.live.com)... 13.107.42.13\n",
            "Connecting to onedrive.live.com (onedrive.live.com)|13.107.42.13|:443... connected.\n",
            "HTTP request sent, awaiting response... 302 Found\n",
            "Location: https://yijzyw.am.files.1drv.com/y4mSx0080F1_c9GEYoDRAv2tmAH_RCA7xTVASpvRv00t2z8dcVj6ACxaYoNTfttxUD90yqGZLTRg0FUv4Ag9Qt6qW40rXlhzS8y9iNkDn79LXAnaoFBNwAeXlVWjU6tT4zCR5tHHVwbZJcs9W7yKNAeqLcTvLCSbGZnEeMIUMjgaAtBb6G14qIFobbC7eU_3zUYkE2cs2sgGp1Mut9LAkT8SQ/mapillary_vistas_sample.zip?download&psid=1 [following]\n",
            "--2020-03-28 18:26:57--  https://yijzyw.am.files.1drv.com/y4mSx0080F1_c9GEYoDRAv2tmAH_RCA7xTVASpvRv00t2z8dcVj6ACxaYoNTfttxUD90yqGZLTRg0FUv4Ag9Qt6qW40rXlhzS8y9iNkDn79LXAnaoFBNwAeXlVWjU6tT4zCR5tHHVwbZJcs9W7yKNAeqLcTvLCSbGZnEeMIUMjgaAtBb6G14qIFobbC7eU_3zUYkE2cs2sgGp1Mut9LAkT8SQ/mapillary_vistas_sample.zip?download&psid=1\n",
            "Resolving yijzyw.am.files.1drv.com (yijzyw.am.files.1drv.com)... 13.107.42.12\n",
            "Connecting to yijzyw.am.files.1drv.com (yijzyw.am.files.1drv.com)|13.107.42.12|:443... connected.\n",
            "HTTP request sent, awaiting response... 200 OK\n",
            "Length: 36975119 (35M) [application/zip]\n",
            "Saving to: ‘mapillary_vistas_sample.zip’\n",
            "\n",
            "mapillary_vistas_sa 100%[===================>]  35.26M  16.1MB/s    in 2.2s    \n",
            "\n",
            "2020-03-28 18:27:00 (16.1 MB/s) - ‘mapillary_vistas_sample.zip’ saved [36975119/36975119]\n",
            "\n"
          ],
          "name": "stdout"
        }
      ]
    },
    {
      "cell_type": "code",
      "metadata": {
        "id": "2nhJZTIzZpRW",
        "colab_type": "code",
        "colab": {}
      },
      "source": [
        "!unzip -qq /content/mapillary_vistas_sample.zip -d /content"
      ],
      "execution_count": 0,
      "outputs": []
    },
    {
      "cell_type": "code",
      "metadata": {
        "id": "ZdvT1vzBK6hV",
        "colab_type": "code",
        "outputId": "08661614-2a9c-44d3-fcd7-72002924c38f",
        "colab": {
          "base_uri": "https://localhost:8080/",
          "height": 380
        }
      },
      "source": [
        "!pip install imgaug\n",
        "!pip install Cython\n",
        "!pip install pycocotools"
      ],
      "execution_count": 1,
      "outputs": [
        {
          "output_type": "stream",
          "text": [
            "Requirement already satisfied: imgaug in /usr/local/lib/python3.6/dist-packages (0.2.9)\n",
            "Requirement already satisfied: six in /usr/local/lib/python3.6/dist-packages (from imgaug) (1.12.0)\n",
            "Requirement already satisfied: scikit-image>=0.11.0 in /usr/local/lib/python3.6/dist-packages (from imgaug) (0.16.2)\n",
            "Requirement already satisfied: opencv-python in /usr/local/lib/python3.6/dist-packages (from imgaug) (4.1.2.30)\n",
            "Requirement already satisfied: Pillow in /usr/local/lib/python3.6/dist-packages (from imgaug) (7.0.0)\n",
            "Requirement already satisfied: Shapely in /usr/local/lib/python3.6/dist-packages (from imgaug) (1.7.0)\n",
            "Requirement already satisfied: scipy in /usr/local/lib/python3.6/dist-packages (from imgaug) (1.4.1)\n",
            "Requirement already satisfied: numpy>=1.15.0 in /usr/local/lib/python3.6/dist-packages (from imgaug) (1.18.2)\n",
            "Requirement already satisfied: matplotlib in /usr/local/lib/python3.6/dist-packages (from imgaug) (3.2.1)\n",
            "Requirement already satisfied: imageio in /usr/local/lib/python3.6/dist-packages (from imgaug) (2.4.1)\n",
            "Requirement already satisfied: PyWavelets>=0.4.0 in /usr/local/lib/python3.6/dist-packages (from scikit-image>=0.11.0->imgaug) (1.1.1)\n",
            "Requirement already satisfied: networkx>=2.0 in /usr/local/lib/python3.6/dist-packages (from scikit-image>=0.11.0->imgaug) (2.4)\n",
            "Requirement already satisfied: pyparsing!=2.0.4,!=2.1.2,!=2.1.6,>=2.0.1 in /usr/local/lib/python3.6/dist-packages (from matplotlib->imgaug) (2.4.6)\n",
            "Requirement already satisfied: kiwisolver>=1.0.1 in /usr/local/lib/python3.6/dist-packages (from matplotlib->imgaug) (1.1.0)\n",
            "Requirement already satisfied: python-dateutil>=2.1 in /usr/local/lib/python3.6/dist-packages (from matplotlib->imgaug) (2.8.1)\n",
            "Requirement already satisfied: cycler>=0.10 in /usr/local/lib/python3.6/dist-packages (from matplotlib->imgaug) (0.10.0)\n",
            "Requirement already satisfied: decorator>=4.3.0 in /usr/local/lib/python3.6/dist-packages (from networkx>=2.0->scikit-image>=0.11.0->imgaug) (4.4.2)\n",
            "Requirement already satisfied: setuptools in /usr/local/lib/python3.6/dist-packages (from kiwisolver>=1.0.1->matplotlib->imgaug) (46.0.0)\n",
            "Requirement already satisfied: Cython in /usr/local/lib/python3.6/dist-packages (0.29.15)\n",
            "Requirement already satisfied: pycocotools in /usr/local/lib/python3.6/dist-packages (2.0.0)\n"
          ],
          "name": "stdout"
        }
      ]
    },
    {
      "cell_type": "code",
      "metadata": {
        "id": "meGMIONOKySt",
        "colab_type": "code",
        "colab": {}
      },
      "source": [
        "import os\n",
        "os.chdir('/content/semantic_features_detection/Notebook')"
      ],
      "execution_count": 0,
      "outputs": []
    },
    {
      "cell_type": "code",
      "metadata": {
        "id": "viP6_e5JPNXO",
        "colab_type": "code",
        "outputId": "5369594c-668f-43a7-e8ec-8cd0313c6944",
        "colab": {
          "base_uri": "https://localhost:8080/",
          "height": 108
        }
      },
      "source": [
        "import os\n",
        "import sys\n",
        "import random\n",
        "import math\n",
        "import numpy as np\n",
        "import skimage.io\n",
        "import matplotlib\n",
        "import matplotlib.pyplot as plt\n",
        "import cv2\n",
        "import imageio\n",
        "%tensorflow_version 1.x\n",
        "import tensorflow as tf\n",
        "\n",
        "\n",
        "# Root directory of the project\n",
        "ROOT_DIR = os.path.abspath(\"../\")\n",
        "# Ignore Warnings\n",
        "os.environ['TF_CPP_MIN_LOG_LEVEL'] = '2' \n",
        "\n",
        "# Import Mask RCNN\n",
        "sys.path.append(ROOT_DIR)  # To find local version of the library\n",
        "print(ROOT_DIR)\n",
        "from mrcnn import utils\n",
        "import mrcnn.model as modellib\n",
        "from mrcnn import visualize\n",
        "# Import COCO config\n",
        "sys.path.append(os.path.join(ROOT_DIR, \"samples/mapillary/\"))  # To find local version\n",
        "import mapillary\n",
        "\n",
        "%matplotlib inline\n",
        "\n",
        "# Directory to save logs and trained model\n",
        "MODEL_DIR = os.path.join(ROOT_DIR, \"logs\")\n",
        "print(MODEL_DIR)\n",
        "\n",
        "# Local path to trained weights file\n",
        "COCO_MODEL_PATH = os.path.join(ROOT_DIR, \"mask_rcnn_coco.h5\")\n",
        "# Download COCO trained weights from Releases if needed\n",
        "if not os.path.exists(COCO_MODEL_PATH):\n",
        "    utils.download_trained_weights(COCO_MODEL_PATH)\n",
        "\n",
        "# Directory of images to run detection on\n",
        "IMAGE_DIR = os.path.join(ROOT_DIR, \"images\")\n",
        "print('finished')"
      ],
      "execution_count": 2,
      "outputs": [
        {
          "output_type": "stream",
          "text": [
            "TensorFlow 1.x selected.\n",
            "/content/semantic_features_detection\n",
            "/content/semantic_features_detection/logs\n",
            "finished\n"
          ],
          "name": "stdout"
        },
        {
          "output_type": "stream",
          "text": [
            "Using TensorFlow backend.\n"
          ],
          "name": "stderr"
        }
      ]
    },
    {
      "cell_type": "code",
      "metadata": {
        "id": "iVW7e7R1UWAZ",
        "colab_type": "code",
        "colab": {
          "base_uri": "https://localhost:8080/",
          "height": 962
        },
        "outputId": "6cbb2746-4884-493f-d29c-023bbd964eff"
      },
      "source": [
        "class TrainConfig(mapillary.mapvistas):\n",
        "    GPU_COUNT = 1\n",
        "    IMAGES_PER_GPU = 2\n",
        "    STEPS_PER_EPOCH = 1000\n",
        "    VALIDATION_STEPS = 30\n",
        "\n",
        "config = TrainConfig()\n",
        "config.display()\n",
        "batch_size = config.BATCH_SIZE"
      ],
      "execution_count": 3,
      "outputs": [
        {
          "output_type": "stream",
          "text": [
            "\n",
            "Configurations:\n",
            "BACKBONE                       resnet101\n",
            "BACKBONE_STRIDES               [4, 8, 16, 32, 64]\n",
            "BATCH_SIZE                     2\n",
            "BBOX_STD_DEV                   [0.1 0.1 0.2 0.2]\n",
            "COMPUTE_BACKBONE_SHAPE         None\n",
            "DETECTION_MAX_INSTANCES        100\n",
            "DETECTION_MIN_CONFIDENCE       0.7\n",
            "DETECTION_NMS_THRESHOLD        0.3\n",
            "FPN_CLASSIF_FC_LAYERS_SIZE     1024\n",
            "GPU_COUNT                      1\n",
            "GRADIENT_CLIP_NORM             5.0\n",
            "IMAGES_PER_GPU                 2\n",
            "IMAGE_CHANNEL_COUNT            3\n",
            "IMAGE_MAX_DIM                  640\n",
            "IMAGE_META_SIZE                79\n",
            "IMAGE_MIN_DIM                  640\n",
            "IMAGE_MIN_SCALE                0\n",
            "IMAGE_RESIZE_MODE              square\n",
            "IMAGE_SHAPE                    [640 640   3]\n",
            "LEARNING_MOMENTUM              0.9\n",
            "LEARNING_RATE                  0.001\n",
            "LOSS_WEIGHTS                   {'rpn_class_loss': 1.0, 'rpn_bbox_loss': 1.0, 'mrcnn_class_loss': 1.0, 'mrcnn_bbox_loss': 1.0, 'mrcnn_mask_loss': 1.0}\n",
            "MASK_POOL_SIZE                 14\n",
            "MASK_SHAPE                     [28, 28]\n",
            "MAX_GT_INSTANCES               100\n",
            "MEAN_PIXEL                     [123.7 116.8 103.9]\n",
            "MINI_MASK_SHAPE                (56, 56)\n",
            "NAME                           mapvistas\n",
            "NUM_CLASSES                    67\n",
            "POOL_SIZE                      7\n",
            "POST_NMS_ROIS_INFERENCE        1000\n",
            "POST_NMS_ROIS_TRAINING         2000\n",
            "PRE_NMS_LIMIT                  6000\n",
            "ROI_POSITIVE_RATIO             0.33\n",
            "RPN_ANCHOR_RATIOS              [0.5, 1, 2]\n",
            "RPN_ANCHOR_SCALES              (32, 64, 128, 256, 512)\n",
            "RPN_ANCHOR_STRIDE              1\n",
            "RPN_BBOX_STD_DEV               [0.1 0.1 0.2 0.2]\n",
            "RPN_NMS_THRESHOLD              0.7\n",
            "RPN_TRAIN_ANCHORS_PER_IMAGE    256\n",
            "STEPS_PER_EPOCH                1000\n",
            "TOP_DOWN_PYRAMID_SIZE          256\n",
            "TRAIN_BN                       False\n",
            "TRAIN_ROIS_PER_IMAGE           200\n",
            "USE_MINI_MASK                  True\n",
            "USE_RPN_ROIS                   True\n",
            "VALIDATION_STEPS               30\n",
            "WEIGHT_DECAY                   0.0001\n",
            "\n",
            "\n"
          ],
          "name": "stdout"
        }
      ]
    },
    {
      "cell_type": "code",
      "metadata": {
        "id": "P81V1BRHUYu1",
        "colab_type": "code",
        "colab": {
          "base_uri": "https://localhost:8080/",
          "height": 655
        },
        "outputId": "afefd3ba-227e-4c94-adae-d9b03bfe737a"
      },
      "source": [
        "# Create model in training mode\n",
        "model = modellib.MaskRCNN(mode=\"training\", config=config,\n",
        "                          model_dir=MODEL_DIR)\n",
        "#model.load_weights(model_path, by_name=True)\n",
        "\n",
        "# Load pretrained weights\n",
        "model.load_weights(COCO_MODEL_PATH, by_name=True,\n",
        "                       exclude=[\"mrcnn_class_logits\", \"mrcnn_bbox_fc\", \n",
        "                                \"mrcnn_bbox\", \"mrcnn_mask\"])"
      ],
      "execution_count": 4,
      "outputs": [
        {
          "output_type": "stream",
          "text": [
            "WARNING:tensorflow:From /usr/local/lib/python3.6/dist-packages/keras/backend/tensorflow_backend.py:541: The name tf.placeholder is deprecated. Please use tf.compat.v1.placeholder instead.\n",
            "\n",
            "WARNING:tensorflow:From /usr/local/lib/python3.6/dist-packages/keras/backend/tensorflow_backend.py:66: The name tf.get_default_graph is deprecated. Please use tf.compat.v1.get_default_graph instead.\n",
            "\n",
            "WARNING:tensorflow:From /usr/local/lib/python3.6/dist-packages/keras/backend/tensorflow_backend.py:4432: The name tf.random_uniform is deprecated. Please use tf.random.uniform instead.\n",
            "\n",
            "WARNING:tensorflow:From /usr/local/lib/python3.6/dist-packages/keras/backend/tensorflow_backend.py:2139: The name tf.nn.fused_batch_norm is deprecated. Please use tf.compat.v1.nn.fused_batch_norm instead.\n",
            "\n",
            "WARNING:tensorflow:From /usr/local/lib/python3.6/dist-packages/keras/backend/tensorflow_backend.py:4267: The name tf.nn.max_pool is deprecated. Please use tf.nn.max_pool2d instead.\n",
            "\n",
            "WARNING:tensorflow:From /usr/local/lib/python3.6/dist-packages/keras/backend/tensorflow_backend.py:2239: The name tf.image.resize_nearest_neighbor is deprecated. Please use tf.compat.v1.image.resize_nearest_neighbor instead.\n",
            "\n",
            "WARNING:tensorflow:From /tensorflow-1.15.2/python3.6/tensorflow_core/python/ops/array_ops.py:1475: where (from tensorflow.python.ops.array_ops) is deprecated and will be removed in a future version.\n",
            "Instructions for updating:\n",
            "Use tf.where in 2.0, which has the same broadcast rule as np.where\n",
            "WARNING:tensorflow:From /content/semantic_features_detection/mrcnn/model.py:553: The name tf.random_shuffle is deprecated. Please use tf.random.shuffle instead.\n",
            "\n",
            "WARNING:tensorflow:From /content/semantic_features_detection/mrcnn/utils.py:202: The name tf.log is deprecated. Please use tf.math.log instead.\n",
            "\n",
            "WARNING:tensorflow:From /content/semantic_features_detection/mrcnn/model.py:600: calling crop_and_resize_v1 (from tensorflow.python.ops.image_ops_impl) with box_ind is deprecated and will be removed in a future version.\n",
            "Instructions for updating:\n",
            "box_ind is deprecated, use box_indices instead\n",
            "WARNING:tensorflow:From /usr/local/lib/python3.6/dist-packages/keras/backend/tensorflow_backend.py:190: The name tf.get_default_session is deprecated. Please use tf.compat.v1.get_default_session instead.\n",
            "\n",
            "WARNING:tensorflow:From /usr/local/lib/python3.6/dist-packages/keras/backend/tensorflow_backend.py:197: The name tf.ConfigProto is deprecated. Please use tf.compat.v1.ConfigProto instead.\n",
            "\n",
            "WARNING:tensorflow:From /usr/local/lib/python3.6/dist-packages/keras/backend/tensorflow_backend.py:203: The name tf.Session is deprecated. Please use tf.compat.v1.Session instead.\n",
            "\n",
            "WARNING:tensorflow:From /usr/local/lib/python3.6/dist-packages/keras/backend/tensorflow_backend.py:207: The name tf.global_variables is deprecated. Please use tf.compat.v1.global_variables instead.\n",
            "\n",
            "WARNING:tensorflow:From /usr/local/lib/python3.6/dist-packages/keras/backend/tensorflow_backend.py:216: The name tf.is_variable_initialized is deprecated. Please use tf.compat.v1.is_variable_initialized instead.\n",
            "\n",
            "WARNING:tensorflow:From /usr/local/lib/python3.6/dist-packages/keras/backend/tensorflow_backend.py:223: The name tf.variables_initializer is deprecated. Please use tf.compat.v1.variables_initializer instead.\n",
            "\n"
          ],
          "name": "stdout"
        }
      ]
    },
    {
      "cell_type": "code",
      "metadata": {
        "id": "rHcm09WTUa4a",
        "colab_type": "code",
        "colab": {
          "base_uri": "https://localhost:8080/",
          "height": 110
        },
        "outputId": "24a2995f-1e10-45b1-d528-d25d13113358"
      },
      "source": [
        "\n",
        "TRAIN_DIR = '/content/mapillary_vistas'\n",
        "# Training dataset\n",
        "dataset_train = mapillary.MapillaryDataset()\n",
        "dataset_train.load_vistas(dataset_dir=TRAIN_DIR, subset='training')\n",
        "dataset_train.prepare()\n",
        "\n",
        "# Validation dataset\n",
        "VAL_DIR = '/content/mapillary_vistas'\n",
        "\n",
        "dataset_val = mapillary.MapillaryDataset()\n",
        "dataset_val.load_vistas(dataset_dir=VAL_DIR, subset='validation')\n",
        "dataset_val.prepare()"
      ],
      "execution_count": 5,
      "outputs": [
        {
          "output_type": "stream",
          "text": [
            "{165: {42: {42: 0}}, 0: {0: {0: 65}}, 196: {196: {196: 2}}, 190: {255: {255: 28}}, 180: {165: {180: 4}}, 90: {120: {150: 5}}, 102: {102: {156: 6}}, 128: {64: {64: 59}}, 140: {140: {20: 51}}, 170: {170: {170: 9}}, 250: {170: {30: 48}}, 96: {96: {96: 11}}, 230: {160: {50: 26}}, 110: {110: {110: 14}}, 244: {35: {232: 15}}, 150: {0: {255: 53}}, 70: {100: {150: 43}}, 220: {220: {0: 50}}, 255: {255: {128: 32}}, 200: {128: {128: 23}}, 64: {170: {64: 25}}, 152: {251: {152: 29}}, 107: {142: {35: 30}}, 100: {128: {160: 41}}, 222: {40: {40: 37}}, 40: {40: {40: 39}}, 33: {33: {33: 40}}, 142: {0: {0: 42}}, 210: {170: {100: 44}}, 153: {153: {153: 45}}, 192: {192: {192: 49}}, 119: {11: {32: 52}}, 32: {32: {32: 63}}, 120: {10: {10: 64}}}\n",
            "dict_keys([0, 1, 2, 3, 4, 5, 6, 7, 8, 9, 10, 11, 12, 13, 14, 15, 16, 17, 18, 19, 20, 21, 22, 23, 24, 25, 26, 27, 28, 29, 30, 31, 32, 33, 34, 35, 36, 37, 38, 39, 40, 41, 42, 43, 44, 45, 46, 47, 48, 49, 50, 51, 52, 53, 54, 55, 56, 57, 58, 59, 60, 61, 62, 63, 64, 65])\n",
            "{165: {42: {42: 0}}, 0: {0: {0: 65}}, 196: {196: {196: 2}}, 190: {255: {255: 28}}, 180: {165: {180: 4}}, 90: {120: {150: 5}}, 102: {102: {156: 6}}, 128: {64: {64: 59}}, 140: {140: {20: 51}}, 170: {170: {170: 9}}, 250: {170: {30: 48}}, 96: {96: {96: 11}}, 230: {160: {50: 26}}, 110: {110: {110: 14}}, 244: {35: {232: 15}}, 150: {0: {255: 53}}, 70: {100: {150: 43}}, 220: {220: {0: 50}}, 255: {255: {128: 32}}, 200: {128: {128: 23}}, 64: {170: {64: 25}}, 152: {251: {152: 29}}, 107: {142: {35: 30}}, 100: {128: {160: 41}}, 222: {40: {40: 37}}, 40: {40: {40: 39}}, 33: {33: {33: 40}}, 142: {0: {0: 42}}, 210: {170: {100: 44}}, 153: {153: {153: 45}}, 192: {192: {192: 49}}, 119: {11: {32: 52}}, 32: {32: {32: 63}}, 120: {10: {10: 64}}}\n",
            "dict_keys([0, 1, 2, 3, 4, 5, 6, 7, 8, 9, 10, 11, 12, 13, 14, 15, 16, 17, 18, 19, 20, 21, 22, 23, 24, 25, 26, 27, 28, 29, 30, 31, 32, 33, 34, 35, 36, 37, 38, 39, 40, 41, 42, 43, 44, 45, 46, 47, 48, 49, 50, 51, 52, 53, 54, 55, 56, 57, 58, 59, 60, 61, 62, 63, 64, 65])\n"
          ],
          "name": "stdout"
        }
      ]
    },
    {
      "cell_type": "code",
      "metadata": {
        "id": "sgVs25kRS6Ej",
        "colab_type": "code",
        "colab": {}
      },
      "source": [
        "import datetime\n",
        "log_dir = \"logs/fit/\" + datetime.datetime.now().strftime(\"%Y%m%d-%H%M%S\")\n",
        "tensorboard_callback = tf.keras.callbacks.TensorBoard(log_dir=MODEL_DIR, histogram_freq=1)"
      ],
      "execution_count": 0,
      "outputs": []
    },
    {
      "cell_type": "code",
      "metadata": {
        "id": "3Y8GQ8U3TCNw",
        "colab_type": "code",
        "colab": {
          "base_uri": "https://localhost:8080/",
          "height": 1000
        },
        "outputId": "dd9a4ad6-da3c-4160-a629-f1b846d2dca1"
      },
      "source": [
        "# Training - Stage 1\n",
        "print(\"Training network heads\")\n",
        "model.train(dataset_train, dataset_val,\n",
        "            learning_rate=config.LEARNING_RATE,\n",
        "            epochs=40,\n",
        "            layers='heads')"
      ],
      "execution_count": 7,
      "outputs": [
        {
          "output_type": "stream",
          "text": [
            "Training network heads\n",
            "\n",
            "Starting at epoch 0. LR=0.001\n",
            "\n",
            "Checkpoint Path: /content/semantic_features_detection/logs/mapvistas20200328T1928/mask_rcnn_mapvistas_{epoch:04d}.h5\n",
            "Selecting layers to train\n",
            "fpn_c5p5               (Conv2D)\n",
            "fpn_c4p4               (Conv2D)\n",
            "fpn_c3p3               (Conv2D)\n",
            "fpn_c2p2               (Conv2D)\n",
            "fpn_p5                 (Conv2D)\n",
            "fpn_p2                 (Conv2D)\n",
            "fpn_p3                 (Conv2D)\n",
            "fpn_p4                 (Conv2D)\n",
            "In model:  rpn_model\n",
            "    rpn_conv_shared        (Conv2D)\n",
            "    rpn_class_raw          (Conv2D)\n",
            "    rpn_bbox_pred          (Conv2D)\n",
            "mrcnn_mask_conv1       (TimeDistributed)\n",
            "mrcnn_mask_bn1         (TimeDistributed)\n",
            "mrcnn_mask_conv2       (TimeDistributed)\n",
            "mrcnn_mask_bn2         (TimeDistributed)\n",
            "mrcnn_class_conv1      (TimeDistributed)\n",
            "mrcnn_class_bn1        (TimeDistributed)\n",
            "mrcnn_mask_conv3       (TimeDistributed)\n",
            "mrcnn_mask_bn3         (TimeDistributed)\n",
            "mrcnn_class_conv2      (TimeDistributed)\n",
            "mrcnn_class_bn2        (TimeDistributed)\n",
            "mrcnn_mask_conv4       (TimeDistributed)\n",
            "mrcnn_mask_bn4         (TimeDistributed)\n",
            "mrcnn_bbox_fc          (TimeDistributed)\n",
            "mrcnn_mask_deconv      (TimeDistributed)\n",
            "mrcnn_class_logits     (TimeDistributed)\n",
            "mrcnn_mask             (TimeDistributed)\n",
            "WARNING:tensorflow:From /usr/local/lib/python3.6/dist-packages/keras/optimizers.py:793: The name tf.train.Optimizer is deprecated. Please use tf.compat.v1.train.Optimizer instead.\n",
            "\n"
          ],
          "name": "stdout"
        },
        {
          "output_type": "stream",
          "text": [
            "/tensorflow-1.15.2/python3.6/tensorflow_core/python/framework/indexed_slices.py:424: UserWarning: Converting sparse IndexedSlices to a dense Tensor of unknown shape. This may consume a large amount of memory.\n",
            "  \"Converting sparse IndexedSlices to a dense Tensor of unknown shape. \"\n",
            "/tensorflow-1.15.2/python3.6/tensorflow_core/python/framework/indexed_slices.py:424: UserWarning: Converting sparse IndexedSlices to a dense Tensor of unknown shape. This may consume a large amount of memory.\n",
            "  \"Converting sparse IndexedSlices to a dense Tensor of unknown shape. \"\n",
            "/tensorflow-1.15.2/python3.6/tensorflow_core/python/framework/indexed_slices.py:424: UserWarning: Converting sparse IndexedSlices to a dense Tensor of unknown shape. This may consume a large amount of memory.\n",
            "  \"Converting sparse IndexedSlices to a dense Tensor of unknown shape. \"\n"
          ],
          "name": "stderr"
        },
        {
          "output_type": "stream",
          "text": [
            "WARNING:tensorflow:From /usr/local/lib/python3.6/dist-packages/keras/backend/tensorflow_backend.py:1033: The name tf.assign_add is deprecated. Please use tf.compat.v1.assign_add instead.\n",
            "\n",
            "WARNING:tensorflow:From /usr/local/lib/python3.6/dist-packages/keras/backend/tensorflow_backend.py:1020: The name tf.assign is deprecated. Please use tf.compat.v1.assign instead.\n",
            "\n"
          ],
          "name": "stdout"
        },
        {
          "output_type": "stream",
          "text": [
            "/usr/local/lib/python3.6/dist-packages/keras/engine/training_generator.py:49: UserWarning: Using a generator with `use_multiprocessing=True` and multiple workers may duplicate your data. Please consider using the `keras.utils.Sequence class.\n",
            "  UserWarning('Using a generator with `use_multiprocessing=True`'\n"
          ],
          "name": "stderr"
        },
        {
          "output_type": "stream",
          "text": [
            "WARNING:tensorflow:From /usr/local/lib/python3.6/dist-packages/keras/callbacks.py:1122: The name tf.summary.merge_all is deprecated. Please use tf.compat.v1.summary.merge_all instead.\n",
            "\n",
            "WARNING:tensorflow:From /usr/local/lib/python3.6/dist-packages/keras/callbacks.py:1125: The name tf.summary.FileWriter is deprecated. Please use tf.compat.v1.summary.FileWriter instead.\n",
            "\n",
            "Epoch 1/40\n",
            "color 1: 196\n",
            "color 2: 196\n",
            "color 3: 196\n",
            "color 1: 196\n",
            "type of 2: <class 'numpy.uint8'>\n",
            "example 1: 49\n",
            "color 2: 196\n",
            "color 3: 196\n",
            "type of 2: <class 'numpy.uint8'>\n",
            "example 1: 49\n",
            "color 1: 196\n",
            "color 2: 196\n",
            "color 3: 196\n",
            "type of 2: <class 'numpy.uint8'>\n",
            "color 1: 196\n",
            "example 1: 49\n",
            "color 2: 196\n",
            "color 3: 196\n",
            "type of 2: <class 'numpy.uint8'>\n",
            "example 1: 49\n",
            "color 1: 190\n",
            "color 2: 153\n",
            "color 1: 190\n",
            "color 3: 153\n",
            "color 2: 153\n",
            "type of 2: <class 'numpy.uint8'>\n",
            "color 3: 153\n",
            "type of 2: <class 'numpy.uint8'>\n",
            "example 1: 49\n",
            "example 1: 49\n"
          ],
          "name": "stdout"
        },
        {
          "output_type": "stream",
          "text": [
            "ERROR:root:Error processing image {'id': '_6lYRZS5jTuojhqapjEL1Q', 'source': 'mapillary_vistas', 'path': '/content/mapillary_vistas/validation/images/_6lYRZS5jTuojhqapjEL1Q.jpg'}\n",
            "Traceback (most recent call last):\n",
            "  File \"/content/semantic_features_detection/mrcnn/model.py\", line 1709, in data_generator\n",
            "    use_mini_mask=config.USE_MINI_MASK)\n",
            "  File \"/content/semantic_features_detection/mrcnn/model.py\", line 1212, in load_image_gt\n",
            "    mask, class_ids = dataset.load_mask(image_id)\n",
            "  File \"/content/semantic_features_detection/samples/mapillary/mapillary.py\", line 153, in load_mask\n",
            "    self.color_to_classid[int(class_color[0,0])][int(class_color[0,1])][int(class_color[0,2])]\n",
            "KeyError: 153ERROR:root:Error processing image {'id': '_6lYRZS5jTuojhqapjEL1Q', 'source': 'mapillary_vistas', 'path': '/content/mapillary_vistas/validation/images/_6lYRZS5jTuojhqapjEL1Q.jpg'}\n",
            "Traceback (most recent call last):\n",
            "  File \"/content/semantic_features_detection/mrcnn/model.py\", line 1709, in data_generator\n",
            "    use_mini_mask=config.USE_MINI_MASK)\n",
            "  File \"/content/semantic_features_detection/mrcnn/model.py\", line 1212, in load_image_gt\n",
            "    mask, class_ids = dataset.load_mask(image_id)\n",
            "  File \"/content/semantic_features_detection/samples/mapillary/mapillary.py\", line 153, in load_mask\n",
            "    self.color_to_classid[int(class_color[0,0])][int(class_color[0,1])][int(class_color[0,2])]\n",
            "KeyError: 153\n",
            "\n"
          ],
          "name": "stderr"
        },
        {
          "output_type": "stream",
          "text": [
            "color 1: 190\n",
            "color 1: 190\n",
            "color 2: 153\n",
            "color 2: 153\n",
            "color 3: 153\n",
            "color 3: 153\n",
            "type of 2: <class 'numpy.uint8'>\n",
            "example 1: 49\n",
            "type of 2: <class 'numpy.uint8'>\n",
            "example 1: 49\n"
          ],
          "name": "stdout"
        },
        {
          "output_type": "stream",
          "text": [
            "ERROR:root:Error processing image {'id': 'zZMRu0NXEQudNpiV_O43vQ', 'source': 'mapillary_vistas', 'path': '/content/mapillary_vistas/training/images/zZMRu0NXEQudNpiV_O43vQ.jpg'}\n",
            "Traceback (most recent call last):\n",
            "  File \"/content/semantic_features_detection/mrcnn/model.py\", line 1709, in data_generator\n",
            "    use_mini_mask=config.USE_MINI_MASK)\n",
            "  File \"/content/semantic_features_detection/mrcnn/model.py\", line 1212, in load_image_gt\n",
            "    mask, class_ids = dataset.load_mask(image_id)\n",
            "  File \"/content/semantic_features_detection/samples/mapillary/mapillary.py\", line 153, in load_mask\n",
            "    self.color_to_classid[int(class_color[0,0])][int(class_color[0,1])][int(class_color[0,2])]\n",
            "KeyError: 153ERROR:root:Error processing image {'id': 'zZMRu0NXEQudNpiV_O43vQ', 'source': 'mapillary_vistas', 'path': '/content/mapillary_vistas/training/images/zZMRu0NXEQudNpiV_O43vQ.jpg'}\n",
            "Traceback (most recent call last):\n",
            "  File \"/content/semantic_features_detection/mrcnn/model.py\", line 1709, in data_generator\n",
            "    use_mini_mask=config.USE_MINI_MASK)\n",
            "  File \"/content/semantic_features_detection/mrcnn/model.py\", line 1212, in load_image_gt\n",
            "    mask, class_ids = dataset.load_mask(image_id)\n",
            "  File \"/content/semantic_features_detection/samples/mapillary/mapillary.py\", line 153, in load_mask\n",
            "    self.color_to_classid[int(class_color[0,0])][int(class_color[0,1])][int(class_color[0,2])]\n",
            "KeyError: 153\n",
            "\n"
          ],
          "name": "stderr"
        },
        {
          "output_type": "stream",
          "text": [
            "color 1: 196\n",
            "color 1: 196\n",
            "color 2: 196\n",
            "color 2: 196\n",
            "color 3: 196\n",
            "color 3: 196\n",
            "type of 2: <class 'numpy.uint8'>\n",
            "type of 2: <class 'numpy.uint8'>\n",
            "example 1: 49\n",
            "example 1: 49\n",
            "color 1: 170\n",
            "color 1: 170\n",
            "color 2: 170\n",
            "color 2: 170\n",
            "color 3: 170\n",
            "color 3: 170\n",
            "type of 2: <class 'numpy.uint8'>\n",
            "type of 2: <class 'numpy.uint8'>\n",
            "example 1: 49\n",
            "example 1: 49\n",
            "color 1: 196\n",
            "color 2: 196\n",
            "color 3: 196\n",
            "type of 2: <class 'numpy.uint8'>\n",
            "example 1: 49\n",
            "color 1: 196\n",
            "color 2: 196\n",
            "color 3: 196\n",
            "type of 2: <class 'numpy.uint8'>\n",
            "example 1: 49\n",
            "color 1: 90\n",
            "color 2: 120\n",
            "color 3: 150\n",
            "type of 2: <class 'numpy.uint8'>\n",
            "example 1: 49\n",
            "color 1: 90\n",
            "color 2: 120\n",
            "color 3: 150\n",
            "type of 2: <class 'numpy.uint8'>\n",
            "example 1: 49\n",
            "color 1: 128\n",
            "color 2: 64\n",
            "color 3: 128\n",
            "type of 2: <class 'numpy.uint8'>\n",
            "example 1: 49\n"
          ],
          "name": "stdout"
        },
        {
          "output_type": "stream",
          "text": [
            "ERROR:root:Error processing image {'id': '_3JWmnl2ILeemJ9qoxHJCg', 'source': 'mapillary_vistas', 'path': '/content/mapillary_vistas/validation/images/_3JWmnl2ILeemJ9qoxHJCg.jpg'}\n",
            "Traceback (most recent call last):\n",
            "  File \"/content/semantic_features_detection/mrcnn/model.py\", line 1709, in data_generator\n",
            "    use_mini_mask=config.USE_MINI_MASK)\n",
            "  File \"/content/semantic_features_detection/mrcnn/model.py\", line 1212, in load_image_gt\n",
            "    mask, class_ids = dataset.load_mask(image_id)\n",
            "  File \"/content/semantic_features_detection/samples/mapillary/mapillary.py\", line 153, in load_mask\n",
            "    self.color_to_classid[int(class_color[0,0])][int(class_color[0,1])][int(class_color[0,2])]\n",
            "KeyError: 128\n"
          ],
          "name": "stderr"
        },
        {
          "output_type": "stream",
          "text": [
            "color 1: 128\n",
            "color 2: 64\n",
            "color 3: 128\n",
            "type of 2: <class 'numpy.uint8'>\n",
            "example 1: 49\n"
          ],
          "name": "stdout"
        },
        {
          "output_type": "stream",
          "text": [
            "ERROR:root:Error processing image {'id': '_3JWmnl2ILeemJ9qoxHJCg', 'source': 'mapillary_vistas', 'path': '/content/mapillary_vistas/validation/images/_3JWmnl2ILeemJ9qoxHJCg.jpg'}\n",
            "Traceback (most recent call last):\n",
            "  File \"/content/semantic_features_detection/mrcnn/model.py\", line 1709, in data_generator\n",
            "    use_mini_mask=config.USE_MINI_MASK)\n",
            "  File \"/content/semantic_features_detection/mrcnn/model.py\", line 1212, in load_image_gt\n",
            "    mask, class_ids = dataset.load_mask(image_id)\n",
            "  File \"/content/semantic_features_detection/samples/mapillary/mapillary.py\", line 153, in load_mask\n",
            "    self.color_to_classid[int(class_color[0,0])][int(class_color[0,1])][int(class_color[0,2])]\n",
            "KeyError: 128\n"
          ],
          "name": "stderr"
        },
        {
          "output_type": "stream",
          "text": [
            "color 1: 196\n",
            "color 2: 196\n",
            "color 3: 196\n",
            "type of 2: <class 'numpy.uint8'>\n",
            "example 1: 49\n",
            "color 1: 190\n",
            "color 2: 153\n",
            "color 3: 153\n",
            "color 1: 196\n",
            "color 2: 196\n",
            "type of 2: <class 'numpy.uint8'>\n",
            "color 3: 196\n",
            "type of 2: <class 'numpy.uint8'>\n",
            "example 1: 49\n",
            "example 1: 49\n"
          ],
          "name": "stdout"
        },
        {
          "output_type": "stream",
          "text": [
            "ERROR:root:Error processing image {'id': '-4jzRzGfKmQg8RBNlNqnGQ', 'source': 'mapillary_vistas', 'path': '/content/mapillary_vistas/validation/images/-4jzRzGfKmQg8RBNlNqnGQ.jpg'}\n",
            "Traceback (most recent call last):\n",
            "  File \"/content/semantic_features_detection/mrcnn/model.py\", line 1709, in data_generator\n",
            "    use_mini_mask=config.USE_MINI_MASK)\n",
            "  File \"/content/semantic_features_detection/mrcnn/model.py\", line 1212, in load_image_gt\n",
            "    mask, class_ids = dataset.load_mask(image_id)\n",
            "  File \"/content/semantic_features_detection/samples/mapillary/mapillary.py\", line 153, in load_mask\n",
            "    self.color_to_classid[int(class_color[0,0])][int(class_color[0,1])][int(class_color[0,2])]\n",
            "KeyError: 153"
          ],
          "name": "stderr"
        },
        {
          "output_type": "stream",
          "text": [
            "color 1: 190\n"
          ],
          "name": "stdout"
        },
        {
          "output_type": "stream",
          "text": [
            "\n"
          ],
          "name": "stderr"
        },
        {
          "output_type": "stream",
          "text": [
            "color 2: 153\n",
            "color 3: 153\n",
            "type of 2: <class 'numpy.uint8'>\n",
            "example 1: 49\n"
          ],
          "name": "stdout"
        },
        {
          "output_type": "stream",
          "text": [
            "ERROR:root:Error processing image {'id': '-4jzRzGfKmQg8RBNlNqnGQ', 'source': 'mapillary_vistas', 'path': '/content/mapillary_vistas/validation/images/-4jzRzGfKmQg8RBNlNqnGQ.jpg'}\n",
            "Traceback (most recent call last):\n",
            "  File \"/content/semantic_features_detection/mrcnn/model.py\", line 1709, in data_generator\n",
            "    use_mini_mask=config.USE_MINI_MASK)\n",
            "  File \"/content/semantic_features_detection/mrcnn/model.py\", line 1212, in load_image_gt\n",
            "    mask, class_ids = dataset.load_mask(image_id)\n",
            "  File \"/content/semantic_features_detection/samples/mapillary/mapillary.py\", line 153, in load_mask\n",
            "    self.color_to_classid[int(class_color[0,0])][int(class_color[0,1])][int(class_color[0,2])]\n",
            "KeyError: 153\n"
          ],
          "name": "stderr"
        },
        {
          "output_type": "stream",
          "text": [
            "color 1: 196\n",
            "color 2: 196\n",
            "color 3: 196\n",
            "type of 2: <class 'numpy.uint8'>\n",
            "example 1: 49\n",
            "color 1: 196\n",
            "color 2: 196\n",
            "color 3: 196\n",
            "type of 2: <class 'numpy.uint8'>\n",
            "color 1: 102\n",
            "example 1: 49\n",
            "color 2: 102\n",
            "color 3: 156\n",
            "type of 2: <class 'numpy.uint8'>\n",
            "example 1: 49\n",
            "color 1: 102\n",
            "color 2: 102\n",
            "color 3: 156\n",
            "type of 2: <class 'numpy.uint8'>\n",
            "example 1: 49\n",
            "color 1: 128\n",
            "color 2: 64\n",
            "color 3: 255\n",
            "type of 2: <class 'numpy.uint8'>\n",
            "example 1: 49\n"
          ],
          "name": "stdout"
        },
        {
          "output_type": "stream",
          "text": [
            "ERROR:root:Error processing image {'id': '_4ycMRRZcIpTeDT8MqtIDw', 'source': 'mapillary_vistas', 'path': '/content/mapillary_vistas/validation/images/_4ycMRRZcIpTeDT8MqtIDw.jpg'}\n",
            "Traceback (most recent call last):\n",
            "  File \"/content/semantic_features_detection/mrcnn/model.py\", line 1709, in data_generator\n",
            "    use_mini_mask=config.USE_MINI_MASK)\n",
            "  File \"/content/semantic_features_detection/mrcnn/model.py\", line 1212, in load_image_gt\n",
            "    mask, class_ids = dataset.load_mask(image_id)\n",
            "  File \"/content/semantic_features_detection/samples/mapillary/mapillary.py\", line 153, in load_mask\n",
            "    self.color_to_classid[int(class_color[0,0])][int(class_color[0,1])][int(class_color[0,2])]\n",
            "KeyError: 255\n"
          ],
          "name": "stderr"
        },
        {
          "output_type": "stream",
          "text": [
            "color 1: 128\n",
            "color 2: 64\n",
            "color 3: 255\n",
            "type of 2: <class 'numpy.uint8'>\n",
            "example 1: 49\n"
          ],
          "name": "stdout"
        },
        {
          "output_type": "stream",
          "text": [
            "ERROR:root:Error processing image {'id': '_4ycMRRZcIpTeDT8MqtIDw', 'source': 'mapillary_vistas', 'path': '/content/mapillary_vistas/validation/images/_4ycMRRZcIpTeDT8MqtIDw.jpg'}\n",
            "Traceback (most recent call last):\n",
            "  File \"/content/semantic_features_detection/mrcnn/model.py\", line 1709, in data_generator\n",
            "    use_mini_mask=config.USE_MINI_MASK)\n",
            "  File \"/content/semantic_features_detection/mrcnn/model.py\", line 1212, in load_image_gt\n",
            "    mask, class_ids = dataset.load_mask(image_id)\n",
            "  File \"/content/semantic_features_detection/samples/mapillary/mapillary.py\", line 153, in load_mask\n",
            "    self.color_to_classid[int(class_color[0,0])][int(class_color[0,1])][int(class_color[0,2])]\n",
            "KeyError: 255\n"
          ],
          "name": "stderr"
        },
        {
          "output_type": "stream",
          "text": [
            "color 1: 196\n",
            "color 2: 196\n",
            "color 3: 196\n",
            "type of 2: <class 'numpy.uint8'>\n",
            "example 1: 49\n",
            "color 1: 196\n",
            "color 2: 196\n",
            "color 3: 196\n",
            "type of 2: <class 'numpy.uint8'>\n",
            "example 1: 49\n",
            "color 1: 190\n",
            "color 2: 153\n",
            "color 3: 153\n",
            "type of 2: <class 'numpy.uint8'>\n",
            "example 1: 49\n"
          ],
          "name": "stdout"
        },
        {
          "output_type": "stream",
          "text": [
            "ERROR:root:Error processing image {'id': '-3-MmXdwhyIQhtb4-8NqHQ', 'source': 'mapillary_vistas', 'path': '/content/mapillary_vistas/validation/images/-3-MmXdwhyIQhtb4-8NqHQ.jpg'}\n",
            "Traceback (most recent call last):\n",
            "  File \"/content/semantic_features_detection/mrcnn/model.py\", line 1709, in data_generator\n",
            "    use_mini_mask=config.USE_MINI_MASK)\n",
            "  File \"/content/semantic_features_detection/mrcnn/model.py\", line 1212, in load_image_gt\n",
            "    mask, class_ids = dataset.load_mask(image_id)\n",
            "  File \"/content/semantic_features_detection/samples/mapillary/mapillary.py\", line 153, in load_mask\n",
            "    self.color_to_classid[int(class_color[0,0])][int(class_color[0,1])][int(class_color[0,2])]\n",
            "KeyError: 153\n"
          ],
          "name": "stderr"
        },
        {
          "output_type": "stream",
          "text": [
            "color 1: 190\n",
            "color 2: 153\n",
            "color 3: 153\n",
            "type of 2: <class 'numpy.uint8'>\n",
            "example 1: 49\n"
          ],
          "name": "stdout"
        },
        {
          "output_type": "stream",
          "text": [
            "ERROR:root:Error processing image {'id': '-3-MmXdwhyIQhtb4-8NqHQ', 'source': 'mapillary_vistas', 'path': '/content/mapillary_vistas/validation/images/-3-MmXdwhyIQhtb4-8NqHQ.jpg'}\n",
            "Traceback (most recent call last):\n",
            "  File \"/content/semantic_features_detection/mrcnn/model.py\", line 1709, in data_generator\n",
            "    use_mini_mask=config.USE_MINI_MASK)\n",
            "  File \"/content/semantic_features_detection/mrcnn/model.py\", line 1212, in load_image_gt\n",
            "    mask, class_ids = dataset.load_mask(image_id)\n",
            "  File \"/content/semantic_features_detection/samples/mapillary/mapillary.py\", line 153, in load_mask\n",
            "    self.color_to_classid[int(class_color[0,0])][int(class_color[0,1])][int(class_color[0,2])]\n",
            "KeyError: 153\n"
          ],
          "name": "stderr"
        },
        {
          "output_type": "stream",
          "text": [
            "color 1: 128\n",
            "color 2: 64\n",
            "color 3: 128\n",
            "type of 2: <class 'numpy.uint8'>\n",
            "example 1: 49\n"
          ],
          "name": "stdout"
        },
        {
          "output_type": "stream",
          "text": [
            "ERROR:root:Error processing image {'id': 'zZjYKIN7hLJ9uTMsVpClNw', 'source': 'mapillary_vistas', 'path': '/content/mapillary_vistas/training/images/zZjYKIN7hLJ9uTMsVpClNw.jpg'}\n",
            "Traceback (most recent call last):\n",
            "  File \"/content/semantic_features_detection/mrcnn/model.py\", line 1709, in data_generator\n",
            "    use_mini_mask=config.USE_MINI_MASK)\n",
            "  File \"/content/semantic_features_detection/mrcnn/model.py\", line 1212, in load_image_gt\n",
            "    mask, class_ids = dataset.load_mask(image_id)\n",
            "  File \"/content/semantic_features_detection/samples/mapillary/mapillary.py\", line 153, in load_mask\n",
            "    self.color_to_classid[int(class_color[0,0])][int(class_color[0,1])][int(class_color[0,2])]\n",
            "KeyError: 128\n"
          ],
          "name": "stderr"
        },
        {
          "output_type": "stream",
          "text": [
            "color 1: 128\n",
            "color 2: 64\n",
            "color 3: 128\n",
            "type of 2: <class 'numpy.uint8'>\n",
            "example 1: 49\n"
          ],
          "name": "stdout"
        },
        {
          "output_type": "stream",
          "text": [
            "ERROR:root:Error processing image {'id': 'zZjYKIN7hLJ9uTMsVpClNw', 'source': 'mapillary_vistas', 'path': '/content/mapillary_vistas/training/images/zZjYKIN7hLJ9uTMsVpClNw.jpg'}\n",
            "Traceback (most recent call last):\n",
            "  File \"/content/semantic_features_detection/mrcnn/model.py\", line 1709, in data_generator\n",
            "    use_mini_mask=config.USE_MINI_MASK)\n",
            "  File \"/content/semantic_features_detection/mrcnn/model.py\", line 1212, in load_image_gt\n",
            "    mask, class_ids = dataset.load_mask(image_id)\n",
            "  File \"/content/semantic_features_detection/samples/mapillary/mapillary.py\", line 153, in load_mask\n",
            "    self.color_to_classid[int(class_color[0,0])][int(class_color[0,1])][int(class_color[0,2])]\n",
            "KeyError: 128\n"
          ],
          "name": "stderr"
        },
        {
          "output_type": "stream",
          "text": [
            "color 1: 196\n",
            "color 1: 196\n",
            "color 2: 196\n",
            "color 2: 196\n",
            "color 3: 196\n",
            "type of 2: <class 'numpy.uint8'>\n",
            "example 1: 49\n",
            "color 3: 196\n",
            "type of 2: <class 'numpy.uint8'>\n",
            "example 1: 49\n",
            "color 1: 190\n",
            "color 2: 153\n",
            "color 1: 196\n",
            "color 3: 153\n",
            "type of 2: <class 'numpy.uint8'>\n",
            "example 1: 49\n",
            "color 2: 196\n",
            "color 1: 196\n"
          ],
          "name": "stdout"
        },
        {
          "output_type": "stream",
          "text": [
            "ERROR:root:Error processing image {'id': 'zYmZJ19t5Fwq2_RJuwmXdw', 'source': 'mapillary_vistas', 'path': '/content/mapillary_vistas/training/images/zYmZJ19t5Fwq2_RJuwmXdw.jpg'}\n",
            "Traceback (most recent call last):\n",
            "  File \"/content/semantic_features_detection/mrcnn/model.py\", line 1709, in data_generator\n",
            "    use_mini_mask=config.USE_MINI_MASK)\n",
            "  File \"/content/semantic_features_detection/mrcnn/model.py\", line 1212, in load_image_gt\n",
            "    mask, class_ids = dataset.load_mask(image_id)\n",
            "  File \"/content/semantic_features_detection/samples/mapillary/mapillary.py\", line 153, in load_mask\n",
            "    self.color_to_classid[int(class_color[0,0])][int(class_color[0,1])][int(class_color[0,2])]\n",
            "KeyError: 153\n"
          ],
          "name": "stderr"
        },
        {
          "output_type": "stream",
          "text": [
            "color 3: 196\n",
            "type of 2: <class 'numpy.uint8'>\n",
            "example 1: 49\n",
            "color 2: 196\n",
            "color 3: 196\n",
            "type of 2: <class 'numpy.uint8'>\n",
            "example 1: 49\n",
            "color 1: 180\n",
            "color 2: 165\n",
            "color 1: 190\n",
            "color 2: 153\n",
            "color 3: 153\n",
            "type of 2: <class 'numpy.uint8'>\n",
            "example 1: 49\n"
          ],
          "name": "stdout"
        },
        {
          "output_type": "stream",
          "text": [
            "ERROR:root:Error processing image {'id': 'zYmZJ19t5Fwq2_RJuwmXdw', 'source': 'mapillary_vistas', 'path': '/content/mapillary_vistas/training/images/zYmZJ19t5Fwq2_RJuwmXdw.jpg'}\n",
            "Traceback (most recent call last):\n",
            "  File \"/content/semantic_features_detection/mrcnn/model.py\", line 1709, in data_generator\n",
            "    use_mini_mask=config.USE_MINI_MASK)\n",
            "  File \"/content/semantic_features_detection/mrcnn/model.py\", line 1212, in load_image_gt\n",
            "    mask, class_ids = dataset.load_mask(image_id)\n",
            "  File \"/content/semantic_features_detection/samples/mapillary/mapillary.py\", line 153, in load_mask\n",
            "    self.color_to_classid[int(class_color[0,0])][int(class_color[0,1])][int(class_color[0,2])]\n",
            "KeyError: 153\n"
          ],
          "name": "stderr"
        },
        {
          "output_type": "stream",
          "text": [
            "color 3: 180\n",
            "type of 2: <class 'numpy.uint8'>\n",
            "example 1: 49\n",
            "color 1: 180\n",
            "color 2: 165\n",
            "color 3: 180\n",
            "type of 2: <class 'numpy.uint8'>\n",
            "example 1: 49\n",
            "color 1: 196\n",
            "color 2: 196\n",
            "color 3: 196\n",
            "color 1: 196\n",
            "type of 2: <class 'numpy.uint8'>\n",
            "color 2: 196\n",
            "color 3: 196\n",
            "type of 2: <class 'numpy.uint8'>\n",
            "example 1: 49\n",
            "example 1: 49\n",
            "color 1: 190\n",
            "color 2: 153\n",
            "color 3: 153\n",
            "type of 2: <class 'numpy.uint8'>\n",
            "example 1: 49\n"
          ],
          "name": "stdout"
        },
        {
          "output_type": "stream",
          "text": [
            "ERROR:root:Error processing image {'id': 'zZGdSl2HznSyRA3rJPZZig', 'source': 'mapillary_vistas', 'path': '/content/mapillary_vistas/training/images/zZGdSl2HznSyRA3rJPZZig.jpg'}\n",
            "Traceback (most recent call last):\n",
            "  File \"/content/semantic_features_detection/mrcnn/model.py\", line 1709, in data_generator\n",
            "    use_mini_mask=config.USE_MINI_MASK)\n",
            "  File \"/content/semantic_features_detection/mrcnn/model.py\", line 1212, in load_image_gt\n",
            "    mask, class_ids = dataset.load_mask(image_id)\n",
            "  File \"/content/semantic_features_detection/samples/mapillary/mapillary.py\", line 153, in load_mask\n",
            "    self.color_to_classid[int(class_color[0,0])][int(class_color[0,1])][int(class_color[0,2])]\n",
            "KeyError: 153\n"
          ],
          "name": "stderr"
        },
        {
          "output_type": "stream",
          "text": [
            "color 1: 190\n",
            "color 2: 153\n",
            "color 3: 153\n",
            "type of 2: <class 'numpy.uint8'>\n",
            "example 1: 49\n"
          ],
          "name": "stdout"
        },
        {
          "output_type": "stream",
          "text": [
            "ERROR:root:Error processing image {'id': 'zZGdSl2HznSyRA3rJPZZig', 'source': 'mapillary_vistas', 'path': '/content/mapillary_vistas/training/images/zZGdSl2HznSyRA3rJPZZig.jpg'}\n",
            "Traceback (most recent call last):\n",
            "  File \"/content/semantic_features_detection/mrcnn/model.py\", line 1709, in data_generator\n",
            "    use_mini_mask=config.USE_MINI_MASK)\n",
            "  File \"/content/semantic_features_detection/mrcnn/model.py\", line 1212, in load_image_gt\n",
            "    mask, class_ids = dataset.load_mask(image_id)\n",
            "  File \"/content/semantic_features_detection/samples/mapillary/mapillary.py\", line 153, in load_mask\n",
            "    self.color_to_classid[int(class_color[0,0])][int(class_color[0,1])][int(class_color[0,2])]\n",
            "KeyError: 153\n"
          ],
          "name": "stderr"
        },
        {
          "output_type": "stream",
          "text": [
            "color 1: 196\n",
            "color 2: 196\n",
            "color 3: 196\n",
            "type of 2: <class 'numpy.uint8'>\n",
            "example 1: 49\n",
            "color 1: 196\n",
            "color 2: 196\n",
            "color 3: 196\n",
            "type of 2: <class 'numpy.uint8'>\n",
            "example 1: 49\n",
            "color 1: 190\n",
            "color 2: 153\n",
            "color 3: 153\n",
            "type of 2: <class 'numpy.uint8'>\n",
            "example 1: 49\n"
          ],
          "name": "stdout"
        },
        {
          "output_type": "stream",
          "text": [
            "ERROR:root:Error processing image {'id': 'ZYN4ba19y-RJ-9wOWycNHw', 'source': 'mapillary_vistas', 'path': '/content/mapillary_vistas/training/images/ZYN4ba19y-RJ-9wOWycNHw.jpg'}\n",
            "Traceback (most recent call last):\n",
            "  File \"/content/semantic_features_detection/mrcnn/model.py\", line 1709, in data_generator\n",
            "    use_mini_mask=config.USE_MINI_MASK)\n",
            "  File \"/content/semantic_features_detection/mrcnn/model.py\", line 1212, in load_image_gt\n",
            "    mask, class_ids = dataset.load_mask(image_id)\n",
            "  File \"/content/semantic_features_detection/samples/mapillary/mapillary.py\", line 153, in load_mask\n",
            "    self.color_to_classid[int(class_color[0,0])][int(class_color[0,1])][int(class_color[0,2])]\n",
            "KeyError: 153\n"
          ],
          "name": "stderr"
        },
        {
          "output_type": "stream",
          "text": [
            "color 1: 190\n",
            "color 2: 153\n",
            "color 3: 153\n",
            "type of 2: <class 'numpy.uint8'>\n",
            "example 1: 49\n"
          ],
          "name": "stdout"
        },
        {
          "output_type": "stream",
          "text": [
            "ERROR:root:Error processing image {'id': 'ZYN4ba19y-RJ-9wOWycNHw', 'source': 'mapillary_vistas', 'path': '/content/mapillary_vistas/training/images/ZYN4ba19y-RJ-9wOWycNHw.jpg'}\n",
            "Traceback (most recent call last):\n",
            "  File \"/content/semantic_features_detection/mrcnn/model.py\", line 1709, in data_generator\n",
            "    use_mini_mask=config.USE_MINI_MASK)\n",
            "  File \"/content/semantic_features_detection/mrcnn/model.py\", line 1212, in load_image_gt\n",
            "    mask, class_ids = dataset.load_mask(image_id)\n",
            "  File \"/content/semantic_features_detection/samples/mapillary/mapillary.py\", line 153, in load_mask\n",
            "    self.color_to_classid[int(class_color[0,0])][int(class_color[0,1])][int(class_color[0,2])]\n",
            "KeyError: 153\n"
          ],
          "name": "stderr"
        },
        {
          "output_type": "stream",
          "text": [
            "color 1: 196\n",
            "color 2: 196\n",
            "color 3: 196\n",
            "type of 2: <class 'numpy.uint8'>\n",
            "example 1: 49\n",
            "color 1: 190\n",
            "color 2: 153\n",
            "color 3: 153\n",
            "type of 2: <class 'numpy.uint8'>\n",
            "example 1: 49\n"
          ],
          "name": "stdout"
        },
        {
          "output_type": "stream",
          "text": [
            "ERROR:root:Error processing image {'id': 'ZyTE16WU7OLp3yzggErRKg', 'source': 'mapillary_vistas', 'path': '/content/mapillary_vistas/training/images/ZyTE16WU7OLp3yzggErRKg.jpg'}\n",
            "Traceback (most recent call last):\n",
            "  File \"/content/semantic_features_detection/mrcnn/model.py\", line 1709, in data_generator\n",
            "    use_mini_mask=config.USE_MINI_MASK)\n",
            "  File \"/content/semantic_features_detection/mrcnn/model.py\", line 1212, in load_image_gt\n",
            "    mask, class_ids = dataset.load_mask(image_id)\n",
            "  File \"/content/semantic_features_detection/samples/mapillary/mapillary.py\", line 153, in load_mask\n",
            "    self.color_to_classid[int(class_color[0,0])][int(class_color[0,1])][int(class_color[0,2])]\n",
            "KeyError: 153\n"
          ],
          "name": "stderr"
        },
        {
          "output_type": "stream",
          "text": [
            "color 1: 196\n",
            "color 2: 196\n",
            "color 3: 196\n",
            "type of 2: <class 'numpy.uint8'>\n",
            "example 1: 49\n",
            "color 1: 190\n",
            "color 2: 153\n",
            "color 3: 153\n",
            "type of 2: <class 'numpy.uint8'>\n",
            "example 1: 49\n"
          ],
          "name": "stdout"
        },
        {
          "output_type": "stream",
          "text": [
            "ERROR:root:Error processing image {'id': 'ZyTE16WU7OLp3yzggErRKg', 'source': 'mapillary_vistas', 'path': '/content/mapillary_vistas/training/images/ZyTE16WU7OLp3yzggErRKg.jpg'}\n",
            "Traceback (most recent call last):\n",
            "  File \"/content/semantic_features_detection/mrcnn/model.py\", line 1709, in data_generator\n",
            "    use_mini_mask=config.USE_MINI_MASK)\n",
            "  File \"/content/semantic_features_detection/mrcnn/model.py\", line 1212, in load_image_gt\n",
            "    mask, class_ids = dataset.load_mask(image_id)\n",
            "  File \"/content/semantic_features_detection/samples/mapillary/mapillary.py\", line 153, in load_mask\n",
            "    self.color_to_classid[int(class_color[0,0])][int(class_color[0,1])][int(class_color[0,2])]\n",
            "KeyError: 153\n"
          ],
          "name": "stderr"
        },
        {
          "output_type": "error",
          "ename": "KeyError",
          "evalue": "ignored",
          "traceback": [
            "\u001b[0;31m---------------------------------------------------------------------------\u001b[0m",
            "\u001b[0;31mRemoteTraceback\u001b[0m                           Traceback (most recent call last)",
            "\u001b[0;31mRemoteTraceback\u001b[0m: \n\"\"\"\nTraceback (most recent call last):\n  File \"/usr/lib/python3.6/multiprocessing/pool.py\", line 119, in worker\n    result = (True, func(*args, **kwds))\n  File \"/usr/local/lib/python3.6/dist-packages/keras/utils/data_utils.py\", line 641, in next_sample\n    return six.next(_SHARED_SEQUENCES[uid])\n  File \"/content/semantic_features_detection/mrcnn/model.py\", line 1709, in data_generator\n    use_mini_mask=config.USE_MINI_MASK)\n  File \"/content/semantic_features_detection/mrcnn/model.py\", line 1212, in load_image_gt\n    mask, class_ids = dataset.load_mask(image_id)\n  File \"/content/semantic_features_detection/samples/mapillary/mapillary.py\", line 153, in load_mask\n    self.color_to_classid[int(class_color[0,0])][int(class_color[0,1])][int(class_color[0,2])]\nKeyError: 153\n\"\"\"",
            "\nThe above exception was the direct cause of the following exception:\n",
            "\u001b[0;31mKeyError\u001b[0m                                  Traceback (most recent call last)",
            "\u001b[0;32m<ipython-input-7-0a2338b4e787>\u001b[0m in \u001b[0;36m<module>\u001b[0;34m()\u001b[0m\n\u001b[1;32m      3\u001b[0m             \u001b[0mlearning_rate\u001b[0m\u001b[0;34m=\u001b[0m\u001b[0mconfig\u001b[0m\u001b[0;34m.\u001b[0m\u001b[0mLEARNING_RATE\u001b[0m\u001b[0;34m,\u001b[0m\u001b[0;34m\u001b[0m\u001b[0;34m\u001b[0m\u001b[0m\n\u001b[1;32m      4\u001b[0m             \u001b[0mepochs\u001b[0m\u001b[0;34m=\u001b[0m\u001b[0;36m40\u001b[0m\u001b[0;34m,\u001b[0m\u001b[0;34m\u001b[0m\u001b[0;34m\u001b[0m\u001b[0m\n\u001b[0;32m----> 5\u001b[0;31m             layers='heads')\n\u001b[0m",
            "\u001b[0;32m/content/semantic_features_detection/mrcnn/model.py\u001b[0m in \u001b[0;36mtrain\u001b[0;34m(self, train_dataset, val_dataset, learning_rate, epochs, layers, augmentation, custom_callbacks, no_augmentation_sources)\u001b[0m\n\u001b[1;32m   2372\u001b[0m             \u001b[0mmax_queue_size\u001b[0m\u001b[0;34m=\u001b[0m\u001b[0;36m100\u001b[0m\u001b[0;34m,\u001b[0m\u001b[0;34m\u001b[0m\u001b[0;34m\u001b[0m\u001b[0m\n\u001b[1;32m   2373\u001b[0m             \u001b[0mworkers\u001b[0m\u001b[0;34m=\u001b[0m\u001b[0mworkers\u001b[0m\u001b[0;34m,\u001b[0m\u001b[0;34m\u001b[0m\u001b[0;34m\u001b[0m\u001b[0m\n\u001b[0;32m-> 2374\u001b[0;31m             \u001b[0muse_multiprocessing\u001b[0m\u001b[0;34m=\u001b[0m\u001b[0;32mTrue\u001b[0m\u001b[0;34m,\u001b[0m\u001b[0;34m\u001b[0m\u001b[0;34m\u001b[0m\u001b[0m\n\u001b[0m\u001b[1;32m   2375\u001b[0m         )\n\u001b[1;32m   2376\u001b[0m         \u001b[0mself\u001b[0m\u001b[0;34m.\u001b[0m\u001b[0mepoch\u001b[0m \u001b[0;34m=\u001b[0m \u001b[0mmax\u001b[0m\u001b[0;34m(\u001b[0m\u001b[0mself\u001b[0m\u001b[0;34m.\u001b[0m\u001b[0mepoch\u001b[0m\u001b[0;34m,\u001b[0m \u001b[0mepochs\u001b[0m\u001b[0;34m)\u001b[0m\u001b[0;34m\u001b[0m\u001b[0;34m\u001b[0m\u001b[0m\n",
            "\u001b[0;32m/usr/local/lib/python3.6/dist-packages/keras/legacy/interfaces.py\u001b[0m in \u001b[0;36mwrapper\u001b[0;34m(*args, **kwargs)\u001b[0m\n\u001b[1;32m     89\u001b[0m                 warnings.warn('Update your `' + object_name + '` call to the ' +\n\u001b[1;32m     90\u001b[0m                               'Keras 2 API: ' + signature, stacklevel=2)\n\u001b[0;32m---> 91\u001b[0;31m             \u001b[0;32mreturn\u001b[0m \u001b[0mfunc\u001b[0m\u001b[0;34m(\u001b[0m\u001b[0;34m*\u001b[0m\u001b[0margs\u001b[0m\u001b[0;34m,\u001b[0m \u001b[0;34m**\u001b[0m\u001b[0mkwargs\u001b[0m\u001b[0;34m)\u001b[0m\u001b[0;34m\u001b[0m\u001b[0;34m\u001b[0m\u001b[0m\n\u001b[0m\u001b[1;32m     92\u001b[0m         \u001b[0mwrapper\u001b[0m\u001b[0;34m.\u001b[0m\u001b[0m_original_function\u001b[0m \u001b[0;34m=\u001b[0m \u001b[0mfunc\u001b[0m\u001b[0;34m\u001b[0m\u001b[0;34m\u001b[0m\u001b[0m\n\u001b[1;32m     93\u001b[0m         \u001b[0;32mreturn\u001b[0m \u001b[0mwrapper\u001b[0m\u001b[0;34m\u001b[0m\u001b[0;34m\u001b[0m\u001b[0m\n",
            "\u001b[0;32m/usr/local/lib/python3.6/dist-packages/keras/engine/training.py\u001b[0m in \u001b[0;36mfit_generator\u001b[0;34m(self, generator, steps_per_epoch, epochs, verbose, callbacks, validation_data, validation_steps, validation_freq, class_weight, max_queue_size, workers, use_multiprocessing, shuffle, initial_epoch)\u001b[0m\n\u001b[1;32m   1656\u001b[0m             \u001b[0muse_multiprocessing\u001b[0m\u001b[0;34m=\u001b[0m\u001b[0muse_multiprocessing\u001b[0m\u001b[0;34m,\u001b[0m\u001b[0;34m\u001b[0m\u001b[0;34m\u001b[0m\u001b[0m\n\u001b[1;32m   1657\u001b[0m             \u001b[0mshuffle\u001b[0m\u001b[0;34m=\u001b[0m\u001b[0mshuffle\u001b[0m\u001b[0;34m,\u001b[0m\u001b[0;34m\u001b[0m\u001b[0;34m\u001b[0m\u001b[0m\n\u001b[0;32m-> 1658\u001b[0;31m             initial_epoch=initial_epoch)\n\u001b[0m\u001b[1;32m   1659\u001b[0m \u001b[0;34m\u001b[0m\u001b[0m\n\u001b[1;32m   1660\u001b[0m     \u001b[0;34m@\u001b[0m\u001b[0minterfaces\u001b[0m\u001b[0;34m.\u001b[0m\u001b[0mlegacy_generator_methods_support\u001b[0m\u001b[0;34m\u001b[0m\u001b[0;34m\u001b[0m\u001b[0m\n",
            "\u001b[0;32m/usr/local/lib/python3.6/dist-packages/keras/engine/training_generator.py\u001b[0m in \u001b[0;36mfit_generator\u001b[0;34m(model, generator, steps_per_epoch, epochs, verbose, callbacks, validation_data, validation_steps, validation_freq, class_weight, max_queue_size, workers, use_multiprocessing, shuffle, initial_epoch)\u001b[0m\n\u001b[1;32m    179\u001b[0m             \u001b[0mbatch_index\u001b[0m \u001b[0;34m=\u001b[0m \u001b[0;36m0\u001b[0m\u001b[0;34m\u001b[0m\u001b[0;34m\u001b[0m\u001b[0m\n\u001b[1;32m    180\u001b[0m             \u001b[0;32mwhile\u001b[0m \u001b[0msteps_done\u001b[0m \u001b[0;34m<\u001b[0m \u001b[0msteps_per_epoch\u001b[0m\u001b[0;34m:\u001b[0m\u001b[0;34m\u001b[0m\u001b[0;34m\u001b[0m\u001b[0m\n\u001b[0;32m--> 181\u001b[0;31m                 \u001b[0mgenerator_output\u001b[0m \u001b[0;34m=\u001b[0m \u001b[0mnext\u001b[0m\u001b[0;34m(\u001b[0m\u001b[0moutput_generator\u001b[0m\u001b[0;34m)\u001b[0m\u001b[0;34m\u001b[0m\u001b[0;34m\u001b[0m\u001b[0m\n\u001b[0m\u001b[1;32m    182\u001b[0m \u001b[0;34m\u001b[0m\u001b[0m\n\u001b[1;32m    183\u001b[0m                 \u001b[0;32mif\u001b[0m \u001b[0;32mnot\u001b[0m \u001b[0mhasattr\u001b[0m\u001b[0;34m(\u001b[0m\u001b[0mgenerator_output\u001b[0m\u001b[0;34m,\u001b[0m \u001b[0;34m'__len__'\u001b[0m\u001b[0;34m)\u001b[0m\u001b[0;34m:\u001b[0m\u001b[0;34m\u001b[0m\u001b[0;34m\u001b[0m\u001b[0m\n",
            "\u001b[0;32m/usr/local/lib/python3.6/dist-packages/keras/utils/data_utils.py\u001b[0m in \u001b[0;36mget\u001b[0;34m(self)\u001b[0m\n\u001b[1;32m    731\u001b[0m                     \u001b[0;34m\"`use_multiprocessing=False, workers > 1`.\"\u001b[0m\u001b[0;34m\u001b[0m\u001b[0;34m\u001b[0m\u001b[0m\n\u001b[1;32m    732\u001b[0m                     \"For more information see issue #1638.\")\n\u001b[0;32m--> 733\u001b[0;31m             \u001b[0msix\u001b[0m\u001b[0;34m.\u001b[0m\u001b[0mreraise\u001b[0m\u001b[0;34m(\u001b[0m\u001b[0;34m*\u001b[0m\u001b[0msys\u001b[0m\u001b[0;34m.\u001b[0m\u001b[0mexc_info\u001b[0m\u001b[0;34m(\u001b[0m\u001b[0;34m)\u001b[0m\u001b[0;34m)\u001b[0m\u001b[0;34m\u001b[0m\u001b[0;34m\u001b[0m\u001b[0m\n\u001b[0m",
            "\u001b[0;32m/usr/local/lib/python3.6/dist-packages/six.py\u001b[0m in \u001b[0;36mreraise\u001b[0;34m(tp, value, tb)\u001b[0m\n\u001b[1;32m    691\u001b[0m             \u001b[0;32mif\u001b[0m \u001b[0mvalue\u001b[0m\u001b[0;34m.\u001b[0m\u001b[0m__traceback__\u001b[0m \u001b[0;32mis\u001b[0m \u001b[0;32mnot\u001b[0m \u001b[0mtb\u001b[0m\u001b[0;34m:\u001b[0m\u001b[0;34m\u001b[0m\u001b[0;34m\u001b[0m\u001b[0m\n\u001b[1;32m    692\u001b[0m                 \u001b[0;32mraise\u001b[0m \u001b[0mvalue\u001b[0m\u001b[0;34m.\u001b[0m\u001b[0mwith_traceback\u001b[0m\u001b[0;34m(\u001b[0m\u001b[0mtb\u001b[0m\u001b[0;34m)\u001b[0m\u001b[0;34m\u001b[0m\u001b[0;34m\u001b[0m\u001b[0m\n\u001b[0;32m--> 693\u001b[0;31m             \u001b[0;32mraise\u001b[0m \u001b[0mvalue\u001b[0m\u001b[0;34m\u001b[0m\u001b[0;34m\u001b[0m\u001b[0m\n\u001b[0m\u001b[1;32m    694\u001b[0m         \u001b[0;32mfinally\u001b[0m\u001b[0;34m:\u001b[0m\u001b[0;34m\u001b[0m\u001b[0;34m\u001b[0m\u001b[0m\n\u001b[1;32m    695\u001b[0m             \u001b[0mvalue\u001b[0m \u001b[0;34m=\u001b[0m \u001b[0;32mNone\u001b[0m\u001b[0;34m\u001b[0m\u001b[0;34m\u001b[0m\u001b[0m\n",
            "\u001b[0;32m/usr/local/lib/python3.6/dist-packages/keras/utils/data_utils.py\u001b[0m in \u001b[0;36mget\u001b[0;34m(self)\u001b[0m\n\u001b[1;32m    700\u001b[0m                 \u001b[0;32mtry\u001b[0m\u001b[0;34m:\u001b[0m\u001b[0;34m\u001b[0m\u001b[0;34m\u001b[0m\u001b[0m\n\u001b[1;32m    701\u001b[0m                     \u001b[0mfuture\u001b[0m \u001b[0;34m=\u001b[0m \u001b[0mself\u001b[0m\u001b[0;34m.\u001b[0m\u001b[0mqueue\u001b[0m\u001b[0;34m.\u001b[0m\u001b[0mget\u001b[0m\u001b[0;34m(\u001b[0m\u001b[0mblock\u001b[0m\u001b[0;34m=\u001b[0m\u001b[0;32mTrue\u001b[0m\u001b[0;34m)\u001b[0m\u001b[0;34m\u001b[0m\u001b[0;34m\u001b[0m\u001b[0m\n\u001b[0;32m--> 702\u001b[0;31m                     \u001b[0minputs\u001b[0m \u001b[0;34m=\u001b[0m \u001b[0mfuture\u001b[0m\u001b[0;34m.\u001b[0m\u001b[0mget\u001b[0m\u001b[0;34m(\u001b[0m\u001b[0mtimeout\u001b[0m\u001b[0;34m=\u001b[0m\u001b[0;36m30\u001b[0m\u001b[0;34m)\u001b[0m\u001b[0;34m\u001b[0m\u001b[0;34m\u001b[0m\u001b[0m\n\u001b[0m\u001b[1;32m    703\u001b[0m                     \u001b[0mself\u001b[0m\u001b[0;34m.\u001b[0m\u001b[0mqueue\u001b[0m\u001b[0;34m.\u001b[0m\u001b[0mtask_done\u001b[0m\u001b[0;34m(\u001b[0m\u001b[0;34m)\u001b[0m\u001b[0;34m\u001b[0m\u001b[0;34m\u001b[0m\u001b[0m\n\u001b[1;32m    704\u001b[0m                 \u001b[0;32mexcept\u001b[0m \u001b[0mmp\u001b[0m\u001b[0;34m.\u001b[0m\u001b[0mTimeoutError\u001b[0m\u001b[0;34m:\u001b[0m\u001b[0;34m\u001b[0m\u001b[0;34m\u001b[0m\u001b[0m\n",
            "\u001b[0;32m/usr/lib/python3.6/multiprocessing/pool.py\u001b[0m in \u001b[0;36mget\u001b[0;34m(self, timeout)\u001b[0m\n\u001b[1;32m    642\u001b[0m             \u001b[0;32mreturn\u001b[0m \u001b[0mself\u001b[0m\u001b[0;34m.\u001b[0m\u001b[0m_value\u001b[0m\u001b[0;34m\u001b[0m\u001b[0;34m\u001b[0m\u001b[0m\n\u001b[1;32m    643\u001b[0m         \u001b[0;32melse\u001b[0m\u001b[0;34m:\u001b[0m\u001b[0;34m\u001b[0m\u001b[0;34m\u001b[0m\u001b[0m\n\u001b[0;32m--> 644\u001b[0;31m             \u001b[0;32mraise\u001b[0m \u001b[0mself\u001b[0m\u001b[0;34m.\u001b[0m\u001b[0m_value\u001b[0m\u001b[0;34m\u001b[0m\u001b[0;34m\u001b[0m\u001b[0m\n\u001b[0m\u001b[1;32m    645\u001b[0m \u001b[0;34m\u001b[0m\u001b[0m\n\u001b[1;32m    646\u001b[0m     \u001b[0;32mdef\u001b[0m \u001b[0m_set\u001b[0m\u001b[0;34m(\u001b[0m\u001b[0mself\u001b[0m\u001b[0;34m,\u001b[0m \u001b[0mi\u001b[0m\u001b[0;34m,\u001b[0m \u001b[0mobj\u001b[0m\u001b[0;34m)\u001b[0m\u001b[0;34m:\u001b[0m\u001b[0;34m\u001b[0m\u001b[0;34m\u001b[0m\u001b[0m\n",
            "\u001b[0;32m/usr/lib/python3.6/multiprocessing/pool.py\u001b[0m in \u001b[0;36mworker\u001b[0;34m()\u001b[0m\n\u001b[1;32m    117\u001b[0m         \u001b[0mjob\u001b[0m\u001b[0;34m,\u001b[0m \u001b[0mi\u001b[0m\u001b[0;34m,\u001b[0m \u001b[0mfunc\u001b[0m\u001b[0;34m,\u001b[0m \u001b[0margs\u001b[0m\u001b[0;34m,\u001b[0m \u001b[0mkwds\u001b[0m \u001b[0;34m=\u001b[0m \u001b[0mtask\u001b[0m\u001b[0;34m\u001b[0m\u001b[0;34m\u001b[0m\u001b[0m\n\u001b[1;32m    118\u001b[0m         \u001b[0;32mtry\u001b[0m\u001b[0;34m:\u001b[0m\u001b[0;34m\u001b[0m\u001b[0;34m\u001b[0m\u001b[0m\n\u001b[0;32m--> 119\u001b[0;31m             \u001b[0mresult\u001b[0m \u001b[0;34m=\u001b[0m \u001b[0;34m(\u001b[0m\u001b[0;32mTrue\u001b[0m\u001b[0;34m,\u001b[0m \u001b[0mfunc\u001b[0m\u001b[0;34m(\u001b[0m\u001b[0;34m*\u001b[0m\u001b[0margs\u001b[0m\u001b[0;34m,\u001b[0m \u001b[0;34m**\u001b[0m\u001b[0mkwds\u001b[0m\u001b[0;34m)\u001b[0m\u001b[0;34m)\u001b[0m\u001b[0;34m\u001b[0m\u001b[0;34m\u001b[0m\u001b[0m\n\u001b[0m\u001b[1;32m    120\u001b[0m         \u001b[0;32mexcept\u001b[0m \u001b[0mException\u001b[0m \u001b[0;32mas\u001b[0m \u001b[0me\u001b[0m\u001b[0;34m:\u001b[0m\u001b[0;34m\u001b[0m\u001b[0;34m\u001b[0m\u001b[0m\n\u001b[1;32m    121\u001b[0m             \u001b[0;32mif\u001b[0m \u001b[0mwrap_exception\u001b[0m \u001b[0;32mand\u001b[0m \u001b[0mfunc\u001b[0m \u001b[0;32mis\u001b[0m \u001b[0;32mnot\u001b[0m \u001b[0m_helper_reraises_exception\u001b[0m\u001b[0;34m:\u001b[0m\u001b[0;34m\u001b[0m\u001b[0;34m\u001b[0m\u001b[0m\n",
            "\u001b[0;32m/usr/local/lib/python3.6/dist-packages/keras/utils/data_utils.py\u001b[0m in \u001b[0;36mnext_sample\u001b[0;34m()\u001b[0m\n\u001b[1;32m    639\u001b[0m         \u001b[0mThe\u001b[0m \u001b[0mnext\u001b[0m \u001b[0mvalue\u001b[0m \u001b[0mof\u001b[0m \u001b[0mgenerator\u001b[0m\u001b[0;31m \u001b[0m\u001b[0;31m`\u001b[0m\u001b[0muid\u001b[0m\u001b[0;31m`\u001b[0m\u001b[0;34m.\u001b[0m\u001b[0;34m\u001b[0m\u001b[0;34m\u001b[0m\u001b[0m\n\u001b[1;32m    640\u001b[0m     \"\"\"\n\u001b[0;32m--> 641\u001b[0;31m     \u001b[0;32mreturn\u001b[0m \u001b[0msix\u001b[0m\u001b[0;34m.\u001b[0m\u001b[0mnext\u001b[0m\u001b[0;34m(\u001b[0m\u001b[0m_SHARED_SEQUENCES\u001b[0m\u001b[0;34m[\u001b[0m\u001b[0muid\u001b[0m\u001b[0;34m]\u001b[0m\u001b[0;34m)\u001b[0m\u001b[0;34m\u001b[0m\u001b[0;34m\u001b[0m\u001b[0m\n\u001b[0m\u001b[1;32m    642\u001b[0m \u001b[0;34m\u001b[0m\u001b[0m\n\u001b[1;32m    643\u001b[0m \u001b[0;34m\u001b[0m\u001b[0m\n",
            "\u001b[0;32m/content/semantic_features_detection/mrcnn/model.py\u001b[0m in \u001b[0;36mdata_generator\u001b[0;34m()\u001b[0m\n\u001b[1;32m   1707\u001b[0m                     load_image_gt(dataset, config, image_id, augment=augment,\n\u001b[1;32m   1708\u001b[0m                                 \u001b[0maugmentation\u001b[0m\u001b[0;34m=\u001b[0m\u001b[0maugmentation\u001b[0m\u001b[0;34m,\u001b[0m\u001b[0;34m\u001b[0m\u001b[0;34m\u001b[0m\u001b[0m\n\u001b[0;32m-> 1709\u001b[0;31m                                 use_mini_mask=config.USE_MINI_MASK)\n\u001b[0m\u001b[1;32m   1710\u001b[0m \u001b[0;34m\u001b[0m\u001b[0m\n\u001b[1;32m   1711\u001b[0m             \u001b[0;31m# Skip images that have no instances. This can happen in cases\u001b[0m\u001b[0;34m\u001b[0m\u001b[0;34m\u001b[0m\u001b[0;34m\u001b[0m\u001b[0m\n",
            "\u001b[0;32m/content/semantic_features_detection/mrcnn/model.py\u001b[0m in \u001b[0;36mload_image_gt\u001b[0;34m()\u001b[0m\n\u001b[1;32m   1210\u001b[0m     \u001b[0;31m# Load image and mask\u001b[0m\u001b[0;34m\u001b[0m\u001b[0;34m\u001b[0m\u001b[0;34m\u001b[0m\u001b[0m\n\u001b[1;32m   1211\u001b[0m     \u001b[0mimage\u001b[0m \u001b[0;34m=\u001b[0m \u001b[0mdataset\u001b[0m\u001b[0;34m.\u001b[0m\u001b[0mload_image\u001b[0m\u001b[0;34m(\u001b[0m\u001b[0mimage_id\u001b[0m\u001b[0;34m)\u001b[0m\u001b[0;34m\u001b[0m\u001b[0;34m\u001b[0m\u001b[0m\n\u001b[0;32m-> 1212\u001b[0;31m     \u001b[0mmask\u001b[0m\u001b[0;34m,\u001b[0m \u001b[0mclass_ids\u001b[0m \u001b[0;34m=\u001b[0m \u001b[0mdataset\u001b[0m\u001b[0;34m.\u001b[0m\u001b[0mload_mask\u001b[0m\u001b[0;34m(\u001b[0m\u001b[0mimage_id\u001b[0m\u001b[0;34m)\u001b[0m\u001b[0;34m\u001b[0m\u001b[0;34m\u001b[0m\u001b[0m\n\u001b[0m\u001b[1;32m   1213\u001b[0m     \u001b[0moriginal_shape\u001b[0m \u001b[0;34m=\u001b[0m \u001b[0mimage\u001b[0m\u001b[0;34m.\u001b[0m\u001b[0mshape\u001b[0m\u001b[0;34m\u001b[0m\u001b[0;34m\u001b[0m\u001b[0m\n\u001b[1;32m   1214\u001b[0m     image, window, scale, padding, crop = utils.resize_image(\n",
            "\u001b[0;32m/content/semantic_features_detection/samples/mapillary/mapillary.py\u001b[0m in \u001b[0;36mload_mask\u001b[0;34m()\u001b[0m\n\u001b[1;32m    151\u001b[0m                 \u001b[0mprint\u001b[0m\u001b[0;34m(\u001b[0m\u001b[0;34m'example 1: {}'\u001b[0m\u001b[0;34m.\u001b[0m\u001b[0mformat\u001b[0m\u001b[0;34m(\u001b[0m\u001b[0mself\u001b[0m\u001b[0;34m.\u001b[0m\u001b[0mcolor_to_classid\u001b[0m\u001b[0;34m[\u001b[0m\u001b[0;36m192\u001b[0m\u001b[0;34m]\u001b[0m\u001b[0;34m[\u001b[0m\u001b[0;36m192\u001b[0m\u001b[0;34m]\u001b[0m\u001b[0;34m[\u001b[0m\u001b[0;36m192\u001b[0m\u001b[0;34m]\u001b[0m\u001b[0;34m)\u001b[0m\u001b[0;34m)\u001b[0m\u001b[0;34m\u001b[0m\u001b[0;34m\u001b[0m\u001b[0m\n\u001b[1;32m    152\u001b[0m                 class_ids.append(\n\u001b[0;32m--> 153\u001b[0;31m                     \u001b[0mself\u001b[0m\u001b[0;34m.\u001b[0m\u001b[0mcolor_to_classid\u001b[0m\u001b[0;34m[\u001b[0m\u001b[0mint\u001b[0m\u001b[0;34m(\u001b[0m\u001b[0mclass_color\u001b[0m\u001b[0;34m[\u001b[0m\u001b[0;36m0\u001b[0m\u001b[0;34m,\u001b[0m\u001b[0;36m0\u001b[0m\u001b[0;34m]\u001b[0m\u001b[0;34m)\u001b[0m\u001b[0;34m]\u001b[0m\u001b[0;34m[\u001b[0m\u001b[0mint\u001b[0m\u001b[0;34m(\u001b[0m\u001b[0mclass_color\u001b[0m\u001b[0;34m[\u001b[0m\u001b[0;36m0\u001b[0m\u001b[0;34m,\u001b[0m\u001b[0;36m1\u001b[0m\u001b[0;34m]\u001b[0m\u001b[0;34m)\u001b[0m\u001b[0;34m]\u001b[0m\u001b[0;34m[\u001b[0m\u001b[0mint\u001b[0m\u001b[0;34m(\u001b[0m\u001b[0mclass_color\u001b[0m\u001b[0;34m[\u001b[0m\u001b[0;36m0\u001b[0m\u001b[0;34m,\u001b[0m\u001b[0;36m2\u001b[0m\u001b[0;34m]\u001b[0m\u001b[0;34m)\u001b[0m\u001b[0;34m]\u001b[0m\u001b[0;34m\u001b[0m\u001b[0;34m\u001b[0m\u001b[0m\n\u001b[0m\u001b[1;32m    154\u001b[0m                     )\n\u001b[1;32m    155\u001b[0m                 \u001b[0minstance_masks\u001b[0m\u001b[0;34m.\u001b[0m\u001b[0mappend\u001b[0m\u001b[0;34m(\u001b[0m\u001b[0mbinary_mask\u001b[0m\u001b[0;34m)\u001b[0m\u001b[0;34m\u001b[0m\u001b[0;34m\u001b[0m\u001b[0m\n",
            "\u001b[0;31mKeyError\u001b[0m: 153"
          ]
        }
      ]
    },
    {
      "cell_type": "code",
      "metadata": {
        "id": "awuqfJfPVaA2",
        "colab_type": "code",
        "colab": {}
      },
      "source": [
        "# Training - Stage 2\n",
        "# Finetune layers from ResNet stage 4 and up\n",
        "print(\"Fine tune Resnet stage 4 and up\")\n",
        "model.train(dataset_train, dataset_val,\n",
        "            learning_rate=config.LEARNING_RATE,\n",
        "            epochs=120,\n",
        "            layers='4+')\n",
        "\n"
      ],
      "execution_count": 0,
      "outputs": []
    },
    {
      "cell_type": "code",
      "metadata": {
        "id": "51mzcb6BVbu3",
        "colab_type": "code",
        "colab": {}
      },
      "source": [
        "# Training - Stage 3\n",
        "# Fine tune all layers\n",
        "print(\"Fine tune all layers\")\n",
        "model.train(dataset_train, dataset_val,\n",
        "            learning_rate=config.LEARNING_RATE / 10,\n",
        "            epochs=160,\n",
        "            layers='all')"
      ],
      "execution_count": 0,
      "outputs": []
    }
  ]
}