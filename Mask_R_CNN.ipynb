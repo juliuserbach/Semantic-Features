{
  "nbformat": 4,
  "nbformat_minor": 0,
  "metadata": {
    "colab": {
      "name": "Mask-R-CNN.ipynb",
      "provenance": [],
      "collapsed_sections": [],
      "authorship_tag": "ABX9TyPY5wYmp3qOBQHoyGWJJsG6",
      "include_colab_link": true
    },
    "kernelspec": {
      "name": "python3",
      "display_name": "Python 3"
    },
    "accelerator": "GPU"
  },
  "cells": [
    {
      "cell_type": "markdown",
      "metadata": {
        "id": "view-in-github",
        "colab_type": "text"
      },
      "source": [
        "<a href=\"https://colab.research.google.com/github/juliuserbach/Semantic-Features/blob/master/Mask_R_CNN.ipynb\" target=\"_parent\"><img src=\"https://colab.research.google.com/assets/colab-badge.svg\" alt=\"Open In Colab\"/></a>"
      ]
    },
    {
      "cell_type": "code",
      "metadata": {
        "id": "jqs13ramKg_K",
        "colab_type": "code",
        "outputId": "0978415c-754f-4e57-c476-eca1ca76f218",
        "colab": {
          "base_uri": "https://localhost:8080/",
          "height": 144
        }
      },
      "source": [
        "!git clone https://github.com/ftaubner/semantic_features_detection.git"
      ],
      "execution_count": 1,
      "outputs": [
        {
          "output_type": "stream",
          "text": [
            "Cloning into 'semantic_features_detection'...\n",
            "remote: Enumerating objects: 93, done.\u001b[K\n",
            "remote: Counting objects:   1% (1/93)\u001b[K\rremote: Counting objects:   2% (2/93)\u001b[K\rremote: Counting objects:   3% (3/93)\u001b[K\rremote: Counting objects:   4% (4/93)\u001b[K\rremote: Counting objects:   5% (5/93)\u001b[K\rremote: Counting objects:   6% (6/93)\u001b[K\rremote: Counting objects:   7% (7/93)\u001b[K\rremote: Counting objects:   8% (8/93)\u001b[K\rremote: Counting objects:   9% (9/93)\u001b[K\rremote: Counting objects:  10% (10/93)\u001b[K\rremote: Counting objects:  11% (11/93)\u001b[K\rremote: Counting objects:  12% (12/93)\u001b[K\rremote: Counting objects:  13% (13/93)\u001b[K\rremote: Counting objects:  15% (14/93)\u001b[K\rremote: Counting objects:  16% (15/93)\u001b[K\rremote: Counting objects:  17% (16/93)\u001b[K\rremote: Counting objects:  18% (17/93)\u001b[K\rremote: Counting objects:  19% (18/93)\u001b[K\rremote: Counting objects:  20% (19/93)\u001b[K\rremote: Counting objects:  21% (20/93)\u001b[K\rremote: Counting objects:  22% (21/93)\u001b[K\rremote: Counting objects:  23% (22/93)\u001b[K\rremote: Counting objects:  24% (23/93)\u001b[K\rremote: Counting objects:  25% (24/93)\u001b[K\rremote: Counting objects:  26% (25/93)\u001b[K\rremote: Counting objects:  27% (26/93)\u001b[K\rremote: Counting objects:  29% (27/93)\u001b[K\rremote: Counting objects:  30% (28/93)\u001b[K\rremote: Counting objects:  31% (29/93)\u001b[K\rremote: Counting objects:  32% (30/93)\u001b[K\rremote: Counting objects:  33% (31/93)\u001b[K\rremote: Counting objects:  34% (32/93)\u001b[K\rremote: Counting objects:  35% (33/93)\u001b[K\rremote: Counting objects:  36% (34/93)\u001b[K\rremote: Counting objects:  37% (35/93)\u001b[K\rremote: Counting objects:  38% (36/93)\u001b[K\rremote: Counting objects:  39% (37/93)\u001b[K\rremote: Counting objects:  40% (38/93)\u001b[K\rremote: Counting objects:  41% (39/93)\u001b[K\rremote: Counting objects:  43% (40/93)\u001b[K\rremote: Counting objects:  44% (41/93)\u001b[K\rremote: Counting objects:  45% (42/93)\u001b[K\rremote: Counting objects:  46% (43/93)\u001b[K\rremote: Counting objects:  47% (44/93)\u001b[K\rremote: Counting objects:  48% (45/93)\u001b[K\rremote: Counting objects:  49% (46/93)\u001b[K\rremote: Counting objects:  50% (47/93)\u001b[K\rremote: Counting objects:  51% (48/93)\u001b[K\rremote: Counting objects:  52% (49/93)\u001b[K\rremote: Counting objects:  53% (50/93)\u001b[K\rremote: Counting objects:  54% (51/93)\u001b[K\rremote: Counting objects:  55% (52/93)\u001b[K\rremote: Counting objects:  56% (53/93)\u001b[K\rremote: Counting objects:  58% (54/93)\u001b[K\rremote: Counting objects:  59% (55/93)\u001b[K\rremote: Counting objects:  60% (56/93)\u001b[K\rremote: Counting objects:  61% (57/93)\u001b[K\rremote: Counting objects:  62% (58/93)\u001b[K\rremote: Counting objects:  63% (59/93)\u001b[K\rremote: Counting objects:  64% (60/93)\u001b[K\rremote: Counting objects:  65% (61/93)\u001b[K\rremote: Counting objects:  66% (62/93)\u001b[K\rremote: Counting objects:  67% (63/93)\u001b[K\rremote: Counting objects:  68% (64/93)\u001b[K\rremote: Counting objects:  69% (65/93)\u001b[K\rremote: Counting objects:  70% (66/93)\u001b[K\rremote: Counting objects:  72% (67/93)\u001b[K\rremote: Counting objects:  73% (68/93)\u001b[K\rremote: Counting objects:  74% (69/93)\u001b[K\rremote: Counting objects:  75% (70/93)\u001b[K\rremote: Counting objects:  76% (71/93)\u001b[K\rremote: Counting objects:  77% (72/93)\u001b[K\rremote: Counting objects:  78% (73/93)\u001b[K\rremote: Counting objects:  79% (74/93)\u001b[K\rremote: Counting objects:  80% (75/93)\u001b[K\rremote: Counting objects:  81% (76/93)\u001b[K\rremote: Counting objects:  82% (77/93)\u001b[K\rremote: Counting objects:  83% (78/93)\u001b[K\rremote: Counting objects:  84% (79/93)\u001b[K\rremote: Counting objects:  86% (80/93)\u001b[K\rremote: Counting objects:  87% (81/93)\u001b[K\rremote: Counting objects:  88% (82/93)\u001b[K\rremote: Counting objects:  89% (83/93)\u001b[K\rremote: Counting objects:  90% (84/93)\u001b[K\rremote: Counting objects:  91% (85/93)\u001b[K\rremote: Counting objects:  92% (86/93)\u001b[K\rremote: Counting objects:  93% (87/93)\u001b[K\rremote: Counting objects:  94% (88/93)\u001b[K\rremote: Counting objects:  95% (89/93)\u001b[K\rremote: Counting objects:  96% (90/93)\u001b[K\rremote: Counting objects:  97% (91/93)\u001b[K\rremote: Counting objects:  98% (92/93)\u001b[K\rremote: Counting objects: 100% (93/93)\u001b[K\rremote: Counting objects: 100% (93/93), done.\u001b[K\n",
            "remote: Compressing objects: 100% (63/63), done.\u001b[K\n",
            "remote: Total 1110 (delta 52), reused 32 (delta 13), pack-reused 1017\u001b[K\n",
            "Receiving objects: 100% (1110/1110), 113.90 MiB | 46.65 MiB/s, done.\n",
            "Resolving deltas: 100% (658/658), done.\n"
          ],
          "name": "stdout"
        }
      ]
    },
    {
      "cell_type": "code",
      "metadata": {
        "id": "RMkSQoH1ZGYA",
        "colab_type": "code",
        "outputId": "6e168378-8431-486f-8fe3-97770a06ee6a",
        "colab": {
          "base_uri": "https://localhost:8080/",
          "height": 212
        }
      },
      "source": [
        "!wget --no-check-certificate \"https://onedrive.live.com/download?cid=EA356294C6263A37&resid=EA356294C6263A37%2199865&authkey=ALxjJOloi9Wjk80\" -O mapillary_vistas_sample.zip"
      ],
      "execution_count": 0,
      "outputs": [
        {
          "output_type": "stream",
          "text": [
            "--2020-04-01 10:49:08--  https://onedrive.live.com/download?cid=EA356294C6263A37&resid=EA356294C6263A37%2199865&authkey=ALxjJOloi9Wjk80\n",
            "Resolving onedrive.live.com (onedrive.live.com)... 13.107.42.13\n",
            "Connecting to onedrive.live.com (onedrive.live.com)|13.107.42.13|:443... connected.\n",
            "HTTP request sent, awaiting response... 302 Found\n",
            "Location: https://yijzyw.am.files.1drv.com/y4m-tCRsQ87By4y4UVK6F-lSBLElW53N2LOPFRiFuLEuYRLtI25YJyq74Te4TWK-3LsXiModWkhiquJYDNJT02NCvmWMtriKXgDvVm_lQJHop57CwzKB9q6f8wvWn6arI8qXGpRONkZsUIwsZ0lYgfD1jc_nLhAl0X6hUE_4Sn_rP7TohzFnfe764gQznxZNR2F0VX9fgpwBfwblSLGxeVnQw/mapillary_vistas_sample.zip?download&psid=1 [following]\n",
            "--2020-04-01 10:49:08--  https://yijzyw.am.files.1drv.com/y4m-tCRsQ87By4y4UVK6F-lSBLElW53N2LOPFRiFuLEuYRLtI25YJyq74Te4TWK-3LsXiModWkhiquJYDNJT02NCvmWMtriKXgDvVm_lQJHop57CwzKB9q6f8wvWn6arI8qXGpRONkZsUIwsZ0lYgfD1jc_nLhAl0X6hUE_4Sn_rP7TohzFnfe764gQznxZNR2F0VX9fgpwBfwblSLGxeVnQw/mapillary_vistas_sample.zip?download&psid=1\n",
            "Resolving yijzyw.am.files.1drv.com (yijzyw.am.files.1drv.com)... 13.107.42.12\n",
            "Connecting to yijzyw.am.files.1drv.com (yijzyw.am.files.1drv.com)|13.107.42.12|:443... connected.\n",
            "HTTP request sent, awaiting response... "
          ],
          "name": "stdout"
        }
      ]
    },
    {
      "cell_type": "code",
      "metadata": {
        "id": "2nhJZTIzZpRW",
        "colab_type": "code",
        "colab": {}
      },
      "source": [
        "!unzip -qq /content/mapillary_vistas_sample.zip -d /content"
      ],
      "execution_count": 0,
      "outputs": []
    },
    {
      "cell_type": "code",
      "metadata": {
        "id": "ZdvT1vzBK6hV",
        "colab_type": "code",
        "colab": {}
      },
      "source": [
        "!pip install imgaug\n",
        "!pip install Cython\n",
        "!pip install pycocotools"
      ],
      "execution_count": 0,
      "outputs": []
    },
    {
      "cell_type": "code",
      "metadata": {
        "id": "meGMIONOKySt",
        "colab_type": "code",
        "colab": {}
      },
      "source": [
        "import os\n",
        "os.chdir('/content/semantic_features_detection/Notebook')"
      ],
      "execution_count": 0,
      "outputs": []
    },
    {
      "cell_type": "code",
      "metadata": {
        "id": "viP6_e5JPNXO",
        "colab_type": "code",
        "colab": {}
      },
      "source": [
        "import os\n",
        "import sys\n",
        "import random\n",
        "import math\n",
        "import numpy as np\n",
        "import skimage.io\n",
        "import matplotlib\n",
        "import matplotlib.pyplot as plt\n",
        "import cv2\n",
        "import imageio\n",
        "%tensorflow_version 1.x\n",
        "import tensorflow as tf\n",
        "\n",
        "\n",
        "# Root directory of the project\n",
        "ROOT_DIR = os.path.abspath(\"../\")\n",
        "# Ignore Warnings\n",
        "os.environ['TF_CPP_MIN_LOG_LEVEL'] = '2' \n",
        "\n",
        "# Import Mask RCNN\n",
        "sys.path.append(ROOT_DIR)  # To find local version of the library\n",
        "print(ROOT_DIR)\n",
        "from mrcnn import utils\n",
        "import mrcnn.model as modellib\n",
        "from mrcnn import visualize\n",
        "# Import COCO config\n",
        "sys.path.append(os.path.join(ROOT_DIR, \"samples/mapillary/\"))  # To find local version\n",
        "import mapillary\n",
        "\n",
        "%matplotlib inline\n",
        "\n",
        "# Directory to save logs and trained model\n",
        "MODEL_DIR = os.path.join(ROOT_DIR, \"logs\")\n",
        "print(MODEL_DIR)\n",
        "\n",
        "# Local path to trained weights file\n",
        "COCO_MODEL_PATH = os.path.join(ROOT_DIR, \"mask_rcnn_coco.h5\")\n",
        "# Download COCO trained weights from Releases if needed\n",
        "if not os.path.exists(COCO_MODEL_PATH):\n",
        "    utils.download_trained_weights(COCO_MODEL_PATH)\n",
        "\n",
        "# Directory of images to run detection on\n",
        "IMAGE_DIR = os.path.join(ROOT_DIR, \"images\")\n",
        "print('finished')"
      ],
      "execution_count": 0,
      "outputs": []
    },
    {
      "cell_type": "code",
      "metadata": {
        "id": "rHcm09WTUa4a",
        "colab_type": "code",
        "colab": {}
      },
      "source": [
        "\n",
        "TRAIN_DIR = '/content/mapillary_vistas'\n",
        "# Training dataset\n",
        "dataset_train = mapillary.MapillaryDataset()\n",
        "dataset_train.load_vistas(dataset_dir=TRAIN_DIR, subset='training')\n",
        "dataset_train.prepare()\n",
        "\n",
        "# Validation dataset\n",
        "VAL_DIR = '/content/mapillary_vistas'\n",
        "\n",
        "dataset_val = mapillary.MapillaryDataset()\n",
        "dataset_val.load_vistas(dataset_dir=VAL_DIR, subset='validation')\n",
        "dataset_val.prepare()"
      ],
      "execution_count": 0,
      "outputs": []
    },
    {
      "cell_type": "code",
      "metadata": {
        "id": "A_a_fCrQWyvA",
        "colab_type": "code",
        "colab": {}
      },
      "source": [
        "image_ids = np.random.choice(dataset_train.image_ids, 4)\n",
        "for image_id in image_ids:\n",
        "    image = dataset_train.load_image(image_id)\n",
        "    print(image_id)\n",
        "    mask, class_ids = dataset_train.load_mask(image_id)\n",
        "    visualize.display_top_masks(image, mask, class_ids, dataset_train.class_names)"
      ],
      "execution_count": 0,
      "outputs": []
    },
    {
      "cell_type": "code",
      "metadata": {
        "id": "P81V1BRHUYu1",
        "colab_type": "code",
        "colab": {}
      },
      "source": [
        "# Create model in training mode\n",
        "model = modellib.MaskRCNN(mode=\"training\", config=config,\n",
        "                          model_dir=MODEL_DIR)\n",
        "#model.load_weights(model_path, by_name=True)\n",
        "\n",
        "# Load pretrained weights\n",
        "model.load_weights(COCO_MODEL_PATH, by_name=True,\n",
        "                       exclude=[\"mrcnn_class_logits\", \"mrcnn_bbox_fc\", \n",
        "                                \"mrcnn_bbox\", \"mrcnn_mask\"])"
      ],
      "execution_count": 0,
      "outputs": []
    },
    {
      "cell_type": "code",
      "metadata": {
        "id": "iVW7e7R1UWAZ",
        "colab_type": "code",
        "colab": {}
      },
      "source": [
        "class TrainConfig(mapillary.mapvistas):\n",
        "    GPU_COUNT = 1\n",
        "    IMAGES_PER_GPU = 1\n",
        "    STEPS_PER_EPOCH = 100\n",
        "    VALIDATION_STEPS = 10\n",
        "\n",
        "config = TrainConfig()\n",
        "config.display()\n",
        "batch_size = config.BATCH_SIZE"
      ],
      "execution_count": 0,
      "outputs": []
    },
    {
      "cell_type": "code",
      "metadata": {
        "id": "sgVs25kRS6Ej",
        "colab_type": "code",
        "colab": {}
      },
      "source": [
        "import datetime\n",
        "log_dir = \"logs/fit/\" + datetime.datetime.now().strftime(\"%Y%m%d-%H%M%S\")\n",
        "tensorboard_callback = tf.keras.callbacks.TensorBoard(log_dir=MODEL_DIR, histogram_freq=1)"
      ],
      "execution_count": 0,
      "outputs": []
    },
    {
      "cell_type": "code",
      "metadata": {
        "id": "3Y8GQ8U3TCNw",
        "colab_type": "code",
        "colab": {}
      },
      "source": [
        "# Training - Stage 1\n",
        "print(\"Training network heads\")\n",
        "model.train(dataset_train, dataset_val,\n",
        "            learning_rate=config.LEARNING_RATE,\n",
        "            epochs=40,\n",
        "            layers='heads')"
      ],
      "execution_count": 0,
      "outputs": []
    },
    {
      "cell_type": "code",
      "metadata": {
        "id": "awuqfJfPVaA2",
        "colab_type": "code",
        "colab": {}
      },
      "source": [
        "# Training - Stage 2\n",
        "# Finetune layers from ResNet stage 4 and up\n",
        "print(\"Fine tune Resnet stage 4 and up\")\n",
        "model.train(dataset_train, dataset_val,\n",
        "            learning_rate=config.LEARNING_RATE,\n",
        "            epochs=120,\n",
        "            layers='4+')\n",
        "\n"
      ],
      "execution_count": 0,
      "outputs": []
    },
    {
      "cell_type": "code",
      "metadata": {
        "id": "51mzcb6BVbu3",
        "colab_type": "code",
        "colab": {}
      },
      "source": [
        "# Training - Stage 3\n",
        "# Fine tune all layers\n",
        "print(\"Fine tune all layers\")\n",
        "model.train(dataset_train, dataset_val,\n",
        "            learning_rate=config.LEARNING_RATE / 10,\n",
        "            epochs=160,\n",
        "            layers='all')"
      ],
      "execution_count": 0,
      "outputs": []
    }
  ]
}