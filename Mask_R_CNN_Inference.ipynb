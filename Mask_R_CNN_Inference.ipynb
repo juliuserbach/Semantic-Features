{
  "nbformat": 4,
  "nbformat_minor": 0,
  "metadata": {
    "colab": {
      "name": "Copy of Mask-R-CNN.ipynb",
      "provenance": [],
      "collapsed_sections": [],
      "mount_file_id": "16I9upKzPxOlbkIpuCUXXG-dlKrqaXpo0",
      "authorship_tag": "ABX9TyOSOi00AUxpasqrWOAGvQCa",
      "include_colab_link": true
    },
    "kernelspec": {
      "name": "python3",
      "display_name": "Python 3"
    },
    "accelerator": "GPU"
  },
  "cells": [
    {
      "cell_type": "markdown",
      "metadata": {
        "id": "view-in-github",
        "colab_type": "text"
      },
      "source": [
        "<a href=\"https://colab.research.google.com/github/juliuserbach/Semantic-Features/blob/master/Mask_R_CNN_Inference.ipynb\" target=\"_parent\"><img src=\"https://colab.research.google.com/assets/colab-badge.svg\" alt=\"Open In Colab\"/></a>"
      ]
    },
    {
      "cell_type": "code",
      "metadata": {
        "id": "jqs13ramKg_K",
        "colab_type": "code",
        "outputId": "443e3d63-0aab-463d-f384-681c7a95b9e7",
        "colab": {
          "base_uri": "https://localhost:8080/",
          "height": 136
        }
      },
      "source": [
        "!git clone https://github.com/ftaubner/semantic_features_detection.git"
      ],
      "execution_count": 0,
      "outputs": [
        {
          "output_type": "stream",
          "text": [
            "Cloning into 'semantic_features_detection'...\n",
            "remote: Enumerating objects: 54, done.\u001b[K\n",
            "remote: Counting objects: 100% (54/54), done.\u001b[K\n",
            "remote: Compressing objects: 100% (39/39), done.\u001b[K\n",
            "remote: Total 1446 (delta 32), reused 32 (delta 15), pack-reused 1392\u001b[K\n",
            "Receiving objects: 100% (1446/1446), 114.23 MiB | 30.88 MiB/s, done.\n",
            "Resolving deltas: 100% (884/884), done.\n"
          ],
          "name": "stdout"
        }
      ]
    },
    {
      "cell_type": "code",
      "metadata": {
        "id": "RMkSQoH1ZGYA",
        "colab_type": "code",
        "outputId": "9991e0e6-a2e5-4207-e66b-21ddcaeafedb",
        "colab": {
          "base_uri": "https://localhost:8080/",
          "height": 270
        }
      },
      "source": [
        "!wget --no-check-certificate \"https://onedrive.live.com/download?cid=EA356294C6263A37&resid=EA356294C6263A37%21100433&authkey=APrMUGQyaB4np4Q\" -O kitti.zip"
      ],
      "execution_count": 0,
      "outputs": [
        {
          "output_type": "stream",
          "text": [
            "--2020-04-18 09:46:36--  https://onedrive.live.com/download?cid=EA356294C6263A37&resid=EA356294C6263A37%21100433&authkey=APrMUGQyaB4np4Q\n",
            "Resolving onedrive.live.com (onedrive.live.com)... 13.107.42.13\n",
            "Connecting to onedrive.live.com (onedrive.live.com)|13.107.42.13|:443... connected.\n",
            "HTTP request sent, awaiting response... 302 Found\n",
            "Location: https://xwp44a.am.files.1drv.com/y4mCzU_iM5FnOYo5dcFdeqCSAKyovfcWkkmyssL0TWhsyJ50h_Jw6klRxkAaEsFrp4cDi-GDDru2sp5SqjeScpSC-PrWYQLFl9QreUOF325o4Shbhzur982hZLGCTHkQev0in-NaA-JnnfPceT_iXasV6kJYgswm-cUyjQWON3zmLZafpK_w7d_vEea841qxIRGVNPCFBJe37iz9QhC3FrAIA/kitti_dataset.zip?download&psid=1 [following]\n",
            "--2020-04-18 09:46:37--  https://xwp44a.am.files.1drv.com/y4mCzU_iM5FnOYo5dcFdeqCSAKyovfcWkkmyssL0TWhsyJ50h_Jw6klRxkAaEsFrp4cDi-GDDru2sp5SqjeScpSC-PrWYQLFl9QreUOF325o4Shbhzur982hZLGCTHkQev0in-NaA-JnnfPceT_iXasV6kJYgswm-cUyjQWON3zmLZafpK_w7d_vEea841qxIRGVNPCFBJe37iz9QhC3FrAIA/kitti_dataset.zip?download&psid=1\n",
            "Resolving xwp44a.am.files.1drv.com (xwp44a.am.files.1drv.com)... 13.107.42.12\n",
            "Connecting to xwp44a.am.files.1drv.com (xwp44a.am.files.1drv.com)|13.107.42.12|:443... connected.\n",
            "HTTP request sent, awaiting response... 200 OK\n",
            "Length: 959697733 (915M) [application/zip]\n",
            "Saving to: ‘kitti.zip’\n",
            "\n",
            "kitti.zip            89%[================>   ] 815.52M  37.4MB/s    eta 4s     "
          ],
          "name": "stdout"
        }
      ]
    },
    {
      "cell_type": "code",
      "metadata": {
        "id": "OrMxy5HqSm-f",
        "colab_type": "code",
        "colab": {}
      },
      "source": [
        "!wget --no-check-certificate \"https://onedrive.live.com/download?cid=EA356294C6263A37&resid=EA356294C6263A37%21101367&authkey=APvrKcWlPo0_7ck\"  -O mapillary_prelim.h5"
      ],
      "execution_count": 0,
      "outputs": []
    },
    {
      "cell_type": "code",
      "metadata": {
        "id": "2nhJZTIzZpRW",
        "colab_type": "code",
        "colab": {}
      },
      "source": [
        "!unzip -qq /content/kitti.zip -d /content"
      ],
      "execution_count": 0,
      "outputs": []
    },
    {
      "cell_type": "code",
      "metadata": {
        "id": "ZdvT1vzBK6hV",
        "colab_type": "code",
        "colab": {}
      },
      "source": [
        "!pip install imgaug\n",
        "!pip install Cython\n",
        "!pip install pycocotools\n",
        "!pip install wget"
      ],
      "execution_count": 0,
      "outputs": []
    },
    {
      "cell_type": "code",
      "metadata": {
        "id": "XOH72UGWVX4r",
        "colab_type": "code",
        "colab": {}
      },
      "source": [
        "%tensorflow_version 1.x\n",
        "%matplotlib inline\n",
        "import os\n",
        "import sys\n",
        "os.chdir('/content/semantic_features_detection/Notebook')\n",
        "ROOT_DIR = os.path.abspath('../')\n",
        "sys.path.append(os.path.join(ROOT_DIR, 'samples'))\n",
        "import inference"
      ],
      "execution_count": 0,
      "outputs": []
    },
    {
      "cell_type": "code",
      "metadata": {
        "id": "iZVRk8iZWn7h",
        "colab_type": "code",
        "colab": {}
      },
      "source": [
        "inf_model = inference.Inference(os.path.join(ROOT_DIR, 'mapillary_prelim.h5'))\n",
        "features, masks = inf_model.predict('/content/dataset/sequences/04/image_2/000001.png')"
      ],
      "execution_count": 0,
      "outputs": []
    },
    {
      "cell_type": "code",
      "metadata": {
        "id": "PCPiVLs2d-fZ",
        "colab_type": "code",
        "colab": {}
      },
      "source": [
        "print(features)"
      ],
      "execution_count": 0,
      "outputs": []
    },
    {
      "cell_type": "code",
      "metadata": {
        "id": "Scu35PA6PzYg",
        "colab_type": "code",
        "colab": {}
      },
      "source": [
        "import numpy as np\n",
        "def masks2instance_im(masks):\n",
        "    instance_im = np.zeros(shape=[masks.shape[0], masks.shape[1]])\n",
        "    for i in range(masks.shape[-1]):\n",
        "        instance_im[masks[...,i]] = (i + 1)\n",
        "    return instance_im"
      ],
      "execution_count": 0,
      "outputs": []
    },
    {
      "cell_type": "code",
      "metadata": {
        "id": "Z0RMH64mbLQr",
        "colab_type": "code",
        "colab": {}
      },
      "source": [
        "import glob\n",
        "import cv2\n",
        "IMAGE_DIR_LEFT = '/content/dataset/sequences/04/image_2'\n",
        "IMAGE_DIR_RIGHT = '/content/dataset/sequences/04/image_3'\n",
        "SAVE_DIR = '/content/Results/Instances'\n",
        "\n",
        "features = {}\n",
        "features['results'] = []\n",
        "image_paths = glob.iglob(os.path.join(IMAGE_DIR_LEFT, '*.*'))\n",
        "for image_path in image_paths:\n",
        "    feature, masks = inf_model.predict(image_path)\n",
        "    features['results'].append(feature)\n",
        "    # save instance images\n",
        "    instance_im =  masks2instance_im(masks)\n",
        "    image_id=os.path.split(image_path)[1][0:-4]\n",
        "    cv2.imwrite(os.path.join(SAVE_DIR, 'L' + image_id + '.png'), instance_im)\n"
      ],
      "execution_count": 0,
      "outputs": []
    },
    {
      "cell_type": "code",
      "metadata": {
        "id": "Ur6nR6f4RwKQ",
        "colab_type": "code",
        "colab": {}
      },
      "source": [
        "import json\n",
        "FEATURE_FILE = '/content/results.json'\n",
        "with open(FEATURE_FILE, 'w') as outfile:\n",
        "    json.dump(features, outfile)"
      ],
      "execution_count": 0,
      "outputs": []
    }
  ]
}