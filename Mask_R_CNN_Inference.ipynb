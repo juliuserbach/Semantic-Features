{
  "nbformat": 4,
  "nbformat_minor": 0,
  "metadata": {
    "colab": {
      "name": "Copy of Mask-R-CNN.ipynb",
      "provenance": [],
      "collapsed_sections": [],
      "mount_file_id": "https://github.com/juliuserbach/Semantic-Features/blob/master/Mask_R_CNN_Inference.ipynb",
      "authorship_tag": "ABX9TyNB1poYqCWcb2FurPZF697P",
      "include_colab_link": true
    },
    "kernelspec": {
      "name": "python3",
      "display_name": "Python 3"
    },
    "accelerator": "GPU"
  },
  "cells": [
    {
      "cell_type": "markdown",
      "metadata": {
        "id": "view-in-github",
        "colab_type": "text"
      },
      "source": [
        "<a href=\"https://colab.research.google.com/github/juliuserbach/Semantic-Features/blob/master/Mask_R_CNN_Inference.ipynb\" target=\"_parent\"><img src=\"https://colab.research.google.com/assets/colab-badge.svg\" alt=\"Open In Colab\"/></a>"
      ]
    },
    {
      "cell_type": "code",
      "metadata": {
        "id": "jqs13ramKg_K",
        "colab_type": "code",
        "colab": {
          "base_uri": "https://localhost:8080/",
          "height": 136
        },
        "outputId": "a5d4c2ed-4d35-4617-fdaf-cda52102b9e4"
      },
      "source": [
        "!git clone https://github.com/ftaubner/semantic_features_detection.git"
      ],
      "execution_count": null,
      "outputs": [
        {
          "output_type": "stream",
          "text": [
            "Cloning into 'semantic_features_detection'...\n",
            "remote: Enumerating objects: 157, done.\u001b[K\n",
            "remote: Counting objects: 100% (157/157), done.\u001b[K\n",
            "remote: Compressing objects: 100% (123/123), done.\u001b[K\n",
            "remote: Total 1549 (delta 108), reused 60 (delta 34), pack-reused 1392\u001b[K\n",
            "Receiving objects: 100% (1549/1549), 114.36 MiB | 30.98 MiB/s, done.\n",
            "Resolving deltas: 100% (960/960), done.\n"
          ],
          "name": "stdout"
        }
      ]
    },
    {
      "cell_type": "code",
      "metadata": {
        "id": "RMkSQoH1ZGYA",
        "colab_type": "code",
        "colab": {
          "base_uri": "https://localhost:8080/",
          "height": 270
        },
        "outputId": "95b5af08-6fb2-4387-93b8-089d85c82813"
      },
      "source": [
        "!wget --no-check-certificate \"https://onedrive.live.com/download?cid=EA356294C6263A37&resid=EA356294C6263A37%21102205&authkey=APtm68CllMdnF74\"  -O kitti.zip"
      ],
      "execution_count": null,
      "outputs": [
        {
          "output_type": "stream",
          "text": [
            "--2020-06-06 16:51:40--  https://onedrive.live.com/download?cid=EA356294C6263A37&resid=EA356294C6263A37%21102205&authkey=APtm68CllMdnF74\n",
            "Resolving onedrive.live.com (onedrive.live.com)... 13.107.42.13\n",
            "Connecting to onedrive.live.com (onedrive.live.com)|13.107.42.13|:443... connected.\n",
            "HTTP request sent, awaiting response... 302 Found\n",
            "Location: https://kvpofq.am.files.1drv.com/y4msz2TE5L2rDhDT3E53oVFKJYlFz4toOBYZLu-e9QvAQu-iUYPjNIhYbEyuxw49e4jiEq3-xEGH7x1HZ0mLjIRCzBqG8laf5XkpjgCtsoLEdky1UFpp3ebcIciQ9iUECUIYiuvPXvEUts2q0xEl7DRn4k4k8O0XAidlzaLlG_bPK6xU5c7oWWCte-xydb610QnVz48owsiV3WqyN0VqpII0A/sequence_00_image_2.zip?download&psid=1 [following]\n",
            "--2020-06-06 16:51:41--  https://kvpofq.am.files.1drv.com/y4msz2TE5L2rDhDT3E53oVFKJYlFz4toOBYZLu-e9QvAQu-iUYPjNIhYbEyuxw49e4jiEq3-xEGH7x1HZ0mLjIRCzBqG8laf5XkpjgCtsoLEdky1UFpp3ebcIciQ9iUECUIYiuvPXvEUts2q0xEl7DRn4k4k8O0XAidlzaLlG_bPK6xU5c7oWWCte-xydb610QnVz48owsiV3WqyN0VqpII0A/sequence_00_image_2.zip?download&psid=1\n",
            "Resolving kvpofq.am.files.1drv.com (kvpofq.am.files.1drv.com)... 13.107.42.12\n",
            "Connecting to kvpofq.am.files.1drv.com (kvpofq.am.files.1drv.com)|13.107.42.12|:443... connected.\n",
            "HTTP request sent, awaiting response... 200 OK\n",
            "Length: 3548539434 (3.3G) [application/zip]\n",
            "Saving to: ‘kitti.zip’\n",
            "\n",
            "kitti.zip             7%[>                   ] 239.77M  19.4MB/s    eta 2m 43s "
          ],
          "name": "stdout"
        }
      ]
    },
    {
      "cell_type": "code",
      "metadata": {
        "id": "OrMxy5HqSm-f",
        "colab_type": "code",
        "colab": {}
      },
      "source": [
        "!wget --no-check-certificate \"https://onedrive.live.com/download?cid=EA356294C6263A37&resid=EA356294C6263A37%21101634&authkey=ABTiTiHVXMI06vU\"  -O mapillary_prelim.h5"
      ],
      "execution_count": null,
      "outputs": []
    },
    {
      "cell_type": "code",
      "metadata": {
        "id": "2nhJZTIzZpRW",
        "colab_type": "code",
        "colab": {}
      },
      "source": [
        "!unzip -qq /content/kitti.zip -d /content"
      ],
      "execution_count": null,
      "outputs": []
    },
    {
      "cell_type": "code",
      "metadata": {
        "id": "ZdvT1vzBK6hV",
        "colab_type": "code",
        "colab": {}
      },
      "source": [
        "!pip install imgaug\n",
        "!pip install Cython\n",
        "!pip install pycocotools\n",
        "!pip install wget"
      ],
      "execution_count": null,
      "outputs": []
    },
    {
      "cell_type": "code",
      "metadata": {
        "id": "XOH72UGWVX4r",
        "colab_type": "code",
        "colab": {}
      },
      "source": [
        "%tensorflow_version 1.x\n",
        "%matplotlib inline\n",
        "import os\n",
        "import sys\n",
        "os.chdir('/content/semantic_features_detection/samples/mapillary/cytools')\n",
        "!python setup.py build_ext --inplace\n",
        "os.chdir('/content/semantic_features_detection/Notebook')\n",
        "ROOT_DIR = os.path.abspath('../')\n",
        "sys.path.append(os.path.join(ROOT_DIR, 'samples'))\n",
        "import inference"
      ],
      "execution_count": null,
      "outputs": []
    },
    {
      "cell_type": "code",
      "metadata": {
        "id": "iZVRk8iZWn7h",
        "colab_type": "code",
        "colab": {}
      },
      "source": [
        "inf_model = inference.Inference(os.path.join(ROOT_DIR, 'mapillary_prelim.h5'))"
      ],
      "execution_count": null,
      "outputs": []
    },
    {
      "cell_type": "code",
      "metadata": {
        "id": "Scu35PA6PzYg",
        "colab_type": "code",
        "colab": {}
      },
      "source": [
        "import numpy as np\n",
        "def masks2instance_im(masks):\n",
        "    instance_im = np.zeros(shape=[masks.shape[0], masks.shape[1]])\n",
        "    for i in range(masks.shape[-1]):\n",
        "        instance_im[masks[...,i]] = (i + 1)\n",
        "    return instance_im"
      ],
      "execution_count": null,
      "outputs": []
    },
    {
      "cell_type": "code",
      "metadata": {
        "id": "Z0RMH64mbLQr",
        "colab_type": "code",
        "colab": {}
      },
      "source": [
        "import glob\n",
        "import cv2\n",
        "IMAGE_DIR_LEFT = '/content/image_2'\n",
        "IMAGE_DIR_RIGHT = '/content/kitti_dataset/dataset/sequences/00/image_3'\n",
        "SAVE_DIR = '/content/Results/Instances'\n",
        "!mkdir /content/Results\n",
        "!mkdir /content/Results/Instances\n",
        "!mkdir /content/Results/Visualization\n",
        "\n",
        "features = {}\n",
        "features['results'] = []\n",
        "image_paths = glob.iglob(os.path.join(IMAGE_DIR_LEFT, '*.*'))\n",
        "for image_path in image_paths:\n",
        "    feature, masks = inf_model.predict(image_path,save_vis=True, save_dir='/content/Results/Visualization')\n",
        "    features['results'].append(feature)\n",
        "    # save instance images\n",
        "    instance_im =  masks2instance_im(masks)\n",
        "    image_id=os.path.split(image_path)[1][0:-4]\n",
        "    cv2.imwrite(os.path.join(SAVE_DIR, 'L' + image_id + '.png'), instance_im)\n"
      ],
      "execution_count": null,
      "outputs": []
    },
    {
      "cell_type": "code",
      "metadata": {
        "id": "Ur6nR6f4RwKQ",
        "colab_type": "code",
        "colab": {}
      },
      "source": [
        "import json\n",
        "FEATURE_FILE = '/content/results.json'\n",
        "with open(FEATURE_FILE, 'w') as outfile:\n",
        "    json.dump(features, outfile)\n",
        "!mv /content/results.json /content/drive/\"My Drive\"/Kitti_00_Results/results.json"
      ],
      "execution_count": null,
      "outputs": []
    },
    {
      "cell_type": "code",
      "metadata": {
        "id": "_mwJsGXZWeUP",
        "colab_type": "code",
        "colab": {}
      },
      "source": [
        "!mv /content/Results /content/drive/\"My Drive\"/Kitti_00_Results"
      ],
      "execution_count": null,
      "outputs": []
    }
  ]
}