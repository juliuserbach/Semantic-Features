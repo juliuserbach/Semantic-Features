{
  "nbformat": 4,
  "nbformat_minor": 0,
  "metadata": {
    "colab": {
      "name": "Copy of Mask-R-CNN.ipynb",
      "provenance": [],
      "collapsed_sections": [],
      "mount_file_id": "https://github.com/juliuserbach/Semantic-Features/blob/master/Mask_R_CNN_Inference.ipynb",
      "authorship_tag": "ABX9TyMmdJe221FdwAPKE4RV05QT",
      "include_colab_link": true
    },
    "kernelspec": {
      "name": "python3",
      "display_name": "Python 3"
    },
    "accelerator": "GPU"
  },
  "cells": [
    {
      "cell_type": "markdown",
      "metadata": {
        "id": "view-in-github",
        "colab_type": "text"
      },
      "source": [
        "<a href=\"https://colab.research.google.com/github/juliuserbach/Semantic-Features/blob/master/Mask_R_CNN_Inference.ipynb\" target=\"_parent\"><img src=\"https://colab.research.google.com/assets/colab-badge.svg\" alt=\"Open In Colab\"/></a>"
      ]
    },
    {
      "cell_type": "code",
      "metadata": {
        "id": "jqs13ramKg_K",
        "colab_type": "code",
        "outputId": "de6d305e-92d0-49d0-c2f7-50ee1a0a15de",
        "colab": {
          "base_uri": "https://localhost:8080/",
          "height": 136
        }
      },
      "source": [
        "!git clone https://github.com/ftaubner/semantic_features_detection.git"
      ],
      "execution_count": 1,
      "outputs": [
        {
          "output_type": "stream",
          "text": [
            "Cloning into 'semantic_features_detection'...\n",
            "remote: Enumerating objects: 111, done.\u001b[K\n",
            "remote: Counting objects: 100% (111/111), done.\u001b[K\n",
            "remote: Compressing objects: 100% (85/85), done.\u001b[K\n",
            "remote: Total 1503 (delta 77), reused 44 (delta 26), pack-reused 1392\u001b[K\n",
            "Receiving objects: 100% (1503/1503), 114.24 MiB | 30.41 MiB/s, done.\n",
            "Resolving deltas: 100% (929/929), done.\n"
          ],
          "name": "stdout"
        }
      ]
    },
    {
      "cell_type": "code",
      "metadata": {
        "id": "RMkSQoH1ZGYA",
        "colab_type": "code",
        "outputId": "aded2421-8de4-4b36-8169-ae7cee75acc2",
        "colab": {
          "base_uri": "https://localhost:8080/",
          "height": 309
        }
      },
      "source": [
        "!wget --no-check-certificate \"https://onedrive.live.com/download?cid=EA356294C6263A37&resid=EA356294C6263A37%21100433&authkey=APrMUGQyaB4np4Q\" -O kitti.zip"
      ],
      "execution_count": 2,
      "outputs": [
        {
          "output_type": "stream",
          "text": [
            "--2020-05-04 15:15:10--  https://onedrive.live.com/download?cid=EA356294C6263A37&resid=EA356294C6263A37%21100433&authkey=APrMUGQyaB4np4Q\n",
            "Resolving onedrive.live.com (onedrive.live.com)... 13.107.42.13\n",
            "Connecting to onedrive.live.com (onedrive.live.com)|13.107.42.13|:443... connected.\n",
            "HTTP request sent, awaiting response... 302 Found\n",
            "Location: https://xwp44a.am.files.1drv.com/y4mZV6Q1_rAXKcduPm2OYjZZQtOzFrORHCKpAJI49Zga-lJ6YnI_oSwkgNe_LhX7FivZCl49PbF0qOwXIQi7o7byjLzHoGabFXaFQrSQiBJh4E4MrSmU_x8woDfIZJPo89_FUowgIxo3MnL71aLRYmKbJSYLJZ64ewQTe2YTEIskb1KKe_ESk_oZ-QdlKIs5CYVcycdp4y_iF0a7bEnKsbMOQ/kitti_dataset.zip?download&psid=1 [following]\n",
            "--2020-05-04 15:15:11--  https://xwp44a.am.files.1drv.com/y4mZV6Q1_rAXKcduPm2OYjZZQtOzFrORHCKpAJI49Zga-lJ6YnI_oSwkgNe_LhX7FivZCl49PbF0qOwXIQi7o7byjLzHoGabFXaFQrSQiBJh4E4MrSmU_x8woDfIZJPo89_FUowgIxo3MnL71aLRYmKbJSYLJZ64ewQTe2YTEIskb1KKe_ESk_oZ-QdlKIs5CYVcycdp4y_iF0a7bEnKsbMOQ/kitti_dataset.zip?download&psid=1\n",
            "Resolving xwp44a.am.files.1drv.com (xwp44a.am.files.1drv.com)... 13.107.42.12\n",
            "Connecting to xwp44a.am.files.1drv.com (xwp44a.am.files.1drv.com)|13.107.42.12|:443... connected.\n",
            "HTTP request sent, awaiting response... 200 OK\n",
            "Length: 1099720129 (1.0G) [application/zip]\n",
            "Saving to: ‘kitti.zip’\n",
            "\n",
            "kitti.zip           100%[===================>]   1.02G  31.3MB/s    in 39s     \n",
            "\n",
            "2020-05-04 15:15:51 (27.2 MB/s) - ‘kitti.zip’ saved [1099720129/1099720129]\n",
            "\n"
          ],
          "name": "stdout"
        }
      ]
    },
    {
      "cell_type": "code",
      "metadata": {
        "id": "OrMxy5HqSm-f",
        "colab_type": "code",
        "outputId": "1095cea2-4491-4fa9-9aa7-c91f311e2d9a",
        "colab": {
          "base_uri": "https://localhost:8080/",
          "height": 309
        }
      },
      "source": [
        "!wget --no-check-certificate \"https://onedrive.live.com/download?cid=EA356294C6263A37&resid=EA356294C6263A37%21101634&authkey=ABTiTiHVXMI06vU\"  -O mapillary_prelim.h5"
      ],
      "execution_count": 3,
      "outputs": [
        {
          "output_type": "stream",
          "text": [
            "--2020-05-04 15:15:53--  https://onedrive.live.com/download?cid=EA356294C6263A37&resid=EA356294C6263A37%21101634&authkey=ABTiTiHVXMI06vU\n",
            "Resolving onedrive.live.com (onedrive.live.com)... 13.107.42.13\n",
            "Connecting to onedrive.live.com (onedrive.live.com)|13.107.42.13|:443... connected.\n",
            "HTTP request sent, awaiting response... 302 Found\n",
            "Location: https://mmhp0a.am.files.1drv.com/y4mQEy2DR33PCWHZulCA9ieGUwgLV6Rk86Yajb8a0UShGF2ny4b5gaUM5BwKuAdS8Nt_c7UzQmgmu5Q-erHSNXPxovZBq6P-9GxvJN47igf8BHAPX8s07tOp97_PKstz0HXyH7SKVF0mG6WAT-Euhg_mrHxDiGX6sFmtM_KByrv2IwWyLB4cEwO5eB4mcSwPdOAVS2xCimbvnrjXhtEiVsu2Q/mask_rcnn_mapvistas_0083.h5?download&psid=1 [following]\n",
            "--2020-05-04 15:15:54--  https://mmhp0a.am.files.1drv.com/y4mQEy2DR33PCWHZulCA9ieGUwgLV6Rk86Yajb8a0UShGF2ny4b5gaUM5BwKuAdS8Nt_c7UzQmgmu5Q-erHSNXPxovZBq6P-9GxvJN47igf8BHAPX8s07tOp97_PKstz0HXyH7SKVF0mG6WAT-Euhg_mrHxDiGX6sFmtM_KByrv2IwWyLB4cEwO5eB4mcSwPdOAVS2xCimbvnrjXhtEiVsu2Q/mask_rcnn_mapvistas_0083.h5?download&psid=1\n",
            "Resolving mmhp0a.am.files.1drv.com (mmhp0a.am.files.1drv.com)... 13.107.42.12\n",
            "Connecting to mmhp0a.am.files.1drv.com (mmhp0a.am.files.1drv.com)|13.107.42.12|:443... connected.\n",
            "HTTP request sent, awaiting response... 200 OK\n",
            "Length: 256204312 (244M) [application/octet-stream]\n",
            "Saving to: ‘mapillary_prelim.h5’\n",
            "\n",
            "mapillary_prelim.h5 100%[===================>] 244.33M  35.5MB/s    in 6.9s    \n",
            "\n",
            "2020-05-04 15:16:01 (35.6 MB/s) - ‘mapillary_prelim.h5’ saved [256204312/256204312]\n",
            "\n"
          ],
          "name": "stdout"
        }
      ]
    },
    {
      "cell_type": "code",
      "metadata": {
        "id": "2nhJZTIzZpRW",
        "colab_type": "code",
        "colab": {}
      },
      "source": [
        "!unzip -qq /content/kitti.zip -d /content"
      ],
      "execution_count": 0,
      "outputs": []
    },
    {
      "cell_type": "code",
      "metadata": {
        "id": "ZdvT1vzBK6hV",
        "colab_type": "code",
        "outputId": "62f9dc75-c0b5-44b1-9efb-09e82824fd63",
        "colab": {
          "base_uri": "https://localhost:8080/",
          "height": 493
        }
      },
      "source": [
        "!pip install imgaug\n",
        "!pip install Cython\n",
        "!pip install pycocotools\n",
        "!pip install wget"
      ],
      "execution_count": 5,
      "outputs": [
        {
          "output_type": "stream",
          "text": [
            "Requirement already satisfied: imgaug in /usr/local/lib/python3.6/dist-packages (0.2.9)\n",
            "Requirement already satisfied: opencv-python in /usr/local/lib/python3.6/dist-packages (from imgaug) (4.1.2.30)\n",
            "Requirement already satisfied: scikit-image>=0.11.0 in /usr/local/lib/python3.6/dist-packages (from imgaug) (0.16.2)\n",
            "Requirement already satisfied: six in /usr/local/lib/python3.6/dist-packages (from imgaug) (1.12.0)\n",
            "Requirement already satisfied: matplotlib in /usr/local/lib/python3.6/dist-packages (from imgaug) (3.2.1)\n",
            "Requirement already satisfied: numpy>=1.15.0 in /usr/local/lib/python3.6/dist-packages (from imgaug) (1.18.3)\n",
            "Requirement already satisfied: imageio in /usr/local/lib/python3.6/dist-packages (from imgaug) (2.4.1)\n",
            "Requirement already satisfied: Pillow in /usr/local/lib/python3.6/dist-packages (from imgaug) (7.0.0)\n",
            "Requirement already satisfied: scipy in /usr/local/lib/python3.6/dist-packages (from imgaug) (1.4.1)\n",
            "Requirement already satisfied: Shapely in /usr/local/lib/python3.6/dist-packages (from imgaug) (1.7.0)\n",
            "Requirement already satisfied: PyWavelets>=0.4.0 in /usr/local/lib/python3.6/dist-packages (from scikit-image>=0.11.0->imgaug) (1.1.1)\n",
            "Requirement already satisfied: networkx>=2.0 in /usr/local/lib/python3.6/dist-packages (from scikit-image>=0.11.0->imgaug) (2.4)\n",
            "Requirement already satisfied: cycler>=0.10 in /usr/local/lib/python3.6/dist-packages (from matplotlib->imgaug) (0.10.0)\n",
            "Requirement already satisfied: pyparsing!=2.0.4,!=2.1.2,!=2.1.6,>=2.0.1 in /usr/local/lib/python3.6/dist-packages (from matplotlib->imgaug) (2.4.7)\n",
            "Requirement already satisfied: kiwisolver>=1.0.1 in /usr/local/lib/python3.6/dist-packages (from matplotlib->imgaug) (1.2.0)\n",
            "Requirement already satisfied: python-dateutil>=2.1 in /usr/local/lib/python3.6/dist-packages (from matplotlib->imgaug) (2.8.1)\n",
            "Requirement already satisfied: decorator>=4.3.0 in /usr/local/lib/python3.6/dist-packages (from networkx>=2.0->scikit-image>=0.11.0->imgaug) (4.4.2)\n",
            "Requirement already satisfied: Cython in /usr/local/lib/python3.6/dist-packages (0.29.17)\n",
            "Requirement already satisfied: pycocotools in /usr/local/lib/python3.6/dist-packages (2.0.0)\n",
            "Collecting wget\n",
            "  Downloading https://files.pythonhosted.org/packages/47/6a/62e288da7bcda82b935ff0c6cfe542970f04e29c756b0e147251b2fb251f/wget-3.2.zip\n",
            "Building wheels for collected packages: wget\n",
            "  Building wheel for wget (setup.py) ... \u001b[?25l\u001b[?25hdone\n",
            "  Created wheel for wget: filename=wget-3.2-cp36-none-any.whl size=9682 sha256=2fef83a2556e2261dc0b12a11a961572253339136ebc35278be1c05934933d39\n",
            "  Stored in directory: /root/.cache/pip/wheels/40/15/30/7d8f7cea2902b4db79e3fea550d7d7b85ecb27ef992b618f3f\n",
            "Successfully built wget\n",
            "Installing collected packages: wget\n",
            "Successfully installed wget-3.2\n"
          ],
          "name": "stdout"
        }
      ]
    },
    {
      "cell_type": "code",
      "metadata": {
        "id": "XOH72UGWVX4r",
        "colab_type": "code",
        "outputId": "76953182-287f-4d54-ed24-55b27ac31834",
        "colab": {
          "base_uri": "https://localhost:8080/",
          "height": 51
        }
      },
      "source": [
        "%tensorflow_version 1.x\n",
        "%matplotlib inline\n",
        "import os\n",
        "import sys\n",
        "os.chdir('/content/semantic_features_detection/Notebook')\n",
        "ROOT_DIR = os.path.abspath('../')\n",
        "sys.path.append(os.path.join(ROOT_DIR, 'samples'))\n",
        "import inference"
      ],
      "execution_count": 1,
      "outputs": [
        {
          "output_type": "stream",
          "text": [
            "TensorFlow 1.x selected.\n"
          ],
          "name": "stdout"
        },
        {
          "output_type": "stream",
          "text": [
            "Using TensorFlow backend.\n"
          ],
          "name": "stderr"
        }
      ]
    },
    {
      "cell_type": "code",
      "metadata": {
        "id": "iZVRk8iZWn7h",
        "colab_type": "code",
        "outputId": "231f9b09-6dc0-46d9-e5d6-8f73315c453a",
        "colab": {
          "base_uri": "https://localhost:8080/",
          "height": 377
        }
      },
      "source": [
        "inf_model = inference.Inference(os.path.join(ROOT_DIR, 'mapillary_prelim.h5'))\n",
        "# features, masks = inf_model.predict('/content/dataset/sequences/04/image_2/000001.png')"
      ],
      "execution_count": 2,
      "outputs": [
        {
          "output_type": "stream",
          "text": [
            "WARNING:tensorflow:From /tensorflow-1.15.2/python3.6/tensorflow_core/python/ops/resource_variable_ops.py:1630: calling BaseResourceVariable.__init__ (from tensorflow.python.ops.resource_variable_ops) with constraint is deprecated and will be removed in a future version.\n",
            "Instructions for updating:\n",
            "If using Keras pass *_constraint arguments to layers.\n",
            "WARNING:tensorflow:From /usr/local/lib/python3.6/dist-packages/keras/backend/tensorflow_backend.py:4070: The name tf.nn.max_pool is deprecated. Please use tf.nn.max_pool2d instead.\n",
            "\n",
            "WARNING:tensorflow:From /content/semantic_features_detection/mrcnn/model.py:341: The name tf.log is deprecated. Please use tf.math.log instead.\n",
            "\n",
            "WARNING:tensorflow:From /content/semantic_features_detection/mrcnn/model.py:399: where (from tensorflow.python.ops.array_ops) is deprecated and will be removed in a future version.\n",
            "Instructions for updating:\n",
            "Use tf.where in 2.0, which has the same broadcast rule as np.where\n",
            "WARNING:tensorflow:From /content/semantic_features_detection/mrcnn/model.py:423: calling crop_and_resize_v1 (from tensorflow.python.ops.image_ops_impl) with box_ind is deprecated and will be removed in a future version.\n",
            "Instructions for updating:\n",
            "box_ind is deprecated, use box_indices instead\n",
            "WARNING:tensorflow:From /content/semantic_features_detection/mrcnn/model.py:758: The name tf.sets.set_intersection is deprecated. Please use tf.sets.intersection instead.\n",
            "\n",
            "WARNING:tensorflow:From /content/semantic_features_detection/mrcnn/model.py:760: The name tf.sparse_tensor_to_dense is deprecated. Please use tf.sparse.to_dense instead.\n",
            "\n",
            "WARNING:tensorflow:From /content/semantic_features_detection/mrcnn/model.py:772: to_float (from tensorflow.python.ops.math_ops) is deprecated and will be removed in a future version.\n",
            "Instructions for updating:\n",
            "Use `tf.cast` instead.\n"
          ],
          "name": "stdout"
        }
      ]
    },
    {
      "cell_type": "code",
      "metadata": {
        "id": "Scu35PA6PzYg",
        "colab_type": "code",
        "colab": {}
      },
      "source": [
        "import numpy as np\n",
        "def masks2instance_im(masks):\n",
        "    instance_im = np.zeros(shape=[masks.shape[0], masks.shape[1]])\n",
        "    for i in range(masks.shape[-1]):\n",
        "        instance_im[masks[...,i]] = (i + 1)\n",
        "    return instance_im"
      ],
      "execution_count": 0,
      "outputs": []
    },
    {
      "cell_type": "code",
      "metadata": {
        "id": "Z0RMH64mbLQr",
        "colab_type": "code",
        "colab": {
          "base_uri": "https://localhost:8080/",
          "height": 1000
        },
        "outputId": "ea710b1f-0699-4809-f62f-866ca7bec2bc"
      },
      "source": [
        "\n",
        "import glob\n",
        "import cv2\n",
        "IMAGE_DIR_LEFT = '/content/kitti_dataset/dataset/sequences/04/image_2'\n",
        "IMAGE_DIR_RIGHT = '/content/kitti_dataset/dataset/sequences/04/image_3'\n",
        "SAVE_DIR = '/content/Results/Instances'\n",
        "!mkdir /content/Results\n",
        "!mkdir /content/Results/Instances\n",
        "!mkdir /content/Results/Visualization\n",
        "\n",
        "features = {}\n",
        "features['results'] = []\n",
        "image_paths = glob.iglob(os.path.join(IMAGE_DIR_LEFT, '*.*'))\n",
        "for image_path in image_paths:\n",
        "    feature, masks = inf_model.predict(image_path,save_vis=True, save_dir='/content/Results/Visualization')\n",
        "    features['results'].append(feature)\n",
        "    # save instance images\n",
        "    instance_im =  masks2instance_im(masks)\n",
        "    image_id=os.path.split(image_path)[1][0:-4]\n",
        "    cv2.imwrite(os.path.join(SAVE_DIR, 'L' + image_id + '.png'), instance_im)\n"
      ],
      "execution_count": 7,
      "outputs": [
        {
          "output_type": "stream",
          "text": [
            "mkdir: cannot create directory ‘/content/Results’: File exists\n",
            "mkdir: cannot create directory ‘/content/Results/Instances’: File exists\n",
            "mkdir: cannot create directory ‘/content/Results/Visualization’: File exists\n",
            "/content/kitti_dataset/dataset/sequences/04/image_2/000057.png\n",
            "/content/kitti_dataset/dataset/sequences/04/image_2/000018.png\n",
            "/content/kitti_dataset/dataset/sequences/04/image_2/000023.png\n",
            "/content/kitti_dataset/dataset/sequences/04/image_2/000074.png\n",
            "/content/kitti_dataset/dataset/sequences/04/image_2/000270.png\n",
            "/content/kitti_dataset/dataset/sequences/04/image_2/000067.png\n",
            "/content/kitti_dataset/dataset/sequences/04/image_2/000059.png\n",
            "/content/kitti_dataset/dataset/sequences/04/image_2/000249.png\n",
            "/content/kitti_dataset/dataset/sequences/04/image_2/000215.png\n",
            "/content/kitti_dataset/dataset/sequences/04/image_2/000140.png\n",
            "/content/kitti_dataset/dataset/sequences/04/image_2/000022.png\n",
            "/content/kitti_dataset/dataset/sequences/04/image_2/000048.png\n",
            "/content/kitti_dataset/dataset/sequences/04/image_2/000046.png\n",
            "/content/kitti_dataset/dataset/sequences/04/image_2/000179.png\n",
            "/content/kitti_dataset/dataset/sequences/04/image_2/000168.png\n",
            "/content/kitti_dataset/dataset/sequences/04/image_2/000060.png\n",
            "/content/kitti_dataset/dataset/sequences/04/image_2/000206.png\n",
            "/content/kitti_dataset/dataset/sequences/04/image_2/000129.png\n",
            "/content/kitti_dataset/dataset/sequences/04/image_2/000240.png\n",
            "/content/kitti_dataset/dataset/sequences/04/image_2/000167.png\n",
            "/content/kitti_dataset/dataset/sequences/04/image_2/000065.png\n",
            "/content/kitti_dataset/dataset/sequences/04/image_2/000110.png\n",
            "/content/kitti_dataset/dataset/sequences/04/image_2/000113.png\n",
            "/content/kitti_dataset/dataset/sequences/04/image_2/000145.png\n",
            "/content/kitti_dataset/dataset/sequences/04/image_2/000158.png\n",
            "/content/kitti_dataset/dataset/sequences/04/image_2/000009.png\n",
            "/content/kitti_dataset/dataset/sequences/04/image_2/000212.png\n",
            "/content/kitti_dataset/dataset/sequences/04/image_2/000029.png\n",
            "/content/kitti_dataset/dataset/sequences/04/image_2/000222.png\n",
            "/content/kitti_dataset/dataset/sequences/04/image_2/000253.png\n",
            "/content/kitti_dataset/dataset/sequences/04/image_2/000024.png\n",
            "/content/kitti_dataset/dataset/sequences/04/image_2/000071.png\n",
            "/content/kitti_dataset/dataset/sequences/04/image_2/000103.png\n",
            "/content/kitti_dataset/dataset/sequences/04/image_2/000184.png\n",
            "/content/kitti_dataset/dataset/sequences/04/image_2/000049.png\n",
            "/content/kitti_dataset/dataset/sequences/04/image_2/000254.png\n",
            "/content/kitti_dataset/dataset/sequences/04/image_2/000248.png\n",
            "/content/kitti_dataset/dataset/sequences/04/image_2/000224.png\n",
            "/content/kitti_dataset/dataset/sequences/04/image_2/000134.png\n",
            "/content/kitti_dataset/dataset/sequences/04/image_2/000131.png\n",
            "/content/kitti_dataset/dataset/sequences/04/image_2/000245.png\n",
            "/content/kitti_dataset/dataset/sequences/04/image_2/000085.png\n",
            "/content/kitti_dataset/dataset/sequences/04/image_2/000238.png\n",
            "/content/kitti_dataset/dataset/sequences/04/image_2/000234.png\n",
            "/content/kitti_dataset/dataset/sequences/04/image_2/000268.png\n",
            "/content/kitti_dataset/dataset/sequences/04/image_2/000143.png\n",
            "/content/kitti_dataset/dataset/sequences/04/image_2/000159.png\n",
            "/content/kitti_dataset/dataset/sequences/04/image_2/000064.png\n",
            "/content/kitti_dataset/dataset/sequences/04/image_2/000006.png\n",
            "/content/kitti_dataset/dataset/sequences/04/image_2/000093.png\n",
            "/content/kitti_dataset/dataset/sequences/04/image_2/000015.png\n",
            "/content/kitti_dataset/dataset/sequences/04/image_2/000242.png\n",
            "/content/kitti_dataset/dataset/sequences/04/image_2/000019.png\n",
            "/content/kitti_dataset/dataset/sequences/04/image_2/000011.png\n",
            "/content/kitti_dataset/dataset/sequences/04/image_2/000260.png\n",
            "/content/kitti_dataset/dataset/sequences/04/image_2/000080.png\n",
            "/content/kitti_dataset/dataset/sequences/04/image_2/000204.png\n",
            "/content/kitti_dataset/dataset/sequences/04/image_2/000039.png\n",
            "/content/kitti_dataset/dataset/sequences/04/image_2/000132.png\n",
            "/content/kitti_dataset/dataset/sequences/04/image_2/000232.png\n",
            "/content/kitti_dataset/dataset/sequences/04/image_2/000193.png\n",
            "/content/kitti_dataset/dataset/sequences/04/image_2/000017.png\n",
            "/content/kitti_dataset/dataset/sequences/04/image_2/000160.png\n",
            "/content/kitti_dataset/dataset/sequences/04/image_2/000201.png\n",
            "/content/kitti_dataset/dataset/sequences/04/image_2/000087.png\n",
            "/content/kitti_dataset/dataset/sequences/04/image_2/000010.png\n",
            "/content/kitti_dataset/dataset/sequences/04/image_2/000195.png\n",
            "/content/kitti_dataset/dataset/sequences/04/image_2/000133.png\n",
            "/content/kitti_dataset/dataset/sequences/04/image_2/000078.png\n",
            "/content/kitti_dataset/dataset/sequences/04/image_2/000154.png\n",
            "/content/kitti_dataset/dataset/sequences/04/image_2/000109.png\n",
            "/content/kitti_dataset/dataset/sequences/04/image_2/000261.png\n",
            "/content/kitti_dataset/dataset/sequences/04/image_2/000264.png\n",
            "/content/kitti_dataset/dataset/sequences/04/image_2/000020.png\n",
            "/content/kitti_dataset/dataset/sequences/04/image_2/000135.png\n",
            "/content/kitti_dataset/dataset/sequences/04/image_2/000130.png\n",
            "/content/kitti_dataset/dataset/sequences/04/image_2/000027.png\n",
            "/content/kitti_dataset/dataset/sequences/04/image_2/000047.png\n",
            "/content/kitti_dataset/dataset/sequences/04/image_2/000025.png\n",
            "/content/kitti_dataset/dataset/sequences/04/image_2/000107.png\n",
            "/content/kitti_dataset/dataset/sequences/04/image_2/000237.png\n",
            "/content/kitti_dataset/dataset/sequences/04/image_2/000125.png\n",
            "/content/kitti_dataset/dataset/sequences/04/image_2/000221.png\n",
            "/content/kitti_dataset/dataset/sequences/04/image_2/000077.png\n",
            "/content/kitti_dataset/dataset/sequences/04/image_2/000216.png\n",
            "/content/kitti_dataset/dataset/sequences/04/image_2/000079.png\n",
            "/content/kitti_dataset/dataset/sequences/04/image_2/000157.png\n",
            "/content/kitti_dataset/dataset/sequences/04/image_2/000013.png\n",
            "/content/kitti_dataset/dataset/sequences/04/image_2/000241.png\n",
            "/content/kitti_dataset/dataset/sequences/04/image_2/000266.png\n",
            "/content/kitti_dataset/dataset/sequences/04/image_2/000231.png\n",
            "/content/kitti_dataset/dataset/sequences/04/image_2/000192.png\n",
            "/content/kitti_dataset/dataset/sequences/04/image_2/000259.png\n",
            "/content/kitti_dataset/dataset/sequences/04/image_2/000200.png\n",
            "/content/kitti_dataset/dataset/sequences/04/image_2/000225.png\n",
            "/content/kitti_dataset/dataset/sequences/04/image_2/000267.png\n",
            "/content/kitti_dataset/dataset/sequences/04/image_2/000105.png\n",
            "/content/kitti_dataset/dataset/sequences/04/image_2/000182.png\n",
            "/content/kitti_dataset/dataset/sequences/04/image_2/000066.png\n",
            "/content/kitti_dataset/dataset/sequences/04/image_2/000138.png\n",
            "/content/kitti_dataset/dataset/sequences/04/image_2/000213.png\n",
            "/content/kitti_dataset/dataset/sequences/04/image_2/000088.png\n",
            "/content/kitti_dataset/dataset/sequences/04/image_2/000151.png\n",
            "/content/kitti_dataset/dataset/sequences/04/image_2/000156.png\n",
            "/content/kitti_dataset/dataset/sequences/04/image_2/000262.png\n",
            "/content/kitti_dataset/dataset/sequences/04/image_2/000139.png\n",
            "/content/kitti_dataset/dataset/sequences/04/image_2/000075.png\n",
            "/content/kitti_dataset/dataset/sequences/04/image_2/000161.png\n",
            "/content/kitti_dataset/dataset/sequences/04/image_2/000251.png\n",
            "/content/kitti_dataset/dataset/sequences/04/image_2/000100.png\n",
            "/content/kitti_dataset/dataset/sequences/04/image_2/000228.png\n",
            "/content/kitti_dataset/dataset/sequences/04/image_2/000185.png\n",
            "/content/kitti_dataset/dataset/sequences/04/image_2/000210.png\n",
            "/content/kitti_dataset/dataset/sequences/04/image_2/000180.png\n",
            "/content/kitti_dataset/dataset/sequences/04/image_2/000008.png\n",
            "/content/kitti_dataset/dataset/sequences/04/image_2/000003.png\n",
            "/content/kitti_dataset/dataset/sequences/04/image_2/000055.png\n",
            "/content/kitti_dataset/dataset/sequences/04/image_2/000126.png\n",
            "/content/kitti_dataset/dataset/sequences/04/image_2/000235.png\n",
            "/content/kitti_dataset/dataset/sequences/04/image_2/000226.png\n",
            "/content/kitti_dataset/dataset/sequences/04/image_2/000152.png\n",
            "/content/kitti_dataset/dataset/sequences/04/image_2/000165.png\n",
            "/content/kitti_dataset/dataset/sequences/04/image_2/000086.png\n",
            "/content/kitti_dataset/dataset/sequences/04/image_2/000081.png\n",
            "/content/kitti_dataset/dataset/sequences/04/image_2/000070.png\n",
            "/content/kitti_dataset/dataset/sequences/04/image_2/000043.png\n",
            "/content/kitti_dataset/dataset/sequences/04/image_2/000197.png\n",
            "/content/kitti_dataset/dataset/sequences/04/image_2/000050.png\n",
            "/content/kitti_dataset/dataset/sequences/04/image_2/000123.png\n",
            "/content/kitti_dataset/dataset/sequences/04/image_2/000044.png\n",
            "/content/kitti_dataset/dataset/sequences/04/image_2/000194.png\n",
            "/content/kitti_dataset/dataset/sequences/04/image_2/000142.png\n",
            "/content/kitti_dataset/dataset/sequences/04/image_2/000255.png\n",
            "/content/kitti_dataset/dataset/sequences/04/image_2/000141.png\n",
            "/content/kitti_dataset/dataset/sequences/04/image_2/000153.png\n",
            "/content/kitti_dataset/dataset/sequences/04/image_2/000265.png\n",
            "/content/kitti_dataset/dataset/sequences/04/image_2/000124.png\n",
            "/content/kitti_dataset/dataset/sequences/04/image_2/000146.png\n",
            "/content/kitti_dataset/dataset/sequences/04/image_2/000230.png\n",
            "/content/kitti_dataset/dataset/sequences/04/image_2/000097.png\n",
            "/content/kitti_dataset/dataset/sequences/04/image_2/000137.png\n",
            "/content/kitti_dataset/dataset/sequences/04/image_2/000090.png\n",
            "/content/kitti_dataset/dataset/sequences/04/image_2/000028.png\n",
            "/content/kitti_dataset/dataset/sequences/04/image_2/000115.png\n",
            "/content/kitti_dataset/dataset/sequences/04/image_2/000063.png\n",
            "/content/kitti_dataset/dataset/sequences/04/image_2/000084.png\n",
            "/content/kitti_dataset/dataset/sequences/04/image_2/000016.png\n",
            "/content/kitti_dataset/dataset/sequences/04/image_2/000256.png\n",
            "/content/kitti_dataset/dataset/sequences/04/image_2/000223.png\n",
            "/content/kitti_dataset/dataset/sequences/04/image_2/000250.png\n",
            "/content/kitti_dataset/dataset/sequences/04/image_2/000149.png\n",
            "/content/kitti_dataset/dataset/sequences/04/image_2/000120.png\n",
            "/content/kitti_dataset/dataset/sequences/04/image_2/000112.png\n",
            "/content/kitti_dataset/dataset/sequences/04/image_2/000209.png\n",
            "/content/kitti_dataset/dataset/sequences/04/image_2/000219.png\n",
            "/content/kitti_dataset/dataset/sequences/04/image_2/000188.png\n",
            "/content/kitti_dataset/dataset/sequences/04/image_2/000170.png\n",
            "/content/kitti_dataset/dataset/sequences/04/image_2/000102.png\n",
            "/content/kitti_dataset/dataset/sequences/04/image_2/000052.png\n",
            "/content/kitti_dataset/dataset/sequences/04/image_2/000106.png\n",
            "/content/kitti_dataset/dataset/sequences/04/image_2/000069.png\n",
            "/content/kitti_dataset/dataset/sequences/04/image_2/000205.png\n",
            "/content/kitti_dataset/dataset/sequences/04/image_2/000122.png\n",
            "/content/kitti_dataset/dataset/sequences/04/image_2/000252.png\n",
            "/content/kitti_dataset/dataset/sequences/04/image_2/000034.png\n",
            "/content/kitti_dataset/dataset/sequences/04/image_2/000096.png\n",
            "/content/kitti_dataset/dataset/sequences/04/image_2/000196.png\n",
            "/content/kitti_dataset/dataset/sequences/04/image_2/000094.png\n",
            "/content/kitti_dataset/dataset/sequences/04/image_2/000101.png\n",
            "/content/kitti_dataset/dataset/sequences/04/image_2/000092.png\n",
            "/content/kitti_dataset/dataset/sequences/04/image_2/000171.png\n",
            "/content/kitti_dataset/dataset/sequences/04/image_2/000089.png\n",
            "/content/kitti_dataset/dataset/sequences/04/image_2/000218.png\n",
            "/content/kitti_dataset/dataset/sequences/04/image_2/000191.png\n",
            "/content/kitti_dataset/dataset/sequences/04/image_2/000072.png\n",
            "/content/kitti_dataset/dataset/sequences/04/image_2/000036.png\n",
            "/content/kitti_dataset/dataset/sequences/04/image_2/000164.png\n",
            "/content/kitti_dataset/dataset/sequences/04/image_2/000176.png\n",
            "/content/kitti_dataset/dataset/sequences/04/image_2/000031.png\n",
            "/content/kitti_dataset/dataset/sequences/04/image_2/000208.png\n",
            "/content/kitti_dataset/dataset/sequences/04/image_2/000002.png\n",
            "/content/kitti_dataset/dataset/sequences/04/image_2/000203.png\n",
            "/content/kitti_dataset/dataset/sequences/04/image_2/000004.png\n",
            "/content/kitti_dataset/dataset/sequences/04/image_2/000150.png\n",
            "/content/kitti_dataset/dataset/sequences/04/image_2/000021.png\n",
            "/content/kitti_dataset/dataset/sequences/04/image_2/000014.png\n",
            "/content/kitti_dataset/dataset/sequences/04/image_2/000183.png\n",
            "/content/kitti_dataset/dataset/sequences/04/image_2/000239.png\n",
            "/content/kitti_dataset/dataset/sequences/04/image_2/000108.png\n",
            "/content/kitti_dataset/dataset/sequences/04/image_2/000111.png\n",
            "/content/kitti_dataset/dataset/sequences/04/image_2/000155.png\n",
            "/content/kitti_dataset/dataset/sequences/04/image_2/000119.png\n",
            "/content/kitti_dataset/dataset/sequences/04/image_2/000068.png\n",
            "/content/kitti_dataset/dataset/sequences/04/image_2/000202.png\n",
            "/content/kitti_dataset/dataset/sequences/04/image_2/000217.png\n",
            "/content/kitti_dataset/dataset/sequences/04/image_2/000246.png\n",
            "/content/kitti_dataset/dataset/sequences/04/image_2/000083.png\n",
            "/content/kitti_dataset/dataset/sequences/04/image_2/000007.png\n",
            "/content/kitti_dataset/dataset/sequences/04/image_2/000172.png\n",
            "/content/kitti_dataset/dataset/sequences/04/image_2/000263.png\n",
            "/content/kitti_dataset/dataset/sequences/04/image_2/000121.png\n",
            "/content/kitti_dataset/dataset/sequences/04/image_2/000053.png\n",
            "/content/kitti_dataset/dataset/sequences/04/image_2/000061.png\n",
            "/content/kitti_dataset/dataset/sequences/04/image_2/000045.png\n",
            "/content/kitti_dataset/dataset/sequences/04/image_2/000186.png\n",
            "/content/kitti_dataset/dataset/sequences/04/image_2/000189.png\n",
            "/content/kitti_dataset/dataset/sequences/04/image_2/000247.png\n",
            "/content/kitti_dataset/dataset/sequences/04/image_2/000244.png\n",
            "/content/kitti_dataset/dataset/sequences/04/image_2/000032.png\n",
            "/content/kitti_dataset/dataset/sequences/04/image_2/000257.png\n",
            "/content/kitti_dataset/dataset/sequences/04/image_2/000236.png\n",
            "/content/kitti_dataset/dataset/sequences/04/image_2/000175.png\n",
            "/content/kitti_dataset/dataset/sequences/04/image_2/000166.png\n",
            "/content/kitti_dataset/dataset/sequences/04/image_2/000098.png\n",
            "/content/kitti_dataset/dataset/sequences/04/image_2/000104.png\n",
            "/content/kitti_dataset/dataset/sequences/04/image_2/000076.png\n",
            "/content/kitti_dataset/dataset/sequences/04/image_2/000038.png\n",
            "/content/kitti_dataset/dataset/sequences/04/image_2/000162.png\n",
            "/content/kitti_dataset/dataset/sequences/04/image_2/000042.png\n",
            "/content/kitti_dataset/dataset/sequences/04/image_2/000163.png\n",
            "/content/kitti_dataset/dataset/sequences/04/image_2/000118.png\n",
            "/content/kitti_dataset/dataset/sequences/04/image_2/000127.png\n",
            "/content/kitti_dataset/dataset/sequences/04/image_2/000058.png\n",
            "/content/kitti_dataset/dataset/sequences/04/image_2/000095.png\n",
            "/content/kitti_dataset/dataset/sequences/04/image_2/000198.png\n",
            "/content/kitti_dataset/dataset/sequences/04/image_2/000220.png\n",
            "/content/kitti_dataset/dataset/sequences/04/image_2/000026.png\n",
            "/content/kitti_dataset/dataset/sequences/04/image_2/000144.png\n",
            "/content/kitti_dataset/dataset/sequences/04/image_2/000041.png\n",
            "/content/kitti_dataset/dataset/sequences/04/image_2/000148.png\n",
            "/content/kitti_dataset/dataset/sequences/04/image_2/000033.png\n",
            "/content/kitti_dataset/dataset/sequences/04/image_2/000269.png\n",
            "/content/kitti_dataset/dataset/sequences/04/image_2/000169.png\n",
            "/content/kitti_dataset/dataset/sequences/04/image_2/000173.png\n",
            "/content/kitti_dataset/dataset/sequences/04/image_2/000116.png\n",
            "/content/kitti_dataset/dataset/sequences/04/image_2/000091.png\n",
            "/content/kitti_dataset/dataset/sequences/04/image_2/000054.png\n",
            "/content/kitti_dataset/dataset/sequences/04/image_2/000190.png\n",
            "/content/kitti_dataset/dataset/sequences/04/image_2/000035.png\n",
            "/content/kitti_dataset/dataset/sequences/04/image_2/000174.png\n",
            "/content/kitti_dataset/dataset/sequences/04/image_2/000177.png\n",
            "/content/kitti_dataset/dataset/sequences/04/image_2/000178.png\n",
            "/content/kitti_dataset/dataset/sequences/04/image_2/000073.png\n",
            "/content/kitti_dataset/dataset/sequences/04/image_2/000099.png\n",
            "/content/kitti_dataset/dataset/sequences/04/image_2/000114.png\n",
            "/content/kitti_dataset/dataset/sequences/04/image_2/000214.png\n",
            "/content/kitti_dataset/dataset/sequences/04/image_2/000012.png\n",
            "/content/kitti_dataset/dataset/sequences/04/image_2/000000.png\n",
            "/content/kitti_dataset/dataset/sequences/04/image_2/000136.png\n",
            "/content/kitti_dataset/dataset/sequences/04/image_2/000082.png\n",
            "/content/kitti_dataset/dataset/sequences/04/image_2/000229.png\n",
            "/content/kitti_dataset/dataset/sequences/04/image_2/000227.png\n",
            "/content/kitti_dataset/dataset/sequences/04/image_2/000199.png\n",
            "/content/kitti_dataset/dataset/sequences/04/image_2/000233.png\n",
            "/content/kitti_dataset/dataset/sequences/04/image_2/000040.png\n",
            "/content/kitti_dataset/dataset/sequences/04/image_2/000117.png\n",
            "/content/kitti_dataset/dataset/sequences/04/image_2/000005.png\n",
            "/content/kitti_dataset/dataset/sequences/04/image_2/000051.png\n",
            "/content/kitti_dataset/dataset/sequences/04/image_2/000062.png\n",
            "/content/kitti_dataset/dataset/sequences/04/image_2/000001.png\n",
            "/content/kitti_dataset/dataset/sequences/04/image_2/000243.png\n",
            "/content/kitti_dataset/dataset/sequences/04/image_2/000030.png\n",
            "/content/kitti_dataset/dataset/sequences/04/image_2/000037.png\n",
            "/content/kitti_dataset/dataset/sequences/04/image_2/000128.png\n",
            "/content/kitti_dataset/dataset/sequences/04/image_2/000211.png\n",
            "/content/kitti_dataset/dataset/sequences/04/image_2/000187.png\n",
            "/content/kitti_dataset/dataset/sequences/04/image_2/000147.png\n",
            "/content/kitti_dataset/dataset/sequences/04/image_2/000056.png\n",
            "/content/kitti_dataset/dataset/sequences/04/image_2/000258.png\n",
            "/content/kitti_dataset/dataset/sequences/04/image_2/000207.png\n",
            "/content/kitti_dataset/dataset/sequences/04/image_2/000181.png\n"
          ],
          "name": "stdout"
        }
      ]
    },
    {
      "cell_type": "code",
      "metadata": {
        "id": "Ur6nR6f4RwKQ",
        "colab_type": "code",
        "colab": {}
      },
      "source": [
        "import json\n",
        "FEATURE_FILE = '/content/results.json'\n",
        "with open(FEATURE_FILE, 'w') as outfile:\n",
        "    json.dump(features, outfile)"
      ],
      "execution_count": 0,
      "outputs": []
    },
    {
      "cell_type": "code",
      "metadata": {
        "id": "_mwJsGXZWeUP",
        "colab_type": "code",
        "colab": {}
      },
      "source": [
        "! rm -r /content/drive/\"My Drive\"/Kitti_04_Results/Results\n",
        "!mv /content/Results /content/drive/\"My Drive\"/Kitti_04_Results"
      ],
      "execution_count": 0,
      "outputs": []
    }
  ]
}