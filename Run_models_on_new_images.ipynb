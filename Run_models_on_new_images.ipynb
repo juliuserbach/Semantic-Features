{
  "nbformat": 4,
  "nbformat_minor": 0,
  "metadata": {
    "anaconda-cloud": {},
    "kernelspec": {
      "name": "python3",
      "display_name": "Python 3"
    },
    "language_info": {
      "codemirror_mode": {
        "name": "ipython",
        "version": 3
      },
      "file_extension": ".py",
      "mimetype": "text/x-python",
      "name": "python",
      "nbconvert_exporter": "python",
      "pygments_lexer": "ipython3",
      "version": "3.5.2"
    },
    "colab": {
      "name": "Run_models_on_new_images.ipynb",
      "provenance": [],
      "include_colab_link": true
    },
    "accelerator": "GPU"
  },
  "cells": [
    {
      "cell_type": "markdown",
      "metadata": {
        "id": "view-in-github",
        "colab_type": "text"
      },
      "source": [
        "<a href=\"https://colab.research.google.com/github/juliuserbach/Semantic-Features/blob/master/Run_models_on_new_images.ipynb\" target=\"_parent\"><img src=\"https://colab.research.google.com/assets/colab-badge.svg\" alt=\"Open In Colab\"/></a>"
      ]
    },
    {
      "cell_type": "markdown",
      "metadata": {
        "id": "Pcnux916AV0a",
        "colab_type": "text"
      },
      "source": [
        "# Running on new images\n",
        "This notebook will walk you step by step through the process of using a pre-trained model to detect traffic signs in an image."
      ]
    },
    {
      "cell_type": "markdown",
      "metadata": {
        "id": "2FNh-ksrBrEq",
        "colab_type": "text"
      },
      "source": [
        "Clone repositories:"
      ]
    },
    {
      "cell_type": "code",
      "metadata": {
        "id": "usaAz3ZpBqSF",
        "colab_type": "code",
        "outputId": "e56eba5d-b37e-4c77-f8ff-56a6339ca128",
        "colab": {
          "base_uri": "https://localhost:8080/",
          "height": 108
        }
      },
      "source": [
        "!git clone https://github.com/thtrieu/darkflow.git"
      ],
      "execution_count": 1,
      "outputs": [
        {
          "output_type": "stream",
          "text": [
            "Cloning into 'darkflow'...\n",
            "remote: Enumerating objects: 2713, done.\u001b[K\n",
            "remote: Total 2713 (delta 0), reused 0 (delta 0), pack-reused 2713\u001b[K\n",
            "Receiving objects: 100% (2713/2713), 32.98 MiB | 25.92 MiB/s, done.\n",
            "Resolving deltas: 100% (1762/1762), done.\n"
          ],
          "name": "stdout"
        }
      ]
    },
    {
      "cell_type": "code",
      "metadata": {
        "id": "aNLrwfAqGF_E",
        "colab_type": "code",
        "colab": {}
      },
      "source": [
        "!git clone --quiet https://github.com/tensorflow/models.git"
      ],
      "execution_count": 0,
      "outputs": []
    },
    {
      "cell_type": "code",
      "metadata": {
        "id": "j1UBxd_xShc2",
        "colab_type": "code",
        "colab": {}
      },
      "source": [
        "!git clone --quiet https://github.com/aarcosg/traffic-sign-detection.git"
      ],
      "execution_count": 0,
      "outputs": []
    },
    {
      "cell_type": "markdown",
      "metadata": {
        "id": "XAdPakNGAV0e",
        "colab_type": "text"
      },
      "source": [
        "# Imports"
      ]
    },
    {
      "cell_type": "code",
      "metadata": {
        "scrolled": true,
        "id": "sq2NzoyoAV0f",
        "colab_type": "code",
        "colab": {}
      },
      "source": [
        "import warnings\n",
        "warnings.filterwarnings('ignore')\n",
        "import numpy as np\n",
        "import os\n",
        "%tensorflow_version 1.x \n",
        "import tensorflow as tf\n",
        "from matplotlib import pyplot as plt\n",
        "from PIL import Image\n",
        "import glob as glob\n"
      ],
      "execution_count": 0,
      "outputs": []
    },
    {
      "cell_type": "code",
      "metadata": {
        "id": "tP42V9ugDGOu",
        "colab_type": "code",
        "outputId": "943811f3-d192-4920-e679-05ccaa0dcf86",
        "colab": {
          "base_uri": "https://localhost:8080/",
          "height": 1000
        }
      },
      "source": [
        "!pip install --user Cython\n",
        "!pip install --user contextlib2\n",
        "!pip install --user pillow\n",
        "!pip install --user lxml\n",
        "!pip install --user jupyter\n",
        "!pip install --user matplotlib\n",
        "!apt-get install -y -qq protobuf-compiler python-pil python-lxml"
      ],
      "execution_count": 5,
      "outputs": [
        {
          "output_type": "stream",
          "text": [
            "Requirement already satisfied: Cython in /usr/local/lib/python3.6/dist-packages (0.29.15)\n",
            "Requirement already satisfied: contextlib2 in /usr/local/lib/python3.6/dist-packages (0.5.5)\n",
            "Requirement already satisfied: pillow in /usr/local/lib/python3.6/dist-packages (7.0.0)\n",
            "Requirement already satisfied: lxml in /usr/local/lib/python3.6/dist-packages (4.2.6)\n",
            "Requirement already satisfied: jupyter in /usr/local/lib/python3.6/dist-packages (1.0.0)\n",
            "Requirement already satisfied: qtconsole in /usr/local/lib/python3.6/dist-packages (from jupyter) (4.7.1)\n",
            "Requirement already satisfied: jupyter-console in /usr/local/lib/python3.6/dist-packages (from jupyter) (5.2.0)\n",
            "Requirement already satisfied: ipykernel in /usr/local/lib/python3.6/dist-packages (from jupyter) (4.6.1)\n",
            "Requirement already satisfied: nbconvert in /usr/local/lib/python3.6/dist-packages (from jupyter) (5.6.1)\n",
            "Requirement already satisfied: ipywidgets in /usr/local/lib/python3.6/dist-packages (from jupyter) (7.5.1)\n",
            "Requirement already satisfied: notebook in /usr/local/lib/python3.6/dist-packages (from jupyter) (5.2.2)\n",
            "Requirement already satisfied: ipython-genutils in /usr/local/lib/python3.6/dist-packages (from qtconsole->jupyter) (0.2.0)\n",
            "Requirement already satisfied: qtpy in /usr/local/lib/python3.6/dist-packages (from qtconsole->jupyter) (1.9.0)\n",
            "Requirement already satisfied: jupyter-client>=4.1 in /usr/local/lib/python3.6/dist-packages (from qtconsole->jupyter) (5.3.4)\n",
            "Requirement already satisfied: traitlets in /usr/local/lib/python3.6/dist-packages (from qtconsole->jupyter) (4.3.3)\n",
            "Requirement already satisfied: pygments in /usr/local/lib/python3.6/dist-packages (from qtconsole->jupyter) (2.1.3)\n",
            "Requirement already satisfied: jupyter-core in /usr/local/lib/python3.6/dist-packages (from qtconsole->jupyter) (4.6.3)\n",
            "Requirement already satisfied: prompt-toolkit<2.0.0,>=1.0.0 in /usr/local/lib/python3.6/dist-packages (from jupyter-console->jupyter) (1.0.18)\n",
            "Requirement already satisfied: ipython in /usr/local/lib/python3.6/dist-packages (from jupyter-console->jupyter) (5.5.0)\n",
            "Requirement already satisfied: tornado>=4.0 in /usr/local/lib/python3.6/dist-packages (from ipykernel->jupyter) (4.5.3)\n",
            "Requirement already satisfied: nbformat>=4.4 in /usr/local/lib/python3.6/dist-packages (from nbconvert->jupyter) (5.0.4)\n",
            "Requirement already satisfied: entrypoints>=0.2.2 in /usr/local/lib/python3.6/dist-packages (from nbconvert->jupyter) (0.3)\n",
            "Requirement already satisfied: pandocfilters>=1.4.1 in /usr/local/lib/python3.6/dist-packages (from nbconvert->jupyter) (1.4.2)\n",
            "Requirement already satisfied: testpath in /usr/local/lib/python3.6/dist-packages (from nbconvert->jupyter) (0.4.4)\n",
            "Requirement already satisfied: bleach in /usr/local/lib/python3.6/dist-packages (from nbconvert->jupyter) (3.1.3)\n",
            "Requirement already satisfied: jinja2>=2.4 in /usr/local/lib/python3.6/dist-packages (from nbconvert->jupyter) (2.11.1)\n",
            "Requirement already satisfied: mistune<2,>=0.8.1 in /usr/local/lib/python3.6/dist-packages (from nbconvert->jupyter) (0.8.4)\n",
            "Requirement already satisfied: defusedxml in /usr/local/lib/python3.6/dist-packages (from nbconvert->jupyter) (0.6.0)\n",
            "Requirement already satisfied: widgetsnbextension~=3.5.0 in /usr/local/lib/python3.6/dist-packages (from ipywidgets->jupyter) (3.5.1)\n",
            "Requirement already satisfied: terminado>=0.3.3; sys_platform != \"win32\" in /usr/local/lib/python3.6/dist-packages (from notebook->jupyter) (0.8.3)\n",
            "Requirement already satisfied: python-dateutil>=2.1 in /usr/local/lib/python3.6/dist-packages (from jupyter-client>=4.1->qtconsole->jupyter) (2.8.1)\n",
            "Requirement already satisfied: pyzmq>=13 in /usr/local/lib/python3.6/dist-packages (from jupyter-client>=4.1->qtconsole->jupyter) (17.0.0)\n",
            "Requirement already satisfied: six in /usr/local/lib/python3.6/dist-packages (from traitlets->qtconsole->jupyter) (1.12.0)\n",
            "Requirement already satisfied: decorator in /usr/local/lib/python3.6/dist-packages (from traitlets->qtconsole->jupyter) (4.4.2)\n",
            "Requirement already satisfied: wcwidth in /usr/local/lib/python3.6/dist-packages (from prompt-toolkit<2.0.0,>=1.0.0->jupyter-console->jupyter) (0.1.9)\n",
            "Requirement already satisfied: pexpect; sys_platform != \"win32\" in /usr/local/lib/python3.6/dist-packages (from ipython->jupyter-console->jupyter) (4.8.0)\n",
            "Requirement already satisfied: pickleshare in /usr/local/lib/python3.6/dist-packages (from ipython->jupyter-console->jupyter) (0.7.5)\n",
            "Requirement already satisfied: setuptools>=18.5 in /usr/local/lib/python3.6/dist-packages (from ipython->jupyter-console->jupyter) (46.0.0)\n",
            "Requirement already satisfied: simplegeneric>0.8 in /usr/local/lib/python3.6/dist-packages (from ipython->jupyter-console->jupyter) (0.8.1)\n",
            "Requirement already satisfied: jsonschema!=2.5.0,>=2.4 in /usr/local/lib/python3.6/dist-packages (from nbformat>=4.4->nbconvert->jupyter) (2.6.0)\n",
            "Requirement already satisfied: webencodings in /usr/local/lib/python3.6/dist-packages (from bleach->nbconvert->jupyter) (0.5.1)\n",
            "Requirement already satisfied: MarkupSafe>=0.23 in /usr/local/lib/python3.6/dist-packages (from jinja2>=2.4->nbconvert->jupyter) (1.1.1)\n",
            "Requirement already satisfied: ptyprocess; os_name != \"nt\" in /usr/local/lib/python3.6/dist-packages (from terminado>=0.3.3; sys_platform != \"win32\"->notebook->jupyter) (0.6.0)\n",
            "Requirement already satisfied: matplotlib in /usr/local/lib/python3.6/dist-packages (3.2.1)\n",
            "Requirement already satisfied: pyparsing!=2.0.4,!=2.1.2,!=2.1.6,>=2.0.1 in /usr/local/lib/python3.6/dist-packages (from matplotlib) (2.4.6)\n",
            "Requirement already satisfied: cycler>=0.10 in /usr/local/lib/python3.6/dist-packages (from matplotlib) (0.10.0)\n",
            "Requirement already satisfied: python-dateutil>=2.1 in /usr/local/lib/python3.6/dist-packages (from matplotlib) (2.8.1)\n",
            "Requirement already satisfied: kiwisolver>=1.0.1 in /usr/local/lib/python3.6/dist-packages (from matplotlib) (1.1.0)\n",
            "Requirement already satisfied: numpy>=1.11 in /usr/local/lib/python3.6/dist-packages (from matplotlib) (1.18.2)\n",
            "Requirement already satisfied: six in /usr/local/lib/python3.6/dist-packages (from cycler>=0.10->matplotlib) (1.12.0)\n",
            "Requirement already satisfied: setuptools in /usr/local/lib/python3.6/dist-packages (from kiwisolver>=1.0.1->matplotlib) (46.0.0)\n",
            "Selecting previously unselected package python-bs4.\n",
            "(Reading database ... 144542 files and directories currently installed.)\n",
            "Preparing to unpack .../0-python-bs4_4.6.0-1_all.deb ...\n",
            "Unpacking python-bs4 (4.6.0-1) ...\n",
            "Selecting previously unselected package python-pkg-resources.\n",
            "Preparing to unpack .../1-python-pkg-resources_39.0.1-2_all.deb ...\n",
            "Unpacking python-pkg-resources (39.0.1-2) ...\n",
            "Selecting previously unselected package python-chardet.\n",
            "Preparing to unpack .../2-python-chardet_3.0.4-1_all.deb ...\n",
            "Unpacking python-chardet (3.0.4-1) ...\n",
            "Selecting previously unselected package python-six.\n",
            "Preparing to unpack .../3-python-six_1.11.0-2_all.deb ...\n",
            "Unpacking python-six (1.11.0-2) ...\n",
            "Selecting previously unselected package python-webencodings.\n",
            "Preparing to unpack .../4-python-webencodings_0.5-2_all.deb ...\n",
            "Unpacking python-webencodings (0.5-2) ...\n",
            "Selecting previously unselected package python-html5lib.\n",
            "Preparing to unpack .../5-python-html5lib_0.999999999-1_all.deb ...\n",
            "Unpacking python-html5lib (0.999999999-1) ...\n",
            "Selecting previously unselected package python-lxml:amd64.\n",
            "Preparing to unpack .../6-python-lxml_4.2.1-1ubuntu0.1_amd64.deb ...\n",
            "Unpacking python-lxml:amd64 (4.2.1-1ubuntu0.1) ...\n",
            "Selecting previously unselected package python-olefile.\n",
            "Preparing to unpack .../7-python-olefile_0.45.1-1_all.deb ...\n",
            "Unpacking python-olefile (0.45.1-1) ...\n",
            "Selecting previously unselected package python-pil:amd64.\n",
            "Preparing to unpack .../8-python-pil_5.1.0-1ubuntu0.2_amd64.deb ...\n",
            "Unpacking python-pil:amd64 (5.1.0-1ubuntu0.2) ...\n",
            "Setting up python-pkg-resources (39.0.1-2) ...\n",
            "Setting up python-six (1.11.0-2) ...\n",
            "Setting up python-bs4 (4.6.0-1) ...\n",
            "Setting up python-lxml:amd64 (4.2.1-1ubuntu0.1) ...\n",
            "Setting up python-olefile (0.45.1-1) ...\n",
            "Setting up python-pil:amd64 (5.1.0-1ubuntu0.2) ...\n",
            "Setting up python-webencodings (0.5-2) ...\n",
            "Setting up python-chardet (3.0.4-1) ...\n",
            "Setting up python-html5lib (0.999999999-1) ...\n",
            "Processing triggers for man-db (2.8.3-2ubuntu0.1) ...\n"
          ],
          "name": "stdout"
        }
      ]
    },
    {
      "cell_type": "code",
      "metadata": {
        "id": "hcjSnEimGNQ3",
        "colab_type": "code",
        "colab": {}
      },
      "source": [
        "import sys\n",
        "sys.path.append('/content/models/research/slim')"
      ],
      "execution_count": 0,
      "outputs": []
    },
    {
      "cell_type": "code",
      "metadata": {
        "id": "kXuNZdcnDh3-",
        "colab_type": "code",
        "outputId": "258587ab-3793-46ab-a19c-cfc451842faa",
        "colab": {
          "base_uri": "https://localhost:8080/",
          "height": 364
        }
      },
      "source": [
        "import os\n",
        "os.chdir('models/research')\n",
        "!protoc object_detection/protos/*.proto --python_out=.\n",
        "!pip install ."
      ],
      "execution_count": 7,
      "outputs": [
        {
          "output_type": "stream",
          "text": [
            "Processing /content/models/research\n",
            "Requirement already satisfied: Pillow>=1.0 in /usr/local/lib/python3.6/dist-packages (from object-detection==0.1) (7.0.0)\n",
            "Requirement already satisfied: Matplotlib>=2.1 in /usr/local/lib/python3.6/dist-packages (from object-detection==0.1) (3.2.1)\n",
            "Requirement already satisfied: Cython>=0.28.1 in /usr/local/lib/python3.6/dist-packages (from object-detection==0.1) (0.29.15)\n",
            "Requirement already satisfied: python-dateutil>=2.1 in /usr/local/lib/python3.6/dist-packages (from Matplotlib>=2.1->object-detection==0.1) (2.8.1)\n",
            "Requirement already satisfied: kiwisolver>=1.0.1 in /usr/local/lib/python3.6/dist-packages (from Matplotlib>=2.1->object-detection==0.1) (1.1.0)\n",
            "Requirement already satisfied: numpy>=1.11 in /usr/local/lib/python3.6/dist-packages (from Matplotlib>=2.1->object-detection==0.1) (1.18.2)\n",
            "Requirement already satisfied: cycler>=0.10 in /usr/local/lib/python3.6/dist-packages (from Matplotlib>=2.1->object-detection==0.1) (0.10.0)\n",
            "Requirement already satisfied: pyparsing!=2.0.4,!=2.1.2,!=2.1.6,>=2.0.1 in /usr/local/lib/python3.6/dist-packages (from Matplotlib>=2.1->object-detection==0.1) (2.4.6)\n",
            "Requirement already satisfied: six>=1.5 in /usr/local/lib/python3.6/dist-packages (from python-dateutil>=2.1->Matplotlib>=2.1->object-detection==0.1) (1.12.0)\n",
            "Requirement already satisfied: setuptools in /usr/local/lib/python3.6/dist-packages (from kiwisolver>=1.0.1->Matplotlib>=2.1->object-detection==0.1) (46.0.0)\n",
            "Building wheels for collected packages: object-detection\n",
            "  Building wheel for object-detection (setup.py) ... \u001b[?25l\u001b[?25hdone\n",
            "  Created wheel for object-detection: filename=object_detection-0.1-cp36-none-any.whl size=1017522 sha256=5a0e7133f1d8632db8cf6c9d8256fe2ea4dc22a1fe5589ed91b48cea4749e207\n",
            "  Stored in directory: /tmp/pip-ephem-wheel-cache-7oixk94s/wheels/94/49/4b/39b051683087a22ef7e80ec52152a27249d1a644ccf4e442ea\n",
            "Successfully built object-detection\n",
            "Installing collected packages: object-detection\n",
            "Successfully installed object-detection-0.1\n"
          ],
          "name": "stdout"
        }
      ]
    },
    {
      "cell_type": "code",
      "metadata": {
        "id": "2ks9_iy-KkyK",
        "colab_type": "code",
        "colab": {
          "base_uri": "https://localhost:8080/",
          "height": 54
        },
        "outputId": "7ff99e10-7948-4365-eee7-bdaa4ec8deca"
      },
      "source": [
        "print(os.path.abspath(''))\n",
        "os.chdir('../../')\n",
        "print(os.path.abspath(''))"
      ],
      "execution_count": 8,
      "outputs": [
        {
          "output_type": "stream",
          "text": [
            "/content/models/research\n",
            "/content\n"
          ],
          "name": "stdout"
        }
      ]
    },
    {
      "cell_type": "code",
      "metadata": {
        "id": "lGMfyCZRAV0m",
        "colab_type": "code",
        "outputId": "0492ab82-cb9e-42f1-9236-0ac057c8ed3a",
        "colab": {
          "base_uri": "https://localhost:8080/",
          "height": 74
        }
      },
      "source": [
        "%matplotlib inline\n",
        "import glob\n",
        "ROOT_DIR = os.path.abspath('')\n",
        "PATH_TO_TENSORFLOW_OBJECT_DETECTION_FOLDER = os.path.join(ROOT_DIR, 'models/research/object_detection')\n",
        "print(list(glob.iglob(PATH_TO_TENSORFLOW_OBJECT_DETECTION_FOLDER + '/*')))\n",
        "print(PATH_TO_TENSORFLOW_OBJECT_DETECTION_FOLDER)\n",
        "PATH_TO_DARKFLOW_FOLDER = 'content/darkflow'\n",
        "# Append your Tensorflow object detection and darkflow directories to your path\n",
        "sys.path.append(PATH_TO_TENSORFLOW_OBJECT_DETECTION_FOLDER) # ~/tensorflow/models/research/object_detection\n",
        "sys.path.append(PATH_TO_DARKFLOW_FOLDER) # ~/darkflow\n",
        "from utils import label_map_util\n",
        "from utils import visualization_utils as vis_util"
      ],
      "execution_count": 9,
      "outputs": [
        {
          "output_type": "stream",
          "text": [
            "['/content/models/research/object_detection/dockerfiles', '/content/models/research/object_detection/object_detection_tutorial.ipynb', '/content/models/research/object_detection/g3doc', '/content/models/research/object_detection/model_lib.py', '/content/models/research/object_detection/dataset_tools', '/content/models/research/object_detection/model_lib_v2_test.py', '/content/models/research/object_detection/exporter_test.py', '/content/models/research/object_detection/tpu_exporters', '/content/models/research/object_detection/predictors', '/content/models/research/object_detection/inputs.py', '/content/models/research/object_detection/export_inference_graph.py', '/content/models/research/object_detection/model_lib_test.py', '/content/models/research/object_detection/test_images', '/content/models/research/object_detection/utils', '/content/models/research/object_detection/inputs_test.py', '/content/models/research/object_detection/data_decoders', '/content/models/research/object_detection/inference', '/content/models/research/object_detection/eval_util_test.py', '/content/models/research/object_detection/__init__.py', '/content/models/research/object_detection/export_tflite_ssd_graph_lib_test.py', '/content/models/research/object_detection/export_tflite_ssd_graph.py', '/content/models/research/object_detection/builders', '/content/models/research/object_detection/legacy', '/content/models/research/object_detection/anchor_generators', '/content/models/research/object_detection/model_lib_v2.py', '/content/models/research/object_detection/test_data', '/content/models/research/object_detection/core', '/content/models/research/object_detection/matchers', '/content/models/research/object_detection/models', '/content/models/research/object_detection/meta_architectures', '/content/models/research/object_detection/samples', '/content/models/research/object_detection/eval_util.py', '/content/models/research/object_detection/model_main.py', '/content/models/research/object_detection/test_ckpt', '/content/models/research/object_detection/model_tpu_main.py', '/content/models/research/object_detection/export_tflite_ssd_graph_lib.py', '/content/models/research/object_detection/box_coders', '/content/models/research/object_detection/README.md', '/content/models/research/object_detection/model_hparams.py', '/content/models/research/object_detection/metrics', '/content/models/research/object_detection/CONTRIBUTING.md', '/content/models/research/object_detection/exporter.py', '/content/models/research/object_detection/data', '/content/models/research/object_detection/protos']\n",
            "/content/models/research/object_detection\n"
          ],
          "name": "stdout"
        }
      ]
    },
    {
      "cell_type": "markdown",
      "metadata": {
        "id": "jTP4ewBNAV0t",
        "colab_type": "text"
      },
      "source": [
        "# Tensorflow Object Detection API"
      ]
    },
    {
      "cell_type": "code",
      "metadata": {
        "id": "d5I0rpB2PNVx",
        "colab_type": "code",
        "colab": {
          "base_uri": "https://localhost:8080/",
          "height": 163
        },
        "outputId": "33c3cde1-3dcc-4fb2-cf77-fcb4a63b1b60"
      },
      "source": [
        "# Download model\n",
        "!pip install gdown"
      ],
      "execution_count": 10,
      "outputs": [
        {
          "output_type": "stream",
          "text": [
            "Requirement already satisfied: gdown in /usr/local/lib/python3.6/dist-packages (3.6.4)\n",
            "Requirement already satisfied: tqdm in /usr/local/lib/python3.6/dist-packages (from gdown) (4.38.0)\n",
            "Requirement already satisfied: requests in /usr/local/lib/python3.6/dist-packages (from gdown) (2.21.0)\n",
            "Requirement already satisfied: six in /usr/local/lib/python3.6/dist-packages (from gdown) (1.12.0)\n",
            "Requirement already satisfied: certifi>=2017.4.17 in /usr/local/lib/python3.6/dist-packages (from requests->gdown) (2019.11.28)\n",
            "Requirement already satisfied: chardet<3.1.0,>=3.0.2 in /usr/local/lib/python3.6/dist-packages (from requests->gdown) (3.0.4)\n",
            "Requirement already satisfied: urllib3<1.25,>=1.21.1 in /usr/local/lib/python3.6/dist-packages (from requests->gdown) (1.24.3)\n",
            "Requirement already satisfied: idna<2.9,>=2.5 in /usr/local/lib/python3.6/dist-packages (from requests->gdown) (2.8)\n"
          ],
          "name": "stdout"
        }
      ]
    },
    {
      "cell_type": "code",
      "metadata": {
        "id": "Oe6NqbR8QQ8U",
        "colab_type": "code",
        "colab": {
          "base_uri": "https://localhost:8080/",
          "height": 90
        },
        "outputId": "df9caa5a-d8b9-4130-aa2e-1699c7f0af1e"
      },
      "source": [
        "# Download faster_rcnn_inception_resnet_v2_atrous.zip\n",
        "!gdown 'https://drive.google.com/uc?id=12vLvA9wyJ9lRuDl9H9Tls0z5jsX0I0Da'\n"
      ],
      "execution_count": 11,
      "outputs": [
        {
          "output_type": "stream",
          "text": [
            "Downloading...\n",
            "From: https://drive.google.com/uc?id=12vLvA9wyJ9lRuDl9H9Tls0z5jsX0I0Da\n",
            "To: /content/faster_rcnn_inception_resnet_v2_atrous.zip\n",
            "222MB [00:02, 102MB/s]\n"
          ],
          "name": "stdout"
        }
      ]
    },
    {
      "cell_type": "code",
      "metadata": {
        "id": "bIysLztsQ0zB",
        "colab_type": "code",
        "colab": {
          "base_uri": "https://localhost:8080/",
          "height": 108
        },
        "outputId": "25540a76-735d-4ebc-a3ec-20015c633f88"
      },
      "source": [
        "!unzip /content/faster_rcnn_inception_resnet_v2_atrous.zip -d /content/faster_rcnn_inception_resnet_v2_atrous/\n",
        "!rm -r faster_rcnn_inception_resnet_v2_atrous.zip"
      ],
      "execution_count": 12,
      "outputs": [
        {
          "output_type": "stream",
          "text": [
            "Archive:  /content/faster_rcnn_inception_resnet_v2_atrous.zip\n",
            "   creating: /content/faster_rcnn_inception_resnet_v2_atrous/inference_graph/\n",
            "  inflating: /content/faster_rcnn_inception_resnet_v2_atrous/inference_graph/frozen_inference_graph.pb  \n",
            "  inflating: /content/faster_rcnn_inception_resnet_v2_atrous/faster_rcnn_inception_resnet_v2_atrous_gtsdb3.config  \n",
            "  inflating: /content/faster_rcnn_inception_resnet_v2_atrous/detections_output_result.pkl  \n"
          ],
          "name": "stdout"
        }
      ]
    },
    {
      "cell_type": "markdown",
      "metadata": {
        "id": "ZC86sKrGAV0w",
        "colab_type": "text"
      },
      "source": [
        "## Model preparation "
      ]
    },
    {
      "cell_type": "code",
      "metadata": {
        "id": "Lkh6r9rIAV0x",
        "colab_type": "code",
        "colab": {}
      },
      "source": [
        "MODEL_NAME = 'faster_rcnn_inception_resnet_v2_atrous'\n",
        "# MODEL_NAME = 'faster_rcnn_resnet_101'\n",
        "# MODEL_NAME = 'faster_rcnn_resnet50'\n",
        "# MODEL_NAME = 'faster_rcnn_inception_v2'\n",
        "# MODEL_NAME = 'rfcn_resnet101'\n",
        "# MODEL_NAME = 'ssd_inception_v2'\n",
        "# MODEL_NAME = 'ssd_mobilenet_v1'"
      ],
      "execution_count": 0,
      "outputs": []
    },
    {
      "cell_type": "code",
      "metadata": {
        "id": "Ow-h6GTkAV03",
        "colab_type": "code",
        "colab": {}
      },
      "source": [
        "# Path to frozen detection graph. This is the actual model that is used for the traffic sign detection.\n",
        "MODEL_PATH = os.path.join(MODEL_NAME)\n",
        "PATH_TO_CKPT = os.path.join(MODEL_PATH,'inference_graph/frozen_inference_graph.pb')\n",
        "\n",
        "# List of the strings that is used to add correct label for each box.\n",
        "PATH_TO_LABELS = os.path.join('/content/traffic-sign-detection/scripts/gtsdb3_label_map.pbtxt')\n",
        "\n",
        "NUM_CLASSES = 43"
      ],
      "execution_count": 0,
      "outputs": []
    },
    {
      "cell_type": "markdown",
      "metadata": {
        "id": "mVrS-7qxAV08",
        "colab_type": "text"
      },
      "source": [
        "## Load a (frozen) Tensorflow model into memory"
      ]
    },
    {
      "cell_type": "code",
      "metadata": {
        "id": "P4Orc67-AV1B",
        "colab_type": "code",
        "colab": {}
      },
      "source": [
        "detection_graph = tf.Graph()\n",
        "with detection_graph.as_default():\n",
        "    od_graph_def = tf.GraphDef()\n",
        "    with tf.gfile.GFile(PATH_TO_CKPT, 'rb') as fid:\n",
        "        serialized_graph = fid.read()\n",
        "        od_graph_def.ParseFromString(serialized_graph)\n",
        "        tf.import_graph_def(od_graph_def, name='')"
      ],
      "execution_count": 0,
      "outputs": []
    },
    {
      "cell_type": "markdown",
      "metadata": {
        "id": "CKHPkUbjAV1F",
        "colab_type": "text"
      },
      "source": [
        "## Loading label map\n",
        "Label maps map indices to category names, so that when our convolution network predicts `2`, we know that this corresponds to `mandatory`."
      ]
    },
    {
      "cell_type": "code",
      "metadata": {
        "id": "5LMgFwWfAV1H",
        "colab_type": "code",
        "colab": {
          "base_uri": "https://localhost:8080/",
          "height": 253
        },
        "outputId": "5a71afc2-079d-46fa-920a-ac9f24d35d81"
      },
      "source": [
        "label_map = label_map_util.load_labelmap(PATH_TO_LABELS)\n",
        "categories = label_map_util.convert_label_map_to_categories(label_map, max_num_classes=NUM_CLASSES, use_display_name=True)\n",
        "category_index = label_map_util.create_category_index(categories)\n",
        "print(label_map)"
      ],
      "execution_count": 16,
      "outputs": [
        {
          "output_type": "stream",
          "text": [
            "item {\n",
            "  name: \"prohibitory\"\n",
            "  id: 1\n",
            "}\n",
            "item {\n",
            "  name: \"mandatory\"\n",
            "  id: 2\n",
            "}\n",
            "item {\n",
            "  name: \"danger\"\n",
            "  id: 3\n",
            "}\n",
            "\n"
          ],
          "name": "stdout"
        }
      ]
    },
    {
      "cell_type": "markdown",
      "metadata": {
        "id": "yGMbB_U1AV1P",
        "colab_type": "text"
      },
      "source": [
        "## Helper code"
      ]
    },
    {
      "cell_type": "code",
      "metadata": {
        "id": "htoNOqqmAV1Q",
        "colab_type": "code",
        "colab": {}
      },
      "source": [
        "def load_image_into_numpy_array(image):\n",
        "    (im_width, im_height) = image.size\n",
        "    return np.array(image.getdata()).reshape((im_height, im_width, 3)).astype(np.uint8)"
      ],
      "execution_count": 0,
      "outputs": []
    },
    {
      "cell_type": "markdown",
      "metadata": {
        "id": "9NddOYguAV1Y",
        "colab_type": "text"
      },
      "source": [
        "## Detection"
      ]
    },
    {
      "cell_type": "code",
      "metadata": {
        "id": "12rkYUciAV1a",
        "colab_type": "code",
        "colab": {
          "base_uri": "https://localhost:8080/",
          "height": 35
        },
        "outputId": "9b26aa7d-ac10-456b-f5fb-a4a3bd15093c"
      },
      "source": [
        "# For the sake of simplicity we will use only 2 images:\n",
        "# image1.jpg\n",
        "# image2.jpg\n",
        "# If you want to test the code with your images, just add path to the images to the TEST_IMAGE_PATHS.\n",
        "PATH_TO_TEST_IMAGES_DIR = 'images'\n",
        "TEST_IMAGE_PATHS = glob.glob(os.path.join(PATH_TO_TEST_IMAGES_DIR, '*.jpg'))\n",
        "print(TEST_IMAGE_PATHS)\n",
        "# Size, in inches, of the output images.\n",
        "IMAGE_SIZE = (20, 20)"
      ],
      "execution_count": 33,
      "outputs": [
        {
          "output_type": "stream",
          "text": [
            "['images/ZzZvgZzpEwloaJPQzkcHZw.jpg', 'images/KYql_ZQlJeJj192TPN3kvQ.jpg']\n"
          ],
          "name": "stdout"
        }
      ]
    },
    {
      "cell_type": "code",
      "metadata": {
        "scrolled": true,
        "id": "887NeAQbAV1e",
        "colab_type": "code",
        "colab": {}
      },
      "source": [
        "with detection_graph.as_default():\n",
        "    with tf.Session(graph=detection_graph) as sess:\n",
        "        for idx, image_path in enumerate(TEST_IMAGE_PATHS):\n",
        "            image = Image.open(image_path)\n",
        "            # the array based representation of the image will be used later in order to prepare the\n",
        "            # result image with boxes and labels on it.\n",
        "            image_np = load_image_into_numpy_array(image)\n",
        "            # Expand dimensions since the model expects images to have shape: [1, None, None, 3]\n",
        "            image_np_expanded = np.expand_dims(image_np, axis=0)\n",
        "            image_tensor = detection_graph.get_tensor_by_name('image_tensor:0')\n",
        "            # Each box represents a part of the image where a particular object was detected.\n",
        "            boxes = detection_graph.get_tensor_by_name('detection_boxes:0')\n",
        "            # Each score represent how level of confidence for each of the objects.\n",
        "            # Score is shown on the result image, together with the class label.\n",
        "            scores = detection_graph.get_tensor_by_name('detection_scores:0')\n",
        "            classes = detection_graph.get_tensor_by_name('detection_classes:0')\n",
        "            num_detections = detection_graph.get_tensor_by_name('num_detections:0')\n",
        "            # Actual detection.\n",
        "            (boxes, scores, classes, num_detections) = sess.run(\n",
        "                [boxes, scores, classes, num_detections],\n",
        "                feed_dict={image_tensor: image_np_expanded})\n",
        "            # Visualization of the results of a detection.\n",
        "            vis_util.visualize_boxes_and_labels_on_image_array(\n",
        "                image_np,\n",
        "                np.squeeze(boxes),\n",
        "                np.squeeze(classes).astype(np.int32),\n",
        "                np.squeeze(scores),\n",
        "                category_index,\n",
        "                use_normalized_coordinates=True,\n",
        "                line_thickness=6)\n",
        "            plt.figure(idx, figsize=IMAGE_SIZE)\n",
        "            plt.axis('off')\n",
        "            plt.imshow(image_np)"
      ],
      "execution_count": 0,
      "outputs": []
    },
    {
      "cell_type": "markdown",
      "metadata": {
        "id": "f2sFYJ0fAV1j",
        "colab_type": "text"
      },
      "source": [
        "## Model preparation "
      ]
    },
    {
      "cell_type": "markdown",
      "metadata": {
        "id": "Cbr8Kb18AV1q",
        "colab_type": "text"
      },
      "source": [
        "## Helper code"
      ]
    },
    {
      "cell_type": "code",
      "metadata": {
        "id": "kAli4gpMAV1r",
        "colab_type": "code",
        "colab": {}
      },
      "source": [
        "def plot_rectangle(bbox, ax, class_name, edgecolor, confidence=None):\n",
        "    xmin = bbox[0]\n",
        "    ymin = bbox[1]\n",
        "    xmax = bbox[2]\n",
        "    ymax = bbox[3]\n",
        "    left = xmin\n",
        "    right = xmax\n",
        "    top = ymin\n",
        "    bot = ymax\n",
        "    ax.add_patch(\n",
        "        plt.Rectangle((left, top),\n",
        "                      right-left,\n",
        "                      bot-top, fill=False,\n",
        "                      edgecolor=edgecolor, linewidth=3.5)\n",
        "        )\n",
        "    label = '{:s}'.format(class_name)\n",
        "    label_pos_y = top-10\n",
        "    if confidence:\n",
        "        label += ' {0:.2f}'.format(confidence)\n",
        "        label_pos_y = bot+20\n",
        "    ax.text(left, label_pos_y,label,\n",
        "            bbox=dict(facecolor=edgecolor, alpha=0.5),\n",
        "            fontsize=14, color='white')"
      ],
      "execution_count": 0,
      "outputs": []
    },
    {
      "cell_type": "code",
      "metadata": {
        "id": "fX2qkiThAV1y",
        "colab_type": "code",
        "colab": {}
      },
      "source": [
        "def get_label_id(label_name):\n",
        "    for category in categories:\n",
        "        if category['name'] == label_name:\n",
        "            return category['id']"
      ],
      "execution_count": 0,
      "outputs": []
    },
    {
      "cell_type": "markdown",
      "metadata": {
        "id": "zE8rYlIfAV14",
        "colab_type": "text"
      },
      "source": [
        "## Detection"
      ]
    },
    {
      "cell_type": "code",
      "metadata": {
        "id": "krHT8w6lAV16",
        "colab_type": "code",
        "colab": {
          "base_uri": "https://localhost:8080/",
          "height": 244
        },
        "outputId": "fcaa4134-1ef0-41a0-c013-6ac09797529c"
      },
      "source": [
        "min_score_thresh = 0.5\n",
        "for image_path in TEST_IMAGE_PATHS:\n",
        "    fig, ax = plt.subplots(figsize=(20, 20))\n",
        "    image = Image.open(image_path)\n",
        "    image_name = os.path.basename(image_path)\n",
        "    width, height = image.size\n",
        "    ax.imshow(image)\n",
        "    \n",
        "    image_np = load_image_into_numpy_array(image)\n",
        "    image_np = image_np[:,:,::-1] # rgb -> bgr\n",
        "    pred_results = tfnet.return_predict(image_np)\n",
        "\n",
        "    for idx, det in enumerate(pred_results):\n",
        "        score = det['confidence']\n",
        "        if score > min_score_thresh:\n",
        "            bbox = det['topleft']['x'], det['topleft']['y'], det['bottomright']['x'], det['bottomright']['y']\n",
        "            label = get_label_id(det['label'])\n",
        "            plot_rectangle(bbox,ax,category_index[label]['name'],'red', score)\n",
        "    plt.draw()\n",
        "    fig.tight_layout()\n",
        "    plt.axis('off')\n",
        "    plt.show()"
      ],
      "execution_count": 31,
      "outputs": [
        {
          "output_type": "error",
          "ename": "NameError",
          "evalue": "ignored",
          "traceback": [
            "\u001b[0;31m---------------------------------------------------------------------------\u001b[0m",
            "\u001b[0;31mNameError\u001b[0m                                 Traceback (most recent call last)",
            "\u001b[0;32m<ipython-input-31-b9b491cc6cb5>\u001b[0m in \u001b[0;36m<module>\u001b[0;34m()\u001b[0m\n\u001b[1;32m      9\u001b[0m     \u001b[0mimage_np\u001b[0m \u001b[0;34m=\u001b[0m \u001b[0mload_image_into_numpy_array\u001b[0m\u001b[0;34m(\u001b[0m\u001b[0mimage\u001b[0m\u001b[0;34m)\u001b[0m\u001b[0;34m\u001b[0m\u001b[0;34m\u001b[0m\u001b[0m\n\u001b[1;32m     10\u001b[0m     \u001b[0mimage_np\u001b[0m \u001b[0;34m=\u001b[0m \u001b[0mimage_np\u001b[0m\u001b[0;34m[\u001b[0m\u001b[0;34m:\u001b[0m\u001b[0;34m,\u001b[0m\u001b[0;34m:\u001b[0m\u001b[0;34m,\u001b[0m\u001b[0;34m:\u001b[0m\u001b[0;34m:\u001b[0m\u001b[0;34m-\u001b[0m\u001b[0;36m1\u001b[0m\u001b[0;34m]\u001b[0m \u001b[0;31m# rgb -> bgr\u001b[0m\u001b[0;34m\u001b[0m\u001b[0;34m\u001b[0m\u001b[0m\n\u001b[0;32m---> 11\u001b[0;31m     \u001b[0mpred_results\u001b[0m \u001b[0;34m=\u001b[0m \u001b[0mtfnet\u001b[0m\u001b[0;34m.\u001b[0m\u001b[0mreturn_predict\u001b[0m\u001b[0;34m(\u001b[0m\u001b[0mimage_np\u001b[0m\u001b[0;34m)\u001b[0m\u001b[0;34m\u001b[0m\u001b[0;34m\u001b[0m\u001b[0m\n\u001b[0m\u001b[1;32m     12\u001b[0m \u001b[0;34m\u001b[0m\u001b[0m\n\u001b[1;32m     13\u001b[0m     \u001b[0;32mfor\u001b[0m \u001b[0midx\u001b[0m\u001b[0;34m,\u001b[0m \u001b[0mdet\u001b[0m \u001b[0;32min\u001b[0m \u001b[0menumerate\u001b[0m\u001b[0;34m(\u001b[0m\u001b[0mpred_results\u001b[0m\u001b[0;34m)\u001b[0m\u001b[0;34m:\u001b[0m\u001b[0;34m\u001b[0m\u001b[0;34m\u001b[0m\u001b[0m\n",
            "\u001b[0;31mNameError\u001b[0m: name 'tfnet' is not defined"
          ]
        }
      ]
    }
  ]
}